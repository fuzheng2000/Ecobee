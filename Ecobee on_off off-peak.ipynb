{
 "cells": [
  {
   "cell_type": "code",
   "execution_count": 1,
   "metadata": {
    "ExecuteTime": {
     "end_time": "2021-04-14T20:57:17.983048Z",
     "start_time": "2021-04-14T20:57:17.970045Z"
    }
   },
   "outputs": [],
   "source": [
    "import warnings\n",
    "warnings.simplefilter('ignore')\n",
    "\n",
    "import numpy as np\n",
    "import pandas as pd\n",
    "import seaborn as sns\n",
    "import matplotlib.pyplot as plt\n",
    "import os\n",
    "\n",
    "\n",
    "import graphviz\n",
    "from sklearn import tree\n",
    "from sklearn.tree import DecisionTreeClassifier\n",
    "from sklearn.preprocessing import LabelEncoder\n",
    "\n",
    "%matplotlib inline"
   ]
  },
  {
   "cell_type": "code",
   "execution_count": 2,
   "metadata": {},
   "outputs": [],
   "source": [
    "%load_ext blackcellmagic"
   ]
  },
  {
   "cell_type": "code",
   "execution_count": 3,
   "metadata": {
    "ExecuteTime": {
     "end_time": "2021-04-14T20:57:18.015056Z",
     "start_time": "2021-04-14T20:57:17.985048Z"
    }
   },
   "outputs": [],
   "source": [
    "# directory_19 = r'F:\\Ecobee\\files\\2019_sac'\n",
    "# for filename in os.listdir(directory_19):\n",
    "#     if filename.endswith(\".zip\"):\n",
    "#         print(os.path.join(directory_19, filename))\n",
    "#     else:\n",
    "#         continue"
   ]
  },
  {
   "cell_type": "code",
   "execution_count": 4,
   "metadata": {
    "ExecuteTime": {
     "end_time": "2021-04-14T20:57:18.031059Z",
     "start_time": "2021-04-14T20:57:18.016055Z"
    }
   },
   "outputs": [],
   "source": [
    "# users_sac_2019_name_list_csv=[w[:-4] for w in os.listdir(directory_19)]\n",
    "\n",
    "# users_sac_2019_name_list_csv"
   ]
  },
  {
   "cell_type": "code",
   "execution_count": 5,
   "metadata": {
    "ExecuteTime": {
     "end_time": "2021-04-14T20:58:16.950711Z",
     "start_time": "2021-04-14T20:57:18.033059Z"
    }
   },
   "outputs": [],
   "source": [
    "from zipfile import ZipFile\n",
    "directory_18 = r'F:\\Ecobee\\files\\2018_sac'\n",
    "df_sac_18_daily_offpeak = pd.DataFrame()\n",
    "import datetime\n",
    "for filename in os.listdir(directory_18):\n",
    "    myzip = ZipFile(os.path.join(directory_18, filename))\n",
    "    g = myzip.open(filename[:-4])\n",
    "    df_temp = pd.read_csv(g, parse_dates=['DateTime'])\n",
    "    df_temp1 = pd.get_dummies(df_temp, columns=['HvacMode'])\n",
    "    df_temp1['Date'] = df_temp1['DateTime'].dt.date\n",
    "    df_temp1['user_id'] = filename[:-8]\n",
    "    df_temp1 = df_temp1[(df_temp1['DateTime'].dt.hour >= 0) &\n",
    "                        (df_temp1['DateTime'].dt.hour < 12) &\n",
    "                        (df_temp1['DateTime'].dt.month >= 6) &\n",
    "                        (df_temp1['DateTime'].dt.month <=\n",
    "                         9)]  #summer days only\n",
    "    df_day = df_temp1.groupby([df_temp1['Date']]).agg(\n",
    "        daily_total_heating=pd.NamedAgg(column='auxHeat1', aggfunc=sum),\n",
    "        daily_total_cooling=pd.NamedAgg(column='compCool1', aggfunc=sum),\n",
    "        user_id=pd.NamedAgg(column='user_id', aggfunc=min)).reset_index()\n",
    "    df_day['daily_total_heating'] = df_day['daily_total_heating'] / 3600\n",
    "    df_day['daily_total_cooling'] = df_day['daily_total_cooling'] / 3600\n",
    "    df_sac_18_daily_offpeak = pd.concat([df_sac_18_daily_offpeak, df_day])\n",
    "    g.close()\n",
    "    myzip.close()"
   ]
  },
  {
   "cell_type": "code",
   "execution_count": 6,
   "metadata": {
    "ExecuteTime": {
     "end_time": "2021-04-14T20:58:16.966714Z",
     "start_time": "2021-04-14T20:58:16.951711Z"
    }
   },
   "outputs": [
    {
     "name": "stdout",
     "output_type": "stream",
     "text": [
      "<class 'pandas.core.frame.DataFrame'>\n",
      "Int64Index: 21189 entries, 0 to 121\n",
      "Data columns (total 4 columns):\n",
      " #   Column               Non-Null Count  Dtype  \n",
      "---  ------               --------------  -----  \n",
      " 0   Date                 21189 non-null  object \n",
      " 1   daily_total_heating  21189 non-null  float64\n",
      " 2   daily_total_cooling  21189 non-null  float64\n",
      " 3   user_id              21189 non-null  object \n",
      "dtypes: float64(2), object(2)\n",
      "memory usage: 827.7+ KB\n"
     ]
    }
   ],
   "source": [
    "df_sac_18_daily_offpeak.info()"
   ]
  },
  {
   "cell_type": "code",
   "execution_count": 7,
   "metadata": {
    "ExecuteTime": {
     "end_time": "2021-04-14T20:58:16.982719Z",
     "start_time": "2021-04-14T20:58:16.968715Z"
    }
   },
   "outputs": [],
   "source": [
    "pd.set_option('display.max_rows', None)\n",
    "#remove user_ids that have no cooling consumption at all for 2018\n",
    "df_18_temp=df_sac_18_daily_offpeak[['user_id', 'daily_total_cooling']].groupby('user_id').max().reset_index()\n",
    "df_18_temp['any_usage']=(df_18_temp.daily_total_cooling>0)\n",
    "df_18_temp=df_18_temp['user_id'][df_18_temp['any_usage']==True]\n",
    "df_sac_18_daily_offpeak=pd.merge(df_18_temp,df_sac_18_daily_offpeak,how='left', on='user_id')\n"
   ]
  },
  {
   "cell_type": "code",
   "execution_count": 8,
   "metadata": {
    "ExecuteTime": {
     "end_time": "2021-04-14T20:58:16.998721Z",
     "start_time": "2021-04-14T20:58:16.983718Z"
    }
   },
   "outputs": [
    {
     "data": {
      "text/html": [
       "<div>\n",
       "<style scoped>\n",
       "    .dataframe tbody tr th:only-of-type {\n",
       "        vertical-align: middle;\n",
       "    }\n",
       "\n",
       "    .dataframe tbody tr th {\n",
       "        vertical-align: top;\n",
       "    }\n",
       "\n",
       "    .dataframe thead th {\n",
       "        text-align: right;\n",
       "    }\n",
       "</style>\n",
       "<table border=\"1\" class=\"dataframe\">\n",
       "  <thead>\n",
       "    <tr style=\"text-align: right;\">\n",
       "      <th></th>\n",
       "      <th>user_id</th>\n",
       "      <th>Date</th>\n",
       "      <th>daily_total_heating</th>\n",
       "      <th>daily_total_cooling</th>\n",
       "    </tr>\n",
       "  </thead>\n",
       "  <tbody>\n",
       "    <tr>\n",
       "      <th>0</th>\n",
       "      <td>0038e4cc0089e5a289601a79af4b6c6f2c9efc97</td>\n",
       "      <td>2018-06-01</td>\n",
       "      <td>0.0</td>\n",
       "      <td>0.000000</td>\n",
       "    </tr>\n",
       "    <tr>\n",
       "      <th>1</th>\n",
       "      <td>0038e4cc0089e5a289601a79af4b6c6f2c9efc97</td>\n",
       "      <td>2018-06-02</td>\n",
       "      <td>0.0</td>\n",
       "      <td>0.162500</td>\n",
       "    </tr>\n",
       "    <tr>\n",
       "      <th>2</th>\n",
       "      <td>0038e4cc0089e5a289601a79af4b6c6f2c9efc97</td>\n",
       "      <td>2018-06-03</td>\n",
       "      <td>0.0</td>\n",
       "      <td>0.845833</td>\n",
       "    </tr>\n",
       "    <tr>\n",
       "      <th>3</th>\n",
       "      <td>0038e4cc0089e5a289601a79af4b6c6f2c9efc97</td>\n",
       "      <td>2018-06-04</td>\n",
       "      <td>0.0</td>\n",
       "      <td>1.654167</td>\n",
       "    </tr>\n",
       "    <tr>\n",
       "      <th>4</th>\n",
       "      <td>0038e4cc0089e5a289601a79af4b6c6f2c9efc97</td>\n",
       "      <td>2018-06-05</td>\n",
       "      <td>0.0</td>\n",
       "      <td>0.308333</td>\n",
       "    </tr>\n",
       "  </tbody>\n",
       "</table>\n",
       "</div>"
      ],
      "text/plain": [
       "                                    user_id        Date  daily_total_heating  \\\n",
       "0  0038e4cc0089e5a289601a79af4b6c6f2c9efc97  2018-06-01                  0.0   \n",
       "1  0038e4cc0089e5a289601a79af4b6c6f2c9efc97  2018-06-02                  0.0   \n",
       "2  0038e4cc0089e5a289601a79af4b6c6f2c9efc97  2018-06-03                  0.0   \n",
       "3  0038e4cc0089e5a289601a79af4b6c6f2c9efc97  2018-06-04                  0.0   \n",
       "4  0038e4cc0089e5a289601a79af4b6c6f2c9efc97  2018-06-05                  0.0   \n",
       "\n",
       "   daily_total_cooling  \n",
       "0             0.000000  \n",
       "1             0.162500  \n",
       "2             0.845833  \n",
       "3             1.654167  \n",
       "4             0.308333  "
      ]
     },
     "execution_count": 8,
     "metadata": {},
     "output_type": "execute_result"
    }
   ],
   "source": [
    "df_sac_18_daily_offpeak.head()"
   ]
  },
  {
   "cell_type": "code",
   "execution_count": 9,
   "metadata": {
    "ExecuteTime": {
     "end_time": "2021-04-14T21:00:17.426438Z",
     "start_time": "2021-04-14T20:58:16.999722Z"
    }
   },
   "outputs": [],
   "source": [
    "from zipfile import ZipFile\n",
    "directory_19 = r'F:\\Ecobee\\files\\2019_sac'\n",
    "df_sac_19_daily_offpeak = pd.DataFrame()\n",
    "import datetime\n",
    "for filename in os.listdir(directory_19):\n",
    "    myzip = ZipFile(os.path.join(directory_19, filename))\n",
    "    f = myzip.open(filename[:-4])\n",
    "    df_temp = pd.read_csv(f, parse_dates=['DateTime'])\n",
    "    df_temp1 = pd.get_dummies(df_temp, columns=['HvacMode'])\n",
    "    df_temp1['Date'] = df_temp1['DateTime'].dt.date\n",
    "    df_temp1['user_id'] = filename[:-8]\n",
    "    df_temp1 = df_temp1[(df_temp1['DateTime'].dt.hour >= 17) &\n",
    "                        (df_temp1['DateTime'].dt.hour < 20) &\n",
    "                        (df_temp1['DateTime'].dt.month >= 6) &\n",
    "                        (df_temp1['DateTime'].dt.month <=\n",
    "                         9)]  #summer days only\n",
    "    df_day = df_temp1.groupby([df_temp1['Date']]).agg(\n",
    "        daily_total_heating=pd.NamedAgg(column='auxHeat1', aggfunc=sum),\n",
    "        daily_total_cooling=pd.NamedAgg(column='compCool1', aggfunc=sum),\n",
    "        user_id=pd.NamedAgg(column='user_id', aggfunc=min)).reset_index()\n",
    "    df_day['daily_total_heating'] = df_day['daily_total_heating'] / 3600\n",
    "    df_day['daily_total_cooling'] = df_day['daily_total_cooling'] / 3600\n",
    "    df_sac_19_daily_offpeak = pd.concat([df_sac_19_daily_offpeak, df_day])\n",
    "    f.close()\n",
    "    myzip.close()"
   ]
  },
  {
   "cell_type": "code",
   "execution_count": 10,
   "metadata": {
    "ExecuteTime": {
     "end_time": "2021-04-14T21:00:17.442442Z",
     "start_time": "2021-04-14T21:00:17.427439Z"
    }
   },
   "outputs": [
    {
     "data": {
      "text/html": [
       "<div>\n",
       "<style scoped>\n",
       "    .dataframe tbody tr th:only-of-type {\n",
       "        vertical-align: middle;\n",
       "    }\n",
       "\n",
       "    .dataframe tbody tr th {\n",
       "        vertical-align: top;\n",
       "    }\n",
       "\n",
       "    .dataframe thead th {\n",
       "        text-align: right;\n",
       "    }\n",
       "</style>\n",
       "<table border=\"1\" class=\"dataframe\">\n",
       "  <thead>\n",
       "    <tr style=\"text-align: right;\">\n",
       "      <th></th>\n",
       "      <th>Date</th>\n",
       "      <th>daily_total_heating</th>\n",
       "      <th>daily_total_cooling</th>\n",
       "      <th>user_id</th>\n",
       "    </tr>\n",
       "  </thead>\n",
       "  <tbody>\n",
       "    <tr>\n",
       "      <th>0</th>\n",
       "      <td>2019-06-01</td>\n",
       "      <td>0.0</td>\n",
       "      <td>1.937500</td>\n",
       "      <td>0038e4cc0089e5a289601a79af4b6c6f2c9efc97</td>\n",
       "    </tr>\n",
       "    <tr>\n",
       "      <th>1</th>\n",
       "      <td>2019-06-02</td>\n",
       "      <td>0.0</td>\n",
       "      <td>1.095833</td>\n",
       "      <td>0038e4cc0089e5a289601a79af4b6c6f2c9efc97</td>\n",
       "    </tr>\n",
       "    <tr>\n",
       "      <th>2</th>\n",
       "      <td>2019-06-03</td>\n",
       "      <td>0.0</td>\n",
       "      <td>0.945833</td>\n",
       "      <td>0038e4cc0089e5a289601a79af4b6c6f2c9efc97</td>\n",
       "    </tr>\n",
       "    <tr>\n",
       "      <th>3</th>\n",
       "      <td>2019-06-04</td>\n",
       "      <td>0.0</td>\n",
       "      <td>2.187500</td>\n",
       "      <td>0038e4cc0089e5a289601a79af4b6c6f2c9efc97</td>\n",
       "    </tr>\n",
       "    <tr>\n",
       "      <th>4</th>\n",
       "      <td>2019-06-05</td>\n",
       "      <td>0.0</td>\n",
       "      <td>1.791667</td>\n",
       "      <td>0038e4cc0089e5a289601a79af4b6c6f2c9efc97</td>\n",
       "    </tr>\n",
       "  </tbody>\n",
       "</table>\n",
       "</div>"
      ],
      "text/plain": [
       "         Date  daily_total_heating  daily_total_cooling  \\\n",
       "0  2019-06-01                  0.0             1.937500   \n",
       "1  2019-06-02                  0.0             1.095833   \n",
       "2  2019-06-03                  0.0             0.945833   \n",
       "3  2019-06-04                  0.0             2.187500   \n",
       "4  2019-06-05                  0.0             1.791667   \n",
       "\n",
       "                                    user_id  \n",
       "0  0038e4cc0089e5a289601a79af4b6c6f2c9efc97  \n",
       "1  0038e4cc0089e5a289601a79af4b6c6f2c9efc97  \n",
       "2  0038e4cc0089e5a289601a79af4b6c6f2c9efc97  \n",
       "3  0038e4cc0089e5a289601a79af4b6c6f2c9efc97  \n",
       "4  0038e4cc0089e5a289601a79af4b6c6f2c9efc97  "
      ]
     },
     "execution_count": 10,
     "metadata": {},
     "output_type": "execute_result"
    }
   ],
   "source": [
    "df_sac_19_daily_offpeak.head()\n",
    "#note there is a \"time jump\" from 2019-07-25 16:55 to 2019-07-26 17:00"
   ]
  },
  {
   "cell_type": "code",
   "execution_count": 11,
   "metadata": {
    "ExecuteTime": {
     "end_time": "2021-04-14T21:00:17.458445Z",
     "start_time": "2021-04-14T21:00:17.443442Z"
    }
   },
   "outputs": [],
   "source": [
    "# pd.set_option('display.max_rows', None)\n",
    "# #remove user_ids that have no cooling consumption at all for 2019\n",
    "# df_19_temp=df_sac_19_daily_offpeak[['user_id', 'daily_total_cooling']].groupby('user_id').max().reset_index()\n",
    "# df_19_temp['any_usage']=(df_19_temp.daily_total_cooling>0)\n",
    "# df_19_temp=df_19_temp['user_id'][df_19_temp['any_usage']==True]\n",
    "# df_sac_19_daily_offpeak=pd.merge(df_19_temp,df_sac_19_daily_offpeak,how='left', on='user_id')"
   ]
  },
  {
   "cell_type": "code",
   "execution_count": 12,
   "metadata": {
    "ExecuteTime": {
     "end_time": "2021-04-14T21:00:17.538463Z",
     "start_time": "2021-04-14T21:00:17.459446Z"
    }
   },
   "outputs": [
    {
     "data": {
      "text/html": [
       "<div>\n",
       "<style scoped>\n",
       "    .dataframe tbody tr th:only-of-type {\n",
       "        vertical-align: middle;\n",
       "    }\n",
       "\n",
       "    .dataframe tbody tr th {\n",
       "        vertical-align: top;\n",
       "    }\n",
       "\n",
       "    .dataframe thead th {\n",
       "        text-align: right;\n",
       "    }\n",
       "</style>\n",
       "<table border=\"1\" class=\"dataframe\">\n",
       "  <thead>\n",
       "    <tr style=\"text-align: right;\">\n",
       "      <th></th>\n",
       "      <th>Date</th>\n",
       "      <th>daily_total_heating</th>\n",
       "      <th>daily_total_cooling</th>\n",
       "      <th>user_id</th>\n",
       "    </tr>\n",
       "  </thead>\n",
       "  <tbody>\n",
       "    <tr>\n",
       "      <th>0</th>\n",
       "      <td>2019-06-01</td>\n",
       "      <td>0.0</td>\n",
       "      <td>1.937500</td>\n",
       "      <td>0038e4cc0089e5a289601a79af4b6c6f2c9efc97</td>\n",
       "    </tr>\n",
       "    <tr>\n",
       "      <th>1</th>\n",
       "      <td>2019-06-02</td>\n",
       "      <td>0.0</td>\n",
       "      <td>1.095833</td>\n",
       "      <td>0038e4cc0089e5a289601a79af4b6c6f2c9efc97</td>\n",
       "    </tr>\n",
       "    <tr>\n",
       "      <th>2</th>\n",
       "      <td>2019-06-03</td>\n",
       "      <td>0.0</td>\n",
       "      <td>0.945833</td>\n",
       "      <td>0038e4cc0089e5a289601a79af4b6c6f2c9efc97</td>\n",
       "    </tr>\n",
       "    <tr>\n",
       "      <th>3</th>\n",
       "      <td>2019-06-04</td>\n",
       "      <td>0.0</td>\n",
       "      <td>2.187500</td>\n",
       "      <td>0038e4cc0089e5a289601a79af4b6c6f2c9efc97</td>\n",
       "    </tr>\n",
       "    <tr>\n",
       "      <th>4</th>\n",
       "      <td>2019-06-05</td>\n",
       "      <td>0.0</td>\n",
       "      <td>1.791667</td>\n",
       "      <td>0038e4cc0089e5a289601a79af4b6c6f2c9efc97</td>\n",
       "    </tr>\n",
       "  </tbody>\n",
       "</table>\n",
       "</div>"
      ],
      "text/plain": [
       "         Date  daily_total_heating  daily_total_cooling  \\\n",
       "0  2019-06-01                  0.0             1.937500   \n",
       "1  2019-06-02                  0.0             1.095833   \n",
       "2  2019-06-03                  0.0             0.945833   \n",
       "3  2019-06-04                  0.0             2.187500   \n",
       "4  2019-06-05                  0.0             1.791667   \n",
       "\n",
       "                                    user_id  \n",
       "0  0038e4cc0089e5a289601a79af4b6c6f2c9efc97  \n",
       "1  0038e4cc0089e5a289601a79af4b6c6f2c9efc97  \n",
       "2  0038e4cc0089e5a289601a79af4b6c6f2c9efc97  \n",
       "3  0038e4cc0089e5a289601a79af4b6c6f2c9efc97  \n",
       "4  0038e4cc0089e5a289601a79af4b6c6f2c9efc97  "
      ]
     },
     "execution_count": 12,
     "metadata": {},
     "output_type": "execute_result"
    }
   ],
   "source": [
    "df_sac_19_daily_offpeak.head()"
   ]
  },
  {
   "cell_type": "code",
   "execution_count": 13,
   "metadata": {
    "ExecuteTime": {
     "end_time": "2021-04-14T21:00:17.554467Z",
     "start_time": "2021-04-14T21:00:17.539464Z"
    }
   },
   "outputs": [
    {
     "data": {
      "text/html": [
       "<div>\n",
       "<style scoped>\n",
       "    .dataframe tbody tr th:only-of-type {\n",
       "        vertical-align: middle;\n",
       "    }\n",
       "\n",
       "    .dataframe tbody tr th {\n",
       "        vertical-align: top;\n",
       "    }\n",
       "\n",
       "    .dataframe thead th {\n",
       "        text-align: right;\n",
       "    }\n",
       "</style>\n",
       "<table border=\"1\" class=\"dataframe\">\n",
       "  <thead>\n",
       "    <tr style=\"text-align: right;\">\n",
       "      <th></th>\n",
       "      <th>user_id</th>\n",
       "      <th>Date</th>\n",
       "      <th>daily_total_heating</th>\n",
       "      <th>daily_total_cooling</th>\n",
       "    </tr>\n",
       "  </thead>\n",
       "  <tbody>\n",
       "    <tr>\n",
       "      <th>0</th>\n",
       "      <td>0038e4cc0089e5a289601a79af4b6c6f2c9efc97</td>\n",
       "      <td>2018-06-01</td>\n",
       "      <td>0.0</td>\n",
       "      <td>0.000000</td>\n",
       "    </tr>\n",
       "    <tr>\n",
       "      <th>1</th>\n",
       "      <td>0038e4cc0089e5a289601a79af4b6c6f2c9efc97</td>\n",
       "      <td>2018-06-02</td>\n",
       "      <td>0.0</td>\n",
       "      <td>0.162500</td>\n",
       "    </tr>\n",
       "    <tr>\n",
       "      <th>2</th>\n",
       "      <td>0038e4cc0089e5a289601a79af4b6c6f2c9efc97</td>\n",
       "      <td>2018-06-03</td>\n",
       "      <td>0.0</td>\n",
       "      <td>0.845833</td>\n",
       "    </tr>\n",
       "    <tr>\n",
       "      <th>3</th>\n",
       "      <td>0038e4cc0089e5a289601a79af4b6c6f2c9efc97</td>\n",
       "      <td>2018-06-04</td>\n",
       "      <td>0.0</td>\n",
       "      <td>1.654167</td>\n",
       "    </tr>\n",
       "    <tr>\n",
       "      <th>4</th>\n",
       "      <td>0038e4cc0089e5a289601a79af4b6c6f2c9efc97</td>\n",
       "      <td>2018-06-05</td>\n",
       "      <td>0.0</td>\n",
       "      <td>0.308333</td>\n",
       "    </tr>\n",
       "  </tbody>\n",
       "</table>\n",
       "</div>"
      ],
      "text/plain": [
       "                                    user_id        Date  daily_total_heating  \\\n",
       "0  0038e4cc0089e5a289601a79af4b6c6f2c9efc97  2018-06-01                  0.0   \n",
       "1  0038e4cc0089e5a289601a79af4b6c6f2c9efc97  2018-06-02                  0.0   \n",
       "2  0038e4cc0089e5a289601a79af4b6c6f2c9efc97  2018-06-03                  0.0   \n",
       "3  0038e4cc0089e5a289601a79af4b6c6f2c9efc97  2018-06-04                  0.0   \n",
       "4  0038e4cc0089e5a289601a79af4b6c6f2c9efc97  2018-06-05                  0.0   \n",
       "\n",
       "   daily_total_cooling  \n",
       "0             0.000000  \n",
       "1             0.162500  \n",
       "2             0.845833  \n",
       "3             1.654167  \n",
       "4             0.308333  "
      ]
     },
     "execution_count": 13,
     "metadata": {},
     "output_type": "execute_result"
    }
   ],
   "source": [
    "df_sac_18n19_daily_offpeak=pd.concat([df_sac_18_daily_offpeak,df_sac_19_daily_offpeak])\n",
    "df_sac_18n19_daily_offpeak.head()"
   ]
  },
  {
   "cell_type": "code",
   "execution_count": 14,
   "metadata": {
    "ExecuteTime": {
     "end_time": "2021-04-14T21:00:17.570471Z",
     "start_time": "2021-04-14T21:00:17.555467Z"
    }
   },
   "outputs": [
    {
     "data": {
      "text/plain": [
       "243    27702\n",
       "121    19965\n",
       "242     1694\n",
       "241     1687\n",
       "222     1332\n",
       "236      708\n",
       "240      480\n",
       "239      478\n",
       "238      476\n",
       "117      468\n",
       "230      460\n",
       "218      436\n",
       "193      386\n",
       "119      357\n",
       "118      354\n",
       "122      244\n",
       "120      240\n",
       "237      237\n",
       "235      235\n",
       "234      234\n",
       "232      232\n",
       "231      231\n",
       "229      229\n",
       "228      228\n",
       "225      225\n",
       "224      224\n",
       "219      219\n",
       "217      217\n",
       "108      216\n",
       "211      211\n",
       "205      205\n",
       "97       194\n",
       "96       192\n",
       "186      186\n",
       "175      175\n",
       "84       168\n",
       "167      167\n",
       "83       166\n",
       "164      164\n",
       "157      157\n",
       "152      152\n",
       "144      144\n",
       "133      133\n",
       "125      125\n",
       "123      123\n",
       "115      115\n",
       "112      112\n",
       "110      110\n",
       "109      109\n",
       "101      101\n",
       "100      100\n",
       "94        94\n",
       "46        92\n",
       "89        89\n",
       "87        87\n",
       "73        73\n",
       "65        65\n",
       "37        37\n",
       "12        12\n",
       "3          3\n",
       "Name: count, dtype: int64"
      ]
     },
     "execution_count": 14,
     "metadata": {},
     "output_type": "execute_result"
    }
   ],
   "source": [
    "df_sac_18n19_daily_offpeak['count'] = df_sac_18n19_daily_offpeak.groupby('user_id')['user_id'].transform('count')\n",
    "df_sac_18n19_daily_offpeak['count'].value_counts()"
   ]
  },
  {
   "cell_type": "code",
   "execution_count": 15,
   "metadata": {
    "ExecuteTime": {
     "end_time": "2021-04-14T21:00:17.586474Z",
     "start_time": "2021-04-14T21:00:17.571471Z"
    }
   },
   "outputs": [
    {
     "data": {
      "text/html": [
       "<div>\n",
       "<style scoped>\n",
       "    .dataframe tbody tr th:only-of-type {\n",
       "        vertical-align: middle;\n",
       "    }\n",
       "\n",
       "    .dataframe tbody tr th {\n",
       "        vertical-align: top;\n",
       "    }\n",
       "\n",
       "    .dataframe thead th {\n",
       "        text-align: right;\n",
       "    }\n",
       "</style>\n",
       "<table border=\"1\" class=\"dataframe\">\n",
       "  <thead>\n",
       "    <tr style=\"text-align: right;\">\n",
       "      <th></th>\n",
       "      <th>user_id</th>\n",
       "      <th>Date</th>\n",
       "      <th>daily_total_heating</th>\n",
       "      <th>daily_total_cooling</th>\n",
       "      <th>count</th>\n",
       "    </tr>\n",
       "  </thead>\n",
       "  <tbody>\n",
       "    <tr>\n",
       "      <th>0</th>\n",
       "      <td>0038e4cc0089e5a289601a79af4b6c6f2c9efc97</td>\n",
       "      <td>2018-06-01</td>\n",
       "      <td>0.0</td>\n",
       "      <td>0.000000</td>\n",
       "      <td>243</td>\n",
       "    </tr>\n",
       "    <tr>\n",
       "      <th>1</th>\n",
       "      <td>0038e4cc0089e5a289601a79af4b6c6f2c9efc97</td>\n",
       "      <td>2018-06-02</td>\n",
       "      <td>0.0</td>\n",
       "      <td>0.162500</td>\n",
       "      <td>243</td>\n",
       "    </tr>\n",
       "    <tr>\n",
       "      <th>2</th>\n",
       "      <td>0038e4cc0089e5a289601a79af4b6c6f2c9efc97</td>\n",
       "      <td>2018-06-03</td>\n",
       "      <td>0.0</td>\n",
       "      <td>0.845833</td>\n",
       "      <td>243</td>\n",
       "    </tr>\n",
       "    <tr>\n",
       "      <th>3</th>\n",
       "      <td>0038e4cc0089e5a289601a79af4b6c6f2c9efc97</td>\n",
       "      <td>2018-06-04</td>\n",
       "      <td>0.0</td>\n",
       "      <td>1.654167</td>\n",
       "      <td>243</td>\n",
       "    </tr>\n",
       "    <tr>\n",
       "      <th>4</th>\n",
       "      <td>0038e4cc0089e5a289601a79af4b6c6f2c9efc97</td>\n",
       "      <td>2018-06-05</td>\n",
       "      <td>0.0</td>\n",
       "      <td>0.308333</td>\n",
       "      <td>243</td>\n",
       "    </tr>\n",
       "  </tbody>\n",
       "</table>\n",
       "</div>"
      ],
      "text/plain": [
       "                                    user_id        Date  daily_total_heating  \\\n",
       "0  0038e4cc0089e5a289601a79af4b6c6f2c9efc97  2018-06-01                  0.0   \n",
       "1  0038e4cc0089e5a289601a79af4b6c6f2c9efc97  2018-06-02                  0.0   \n",
       "2  0038e4cc0089e5a289601a79af4b6c6f2c9efc97  2018-06-03                  0.0   \n",
       "3  0038e4cc0089e5a289601a79af4b6c6f2c9efc97  2018-06-04                  0.0   \n",
       "4  0038e4cc0089e5a289601a79af4b6c6f2c9efc97  2018-06-05                  0.0   \n",
       "\n",
       "   daily_total_cooling  count  \n",
       "0             0.000000    243  \n",
       "1             0.162500    243  \n",
       "2             0.845833    243  \n",
       "3             1.654167    243  \n",
       "4             0.308333    243  "
      ]
     },
     "execution_count": 15,
     "metadata": {},
     "output_type": "execute_result"
    }
   ],
   "source": [
    "df_sac_18n19_daily_offpeak.head()"
   ]
  },
  {
   "cell_type": "code",
   "execution_count": 16,
   "metadata": {
    "ExecuteTime": {
     "end_time": "2021-04-14T21:00:17.617481Z",
     "start_time": "2021-04-14T21:00:17.587474Z"
    }
   },
   "outputs": [
    {
     "data": {
      "text/html": [
       "<div>\n",
       "<style scoped>\n",
       "    .dataframe tbody tr th:only-of-type {\n",
       "        vertical-align: middle;\n",
       "    }\n",
       "\n",
       "    .dataframe tbody tr th {\n",
       "        vertical-align: top;\n",
       "    }\n",
       "\n",
       "    .dataframe thead th {\n",
       "        text-align: right;\n",
       "    }\n",
       "</style>\n",
       "<table border=\"1\" class=\"dataframe\">\n",
       "  <thead>\n",
       "    <tr style=\"text-align: right;\">\n",
       "      <th></th>\n",
       "      <th>user_id</th>\n",
       "      <th>Date</th>\n",
       "      <th>daily_total_heating</th>\n",
       "      <th>daily_total_cooling</th>\n",
       "      <th>count</th>\n",
       "    </tr>\n",
       "  </thead>\n",
       "  <tbody>\n",
       "    <tr>\n",
       "      <th>0</th>\n",
       "      <td>0038e4cc0089e5a289601a79af4b6c6f2c9efc97</td>\n",
       "      <td>2018-06-01</td>\n",
       "      <td>0.0</td>\n",
       "      <td>0.000000</td>\n",
       "      <td>243</td>\n",
       "    </tr>\n",
       "    <tr>\n",
       "      <th>1</th>\n",
       "      <td>0038e4cc0089e5a289601a79af4b6c6f2c9efc97</td>\n",
       "      <td>2018-06-02</td>\n",
       "      <td>0.0</td>\n",
       "      <td>0.162500</td>\n",
       "      <td>243</td>\n",
       "    </tr>\n",
       "    <tr>\n",
       "      <th>2</th>\n",
       "      <td>0038e4cc0089e5a289601a79af4b6c6f2c9efc97</td>\n",
       "      <td>2018-06-03</td>\n",
       "      <td>0.0</td>\n",
       "      <td>0.845833</td>\n",
       "      <td>243</td>\n",
       "    </tr>\n",
       "    <tr>\n",
       "      <th>3</th>\n",
       "      <td>0038e4cc0089e5a289601a79af4b6c6f2c9efc97</td>\n",
       "      <td>2018-06-04</td>\n",
       "      <td>0.0</td>\n",
       "      <td>1.654167</td>\n",
       "      <td>243</td>\n",
       "    </tr>\n",
       "    <tr>\n",
       "      <th>4</th>\n",
       "      <td>0038e4cc0089e5a289601a79af4b6c6f2c9efc97</td>\n",
       "      <td>2018-06-05</td>\n",
       "      <td>0.0</td>\n",
       "      <td>0.308333</td>\n",
       "      <td>243</td>\n",
       "    </tr>\n",
       "  </tbody>\n",
       "</table>\n",
       "</div>"
      ],
      "text/plain": [
       "                                    user_id       Date  daily_total_heating  \\\n",
       "0  0038e4cc0089e5a289601a79af4b6c6f2c9efc97 2018-06-01                  0.0   \n",
       "1  0038e4cc0089e5a289601a79af4b6c6f2c9efc97 2018-06-02                  0.0   \n",
       "2  0038e4cc0089e5a289601a79af4b6c6f2c9efc97 2018-06-03                  0.0   \n",
       "3  0038e4cc0089e5a289601a79af4b6c6f2c9efc97 2018-06-04                  0.0   \n",
       "4  0038e4cc0089e5a289601a79af4b6c6f2c9efc97 2018-06-05                  0.0   \n",
       "\n",
       "   daily_total_cooling  count  \n",
       "0             0.000000    243  \n",
       "1             0.162500    243  \n",
       "2             0.845833    243  \n",
       "3             1.654167    243  \n",
       "4             0.308333    243  "
      ]
     },
     "execution_count": 16,
     "metadata": {},
     "output_type": "execute_result"
    }
   ],
   "source": [
    "df_sac_18n19_daily_offpeak=df_sac_18n19_daily_offpeak[df_sac_18n19_daily_offpeak['count']>=241]\n",
    "df_sac_18n19_daily_offpeak['Date']=pd.to_datetime(df_sac_18n19_daily_offpeak['Date'])\n",
    "df_sac_18n19_daily_offpeak.head()"
   ]
  },
  {
   "cell_type": "code",
   "execution_count": 17,
   "metadata": {
    "ExecuteTime": {
     "end_time": "2021-04-14T21:00:17.633484Z",
     "start_time": "2021-04-14T21:00:17.618481Z"
    }
   },
   "outputs": [
    {
     "name": "stdout",
     "output_type": "stream",
     "text": [
      "<class 'pandas.core.frame.DataFrame'>\n",
      "RangeIndex: 730 entries, 0 to 729\n",
      "Data columns (total 6 columns):\n",
      " #   Column   Non-Null Count  Dtype         \n",
      "---  ------   --------------  -----         \n",
      " 0   STATION  730 non-null    object        \n",
      " 1   NAME     730 non-null    object        \n",
      " 2   DATE     730 non-null    datetime64[ns]\n",
      " 3   TAVG     730 non-null    int64         \n",
      " 4   TMAX     730 non-null    int64         \n",
      " 5   TMIN     730 non-null    int64         \n",
      "dtypes: datetime64[ns](1), int64(3), object(2)\n",
      "memory usage: 34.3+ KB\n"
     ]
    }
   ],
   "source": [
    "df_temperature=pd.read_csv(r'F:\\Ecobee\\smf_temp_18and19.csv', parse_dates=['DATE'])\n",
    "df_temperature.info()"
   ]
  },
  {
   "cell_type": "code",
   "execution_count": 18,
   "metadata": {
    "ExecuteTime": {
     "end_time": "2021-04-14T21:00:17.649488Z",
     "start_time": "2021-04-14T21:00:17.634485Z"
    }
   },
   "outputs": [
    {
     "data": {
      "text/html": [
       "<div>\n",
       "<style scoped>\n",
       "    .dataframe tbody tr th:only-of-type {\n",
       "        vertical-align: middle;\n",
       "    }\n",
       "\n",
       "    .dataframe tbody tr th {\n",
       "        vertical-align: top;\n",
       "    }\n",
       "\n",
       "    .dataframe thead th {\n",
       "        text-align: right;\n",
       "    }\n",
       "</style>\n",
       "<table border=\"1\" class=\"dataframe\">\n",
       "  <thead>\n",
       "    <tr style=\"text-align: right;\">\n",
       "      <th></th>\n",
       "      <th>STATION</th>\n",
       "      <th>NAME</th>\n",
       "      <th>DATE</th>\n",
       "      <th>TAVG</th>\n",
       "      <th>TMAX</th>\n",
       "      <th>TMIN</th>\n",
       "    </tr>\n",
       "  </thead>\n",
       "  <tbody>\n",
       "    <tr>\n",
       "      <th>0</th>\n",
       "      <td>USW00023232</td>\n",
       "      <td>SACRAMENTO AIRPORT ASOS, CA US</td>\n",
       "      <td>2018-01-01</td>\n",
       "      <td>49</td>\n",
       "      <td>65</td>\n",
       "      <td>38</td>\n",
       "    </tr>\n",
       "    <tr>\n",
       "      <th>1</th>\n",
       "      <td>USW00023232</td>\n",
       "      <td>SACRAMENTO AIRPORT ASOS, CA US</td>\n",
       "      <td>2018-01-02</td>\n",
       "      <td>48</td>\n",
       "      <td>59</td>\n",
       "      <td>39</td>\n",
       "    </tr>\n",
       "    <tr>\n",
       "      <th>2</th>\n",
       "      <td>USW00023232</td>\n",
       "      <td>SACRAMENTO AIRPORT ASOS, CA US</td>\n",
       "      <td>2018-01-03</td>\n",
       "      <td>50</td>\n",
       "      <td>57</td>\n",
       "      <td>40</td>\n",
       "    </tr>\n",
       "    <tr>\n",
       "      <th>3</th>\n",
       "      <td>USW00023232</td>\n",
       "      <td>SACRAMENTO AIRPORT ASOS, CA US</td>\n",
       "      <td>2018-01-04</td>\n",
       "      <td>55</td>\n",
       "      <td>65</td>\n",
       "      <td>49</td>\n",
       "    </tr>\n",
       "    <tr>\n",
       "      <th>4</th>\n",
       "      <td>USW00023232</td>\n",
       "      <td>SACRAMENTO AIRPORT ASOS, CA US</td>\n",
       "      <td>2018-01-05</td>\n",
       "      <td>55</td>\n",
       "      <td>60</td>\n",
       "      <td>50</td>\n",
       "    </tr>\n",
       "  </tbody>\n",
       "</table>\n",
       "</div>"
      ],
      "text/plain": [
       "       STATION                            NAME       DATE  TAVG  TMAX  TMIN\n",
       "0  USW00023232  SACRAMENTO AIRPORT ASOS, CA US 2018-01-01    49    65    38\n",
       "1  USW00023232  SACRAMENTO AIRPORT ASOS, CA US 2018-01-02    48    59    39\n",
       "2  USW00023232  SACRAMENTO AIRPORT ASOS, CA US 2018-01-03    50    57    40\n",
       "3  USW00023232  SACRAMENTO AIRPORT ASOS, CA US 2018-01-04    55    65    49\n",
       "4  USW00023232  SACRAMENTO AIRPORT ASOS, CA US 2018-01-05    55    60    50"
      ]
     },
     "execution_count": 18,
     "metadata": {},
     "output_type": "execute_result"
    }
   ],
   "source": [
    "df_temperature.head()"
   ]
  },
  {
   "cell_type": "code",
   "execution_count": 19,
   "metadata": {
    "ExecuteTime": {
     "end_time": "2021-04-14T21:00:17.665492Z",
     "start_time": "2021-04-14T21:00:17.650488Z"
    }
   },
   "outputs": [
    {
     "data": {
      "text/html": [
       "<div>\n",
       "<style scoped>\n",
       "    .dataframe tbody tr th:only-of-type {\n",
       "        vertical-align: middle;\n",
       "    }\n",
       "\n",
       "    .dataframe tbody tr th {\n",
       "        vertical-align: top;\n",
       "    }\n",
       "\n",
       "    .dataframe thead th {\n",
       "        text-align: right;\n",
       "    }\n",
       "</style>\n",
       "<table border=\"1\" class=\"dataframe\">\n",
       "  <thead>\n",
       "    <tr style=\"text-align: right;\">\n",
       "      <th></th>\n",
       "      <th>user_id</th>\n",
       "      <th>Date</th>\n",
       "      <th>daily_total_heating</th>\n",
       "      <th>daily_total_cooling</th>\n",
       "      <th>count</th>\n",
       "      <th>STATION</th>\n",
       "      <th>NAME</th>\n",
       "      <th>DATE</th>\n",
       "      <th>TAVG</th>\n",
       "      <th>TMAX</th>\n",
       "      <th>TMIN</th>\n",
       "    </tr>\n",
       "  </thead>\n",
       "  <tbody>\n",
       "    <tr>\n",
       "      <th>0</th>\n",
       "      <td>0038e4cc0089e5a289601a79af4b6c6f2c9efc97</td>\n",
       "      <td>2018-06-01</td>\n",
       "      <td>0.0</td>\n",
       "      <td>0.000000</td>\n",
       "      <td>243</td>\n",
       "      <td>USW00023232</td>\n",
       "      <td>SACRAMENTO AIRPORT ASOS, CA US</td>\n",
       "      <td>2018-06-01</td>\n",
       "      <td>65</td>\n",
       "      <td>86</td>\n",
       "      <td>49</td>\n",
       "    </tr>\n",
       "    <tr>\n",
       "      <th>1</th>\n",
       "      <td>0038e4cc0089e5a289601a79af4b6c6f2c9efc97</td>\n",
       "      <td>2018-06-02</td>\n",
       "      <td>0.0</td>\n",
       "      <td>0.162500</td>\n",
       "      <td>243</td>\n",
       "      <td>USW00023232</td>\n",
       "      <td>SACRAMENTO AIRPORT ASOS, CA US</td>\n",
       "      <td>2018-06-02</td>\n",
       "      <td>74</td>\n",
       "      <td>96</td>\n",
       "      <td>55</td>\n",
       "    </tr>\n",
       "    <tr>\n",
       "      <th>2</th>\n",
       "      <td>0038e4cc0089e5a289601a79af4b6c6f2c9efc97</td>\n",
       "      <td>2018-06-03</td>\n",
       "      <td>0.0</td>\n",
       "      <td>0.845833</td>\n",
       "      <td>243</td>\n",
       "      <td>USW00023232</td>\n",
       "      <td>SACRAMENTO AIRPORT ASOS, CA US</td>\n",
       "      <td>2018-06-03</td>\n",
       "      <td>78</td>\n",
       "      <td>98</td>\n",
       "      <td>58</td>\n",
       "    </tr>\n",
       "    <tr>\n",
       "      <th>3</th>\n",
       "      <td>0038e4cc0089e5a289601a79af4b6c6f2c9efc97</td>\n",
       "      <td>2018-06-04</td>\n",
       "      <td>0.0</td>\n",
       "      <td>1.654167</td>\n",
       "      <td>243</td>\n",
       "      <td>USW00023232</td>\n",
       "      <td>SACRAMENTO AIRPORT ASOS, CA US</td>\n",
       "      <td>2018-06-04</td>\n",
       "      <td>76</td>\n",
       "      <td>89</td>\n",
       "      <td>58</td>\n",
       "    </tr>\n",
       "    <tr>\n",
       "      <th>4</th>\n",
       "      <td>0038e4cc0089e5a289601a79af4b6c6f2c9efc97</td>\n",
       "      <td>2018-06-05</td>\n",
       "      <td>0.0</td>\n",
       "      <td>0.308333</td>\n",
       "      <td>243</td>\n",
       "      <td>USW00023232</td>\n",
       "      <td>SACRAMENTO AIRPORT ASOS, CA US</td>\n",
       "      <td>2018-06-05</td>\n",
       "      <td>67</td>\n",
       "      <td>84</td>\n",
       "      <td>53</td>\n",
       "    </tr>\n",
       "  </tbody>\n",
       "</table>\n",
       "</div>"
      ],
      "text/plain": [
       "                                    user_id       Date  daily_total_heating  \\\n",
       "0  0038e4cc0089e5a289601a79af4b6c6f2c9efc97 2018-06-01                  0.0   \n",
       "1  0038e4cc0089e5a289601a79af4b6c6f2c9efc97 2018-06-02                  0.0   \n",
       "2  0038e4cc0089e5a289601a79af4b6c6f2c9efc97 2018-06-03                  0.0   \n",
       "3  0038e4cc0089e5a289601a79af4b6c6f2c9efc97 2018-06-04                  0.0   \n",
       "4  0038e4cc0089e5a289601a79af4b6c6f2c9efc97 2018-06-05                  0.0   \n",
       "\n",
       "   daily_total_cooling  count      STATION                            NAME  \\\n",
       "0             0.000000    243  USW00023232  SACRAMENTO AIRPORT ASOS, CA US   \n",
       "1             0.162500    243  USW00023232  SACRAMENTO AIRPORT ASOS, CA US   \n",
       "2             0.845833    243  USW00023232  SACRAMENTO AIRPORT ASOS, CA US   \n",
       "3             1.654167    243  USW00023232  SACRAMENTO AIRPORT ASOS, CA US   \n",
       "4             0.308333    243  USW00023232  SACRAMENTO AIRPORT ASOS, CA US   \n",
       "\n",
       "        DATE  TAVG  TMAX  TMIN  \n",
       "0 2018-06-01    65    86    49  \n",
       "1 2018-06-02    74    96    55  \n",
       "2 2018-06-03    78    98    58  \n",
       "3 2018-06-04    76    89    58  \n",
       "4 2018-06-05    67    84    53  "
      ]
     },
     "execution_count": 19,
     "metadata": {},
     "output_type": "execute_result"
    }
   ],
   "source": [
    "df_sac_18n19_daily_offpeak_w_temperature=pd.merge(df_sac_18n19_daily_offpeak,df_temperature,how='left', left_on='Date', right_on='DATE')\n",
    "df_sac_18n19_daily_offpeak_w_temperature.head()"
   ]
  },
  {
   "cell_type": "code",
   "execution_count": 20,
   "metadata": {},
   "outputs": [],
   "source": [
    "# generate a new column indicating on/off of cooling AC\n",
    "df_sac_18n19_daily_offpeak_w_temperature[\"AC_cooling_on\"] = np.where(\n",
    "    df_sac_18n19_daily_offpeak_w_temperature[\"daily_total_cooling\"] > 0, 1, 0\n",
    ")"
   ]
  },
  {
   "cell_type": "code",
   "execution_count": 21,
   "metadata": {
    "ExecuteTime": {
     "end_time": "2021-04-14T21:00:17.681495Z",
     "start_time": "2021-04-14T21:00:17.666493Z"
    }
   },
   "outputs": [],
   "source": [
    "df_sac_18n19_daily_offpeak_w_temperature[\n",
    "    'TAVG_less_62'] = df_sac_18n19_daily_offpeak_w_temperature['TAVG'] - 62\n",
    "df_sac_18n19_daily_offpeak_w_temperature['TAVG_less_62'] = df_sac_18n19_daily_offpeak_w_temperature['TAVG_less_62'].apply(lambda x : x if x > 0 else 0)"
   ]
  },
  {
   "cell_type": "code",
   "execution_count": 22,
   "metadata": {
    "ExecuteTime": {
     "end_time": "2021-04-14T21:00:17.713502Z",
     "start_time": "2021-04-14T21:00:17.682495Z"
    }
   },
   "outputs": [
    {
     "data": {
      "text/html": [
       "<div>\n",
       "<style scoped>\n",
       "    .dataframe tbody tr th:only-of-type {\n",
       "        vertical-align: middle;\n",
       "    }\n",
       "\n",
       "    .dataframe tbody tr th {\n",
       "        vertical-align: top;\n",
       "    }\n",
       "\n",
       "    .dataframe thead th {\n",
       "        text-align: right;\n",
       "    }\n",
       "</style>\n",
       "<table border=\"1\" class=\"dataframe\">\n",
       "  <thead>\n",
       "    <tr style=\"text-align: right;\">\n",
       "      <th></th>\n",
       "      <th>daily_total_heating</th>\n",
       "      <th>daily_total_cooling</th>\n",
       "      <th>count</th>\n",
       "      <th>TAVG</th>\n",
       "      <th>TMAX</th>\n",
       "      <th>TMIN</th>\n",
       "      <th>AC_cooling_on</th>\n",
       "      <th>TAVG_less_62</th>\n",
       "      <th>y2019</th>\n",
       "    </tr>\n",
       "  </thead>\n",
       "  <tbody>\n",
       "    <tr>\n",
       "      <th>count</th>\n",
       "      <td>31083.000000</td>\n",
       "      <td>31083.000000</td>\n",
       "      <td>31083.000000</td>\n",
       "      <td>31083.000000</td>\n",
       "      <td>31083.000000</td>\n",
       "      <td>31083.000000</td>\n",
       "      <td>31083.000000</td>\n",
       "      <td>31083.000000</td>\n",
       "      <td>31083.000000</td>\n",
       "    </tr>\n",
       "    <tr>\n",
       "      <th>mean</th>\n",
       "      <td>0.000594</td>\n",
       "      <td>0.682070</td>\n",
       "      <td>242.836953</td>\n",
       "      <td>72.703632</td>\n",
       "      <td>90.349902</td>\n",
       "      <td>58.473120</td>\n",
       "      <td>0.560982</td>\n",
       "      <td>10.740694</td>\n",
       "      <td>0.497893</td>\n",
       "    </tr>\n",
       "    <tr>\n",
       "      <th>std</th>\n",
       "      <td>0.018012</td>\n",
       "      <td>0.953389</td>\n",
       "      <td>0.494994</td>\n",
       "      <td>5.165879</td>\n",
       "      <td>7.220133</td>\n",
       "      <td>3.978541</td>\n",
       "      <td>0.496275</td>\n",
       "      <td>5.074999</td>\n",
       "      <td>0.500004</td>\n",
       "    </tr>\n",
       "    <tr>\n",
       "      <th>min</th>\n",
       "      <td>0.000000</td>\n",
       "      <td>0.000000</td>\n",
       "      <td>241.000000</td>\n",
       "      <td>58.000000</td>\n",
       "      <td>69.000000</td>\n",
       "      <td>45.000000</td>\n",
       "      <td>0.000000</td>\n",
       "      <td>0.000000</td>\n",
       "      <td>0.000000</td>\n",
       "    </tr>\n",
       "    <tr>\n",
       "      <th>25%</th>\n",
       "      <td>0.000000</td>\n",
       "      <td>0.000000</td>\n",
       "      <td>243.000000</td>\n",
       "      <td>69.000000</td>\n",
       "      <td>86.000000</td>\n",
       "      <td>56.000000</td>\n",
       "      <td>0.000000</td>\n",
       "      <td>7.000000</td>\n",
       "      <td>0.000000</td>\n",
       "    </tr>\n",
       "    <tr>\n",
       "      <th>50%</th>\n",
       "      <td>0.000000</td>\n",
       "      <td>0.183333</td>\n",
       "      <td>243.000000</td>\n",
       "      <td>73.000000</td>\n",
       "      <td>91.000000</td>\n",
       "      <td>58.000000</td>\n",
       "      <td>1.000000</td>\n",
       "      <td>11.000000</td>\n",
       "      <td>0.000000</td>\n",
       "    </tr>\n",
       "    <tr>\n",
       "      <th>75%</th>\n",
       "      <td>0.000000</td>\n",
       "      <td>1.166667</td>\n",
       "      <td>243.000000</td>\n",
       "      <td>76.000000</td>\n",
       "      <td>96.000000</td>\n",
       "      <td>61.000000</td>\n",
       "      <td>1.000000</td>\n",
       "      <td>14.000000</td>\n",
       "      <td>1.000000</td>\n",
       "    </tr>\n",
       "    <tr>\n",
       "      <th>max</th>\n",
       "      <td>1.541667</td>\n",
       "      <td>12.000000</td>\n",
       "      <td>243.000000</td>\n",
       "      <td>86.000000</td>\n",
       "      <td>105.000000</td>\n",
       "      <td>69.000000</td>\n",
       "      <td>1.000000</td>\n",
       "      <td>24.000000</td>\n",
       "      <td>1.000000</td>\n",
       "    </tr>\n",
       "  </tbody>\n",
       "</table>\n",
       "</div>"
      ],
      "text/plain": [
       "       daily_total_heating  daily_total_cooling         count          TAVG  \\\n",
       "count         31083.000000         31083.000000  31083.000000  31083.000000   \n",
       "mean              0.000594             0.682070    242.836953     72.703632   \n",
       "std               0.018012             0.953389      0.494994      5.165879   \n",
       "min               0.000000             0.000000    241.000000     58.000000   \n",
       "25%               0.000000             0.000000    243.000000     69.000000   \n",
       "50%               0.000000             0.183333    243.000000     73.000000   \n",
       "75%               0.000000             1.166667    243.000000     76.000000   \n",
       "max               1.541667            12.000000    243.000000     86.000000   \n",
       "\n",
       "               TMAX          TMIN  AC_cooling_on  TAVG_less_62         y2019  \n",
       "count  31083.000000  31083.000000   31083.000000  31083.000000  31083.000000  \n",
       "mean      90.349902     58.473120       0.560982     10.740694      0.497893  \n",
       "std        7.220133      3.978541       0.496275      5.074999      0.500004  \n",
       "min       69.000000     45.000000       0.000000      0.000000      0.000000  \n",
       "25%       86.000000     56.000000       0.000000      7.000000      0.000000  \n",
       "50%       91.000000     58.000000       1.000000     11.000000      0.000000  \n",
       "75%       96.000000     61.000000       1.000000     14.000000      1.000000  \n",
       "max      105.000000     69.000000       1.000000     24.000000      1.000000  "
      ]
     },
     "execution_count": 22,
     "metadata": {},
     "output_type": "execute_result"
    }
   ],
   "source": [
    "df_sac_18n19_daily_offpeak_w_temperature['y2019']=np.where(df_sac_18n19_daily_offpeak_w_temperature['Date'].dt.year== 2019, 1, 0)\n",
    "# [df_sac_18n19_daily_offpeak_w_temperature['Date'].dt.year==2019]\n",
    "df_sac_18n19_daily_offpeak_w_temperature.describe()"
   ]
  },
  {
   "cell_type": "code",
   "execution_count": 23,
   "metadata": {
    "ExecuteTime": {
     "end_time": "2021-04-14T21:00:17.729506Z",
     "start_time": "2021-04-14T21:00:17.714503Z"
    }
   },
   "outputs": [],
   "source": [
    "df_sac_18n19_daily_offpeak_w_temperature[\n",
    "    'interaction'] = df_sac_18n19_daily_offpeak_w_temperature[\n",
    "        'TAVG_less_62'] * df_sac_18n19_daily_offpeak_w_temperature['y2019']"
   ]
  },
  {
   "cell_type": "code",
   "execution_count": 24,
   "metadata": {
    "ExecuteTime": {
     "end_time": "2021-04-14T21:00:17.969559Z",
     "start_time": "2021-04-14T21:00:17.730507Z"
    },
    "scrolled": true
   },
   "outputs": [
    {
     "data": {
      "text/html": [
       "<div>\n",
       "<style scoped>\n",
       "    .dataframe tbody tr th:only-of-type {\n",
       "        vertical-align: middle;\n",
       "    }\n",
       "\n",
       "    .dataframe tbody tr th {\n",
       "        vertical-align: top;\n",
       "    }\n",
       "\n",
       "    .dataframe thead th {\n",
       "        text-align: right;\n",
       "    }\n",
       "</style>\n",
       "<table border=\"1\" class=\"dataframe\">\n",
       "  <thead>\n",
       "    <tr style=\"text-align: right;\">\n",
       "      <th></th>\n",
       "      <th>user_id</th>\n",
       "      <th>TAVG_less_62</th>\n",
       "      <th>interaction</th>\n",
       "      <th>intercept</th>\n",
       "    </tr>\n",
       "  </thead>\n",
       "  <tbody>\n",
       "    <tr>\n",
       "      <th>0</th>\n",
       "      <td>0038e4cc0089e5a289601a79af4b6c6f2c9efc97</td>\n",
       "      <td>0.030732</td>\n",
       "      <td>-0.005126</td>\n",
       "      <td>0.563522</td>\n",
       "    </tr>\n",
       "    <tr>\n",
       "      <th>1</th>\n",
       "      <td>00e2f68ec737f7480114a67bbef7c5f65b6b8516</td>\n",
       "      <td>0.019341</td>\n",
       "      <td>0.044022</td>\n",
       "      <td>-0.007601</td>\n",
       "    </tr>\n",
       "    <tr>\n",
       "      <th>2</th>\n",
       "      <td>01479a9a84e1722791f2b440f6d4f14f51025499</td>\n",
       "      <td>0.042555</td>\n",
       "      <td>0.014296</td>\n",
       "      <td>0.193422</td>\n",
       "    </tr>\n",
       "    <tr>\n",
       "      <th>3</th>\n",
       "      <td>0150a428f7cc891b6a69cb7db390869c96a24f1d</td>\n",
       "      <td>0.019816</td>\n",
       "      <td>0.042020</td>\n",
       "      <td>0.085202</td>\n",
       "    </tr>\n",
       "    <tr>\n",
       "      <th>4</th>\n",
       "      <td>0614c5d47de23d61b21be2141907668a54bf45a0</td>\n",
       "      <td>0.033537</td>\n",
       "      <td>0.022170</td>\n",
       "      <td>0.183392</td>\n",
       "    </tr>\n",
       "    <tr>\n",
       "      <th>5</th>\n",
       "      <td>06d89337caa78e3ed6e3591c9e22b8808a82c327</td>\n",
       "      <td>0.001441</td>\n",
       "      <td>0.055525</td>\n",
       "      <td>0.118673</td>\n",
       "    </tr>\n",
       "    <tr>\n",
       "      <th>6</th>\n",
       "      <td>0773f65bc76833bddd55f0f850ded5d14bc8ab99</td>\n",
       "      <td>0.012521</td>\n",
       "      <td>0.045371</td>\n",
       "      <td>0.090836</td>\n",
       "    </tr>\n",
       "    <tr>\n",
       "      <th>7</th>\n",
       "      <td>084a2b8c0522a36209d062d852d04bb64494ea84</td>\n",
       "      <td>0.032561</td>\n",
       "      <td>0.009142</td>\n",
       "      <td>0.338561</td>\n",
       "    </tr>\n",
       "    <tr>\n",
       "      <th>8</th>\n",
       "      <td>0aec426e98899420452f505669f36b1f47651c68</td>\n",
       "      <td>0.048629</td>\n",
       "      <td>0.000375</td>\n",
       "      <td>-0.034750</td>\n",
       "    </tr>\n",
       "    <tr>\n",
       "      <th>9</th>\n",
       "      <td>0f50223ca3a7c1def87d95d3696719692d5d3d33</td>\n",
       "      <td>0.048919</td>\n",
       "      <td>0.018114</td>\n",
       "      <td>0.024986</td>\n",
       "    </tr>\n",
       "  </tbody>\n",
       "</table>\n",
       "</div>"
      ],
      "text/plain": [
       "                                    user_id  TAVG_less_62  interaction  \\\n",
       "0  0038e4cc0089e5a289601a79af4b6c6f2c9efc97      0.030732    -0.005126   \n",
       "1  00e2f68ec737f7480114a67bbef7c5f65b6b8516      0.019341     0.044022   \n",
       "2  01479a9a84e1722791f2b440f6d4f14f51025499      0.042555     0.014296   \n",
       "3  0150a428f7cc891b6a69cb7db390869c96a24f1d      0.019816     0.042020   \n",
       "4  0614c5d47de23d61b21be2141907668a54bf45a0      0.033537     0.022170   \n",
       "5  06d89337caa78e3ed6e3591c9e22b8808a82c327      0.001441     0.055525   \n",
       "6  0773f65bc76833bddd55f0f850ded5d14bc8ab99      0.012521     0.045371   \n",
       "7  084a2b8c0522a36209d062d852d04bb64494ea84      0.032561     0.009142   \n",
       "8  0aec426e98899420452f505669f36b1f47651c68      0.048629     0.000375   \n",
       "9  0f50223ca3a7c1def87d95d3696719692d5d3d33      0.048919     0.018114   \n",
       "\n",
       "   intercept  \n",
       "0   0.563522  \n",
       "1  -0.007601  \n",
       "2   0.193422  \n",
       "3   0.085202  \n",
       "4   0.183392  \n",
       "5   0.118673  \n",
       "6   0.090836  \n",
       "7   0.338561  \n",
       "8  -0.034750  \n",
       "9   0.024986  "
      ]
     },
     "execution_count": 24,
     "metadata": {},
     "output_type": "execute_result"
    }
   ],
   "source": [
    "import statsmodels.api as sm\n",
    "\n",
    "\n",
    "def regress(data, yvar, xvars):\n",
    "    Y = data[yvar]\n",
    "    X = data[xvars]\n",
    "    X['intercept'] = 1.\n",
    "    result = sm.OLS(Y, X).fit(cov_type='HC1')\n",
    "    return result.params\n",
    "\n",
    "\n",
    "#This is what you need\n",
    "results=df_sac_18n19_daily_offpeak_w_temperature.groupby('user_id').apply(\n",
    "    regress, 'AC_cooling_on', ['TAVG_less_62','interaction']).reset_index()\n",
    "results.head(10)"
   ]
  },
  {
   "cell_type": "code",
   "execution_count": 25,
   "metadata": {
    "ExecuteTime": {
     "end_time": "2021-04-14T21:00:18.208613Z",
     "start_time": "2021-04-14T21:00:17.971559Z"
    }
   },
   "outputs": [
    {
     "data": {
      "image/png": "[encoded data removed]",
      "text/plain": [
       "<Figure size 1080x720 with 1 Axes>"
      ]
     },
     "metadata": {
      "needs_background": "light"
     },
     "output_type": "display_data"
    }
   ],
   "source": [
    "# x axis range\n",
    "x = range(len(results))\n",
    "plt.figure(figsize=(15,10))\n",
    "# y2\n",
    "plt.plot(x,results['TAVG_less_62'],label='coeff:TAVG_less_62')\n",
    "# y2\n",
    "plt.plot(x,results['interaction'],label='coeff:interaction')\n",
    "# y=0 line \n",
    "plt.plot(x,[0] * len(results))\n",
    "plt.legend(loc=\"upper left\")\n",
    "plt.title('AC On/Off in Off-Peak time')\n",
    "plt.show()"
   ]
  },
  {
   "cell_type": "code",
   "execution_count": 31,
   "metadata": {},
   "outputs": [
    {
     "data": {
      "image/png": "[encoded data removed]",
      "text/plain": [
       "<Figure size 432x288 with 1 Axes>"
      ]
     },
     "metadata": {
      "needs_background": "light"
     },
     "output_type": "display_data"
    }
   ],
   "source": [
    "plt.hist(results['interaction'], 50, density=True, facecolor='g', alpha=0.75)\n",
    "plt.xlabel('interaction coeffs')\n",
    "plt.ylabel('Probability')\n",
    "plt.title('Histogram of Individual Response:(AC On/Off during Off-Peak)')\n",
    "plt.grid(True)\n",
    "plt.show()"
   ]
  },
  {
   "cell_type": "code",
   "execution_count": 27,
   "metadata": {
    "ExecuteTime": {
     "end_time": "2021-04-14T21:00:18.224616Z",
     "start_time": "2021-04-14T21:00:18.209614Z"
    },
    "scrolled": true
   },
   "outputs": [
    {
     "name": "stdout",
     "output_type": "stream",
     "text": [
      "user_id         80\n",
      "TAVG_less_62    80\n",
      "interaction     80\n",
      "intercept       80\n",
      "dtype: int64\n",
      "user_id         9\n",
      "TAVG_less_62    9\n",
      "interaction     9\n",
      "intercept       9\n",
      "dtype: int64\n"
     ]
    }
   ],
   "source": [
    "print(results[results.interaction > 0.01].count())\n",
    "print(results[results.interaction < -0.01].count())"
   ]
  },
  {
   "cell_type": "code",
   "execution_count": 28,
   "metadata": {
    "ExecuteTime": {
     "end_time": "2021-04-14T21:00:18.240620Z",
     "start_time": "2021-04-14T21:00:18.225617Z"
    }
   },
   "outputs": [
    {
     "name": "stdout",
     "output_type": "stream",
     "text": [
      "2.4457942266543578\n",
      "-0.19630525697515044\n"
     ]
    }
   ],
   "source": [
    "print(results['interaction'][results.interaction > 0.01].sum())\n",
    "print(results['interaction'][results.interaction < -0.01].sum())\n",
    "# the sum of negative interaction coefficients has a larger scale"
   ]
  },
  {
   "cell_type": "code",
   "execution_count": 29,
   "metadata": {
    "ExecuteTime": {
     "end_time": "2021-04-14T21:00:18.256623Z",
     "start_time": "2021-04-14T21:00:18.241621Z"
    }
   },
   "outputs": [
    {
     "name": "stdout",
     "output_type": "stream",
     "text": [
      "**********************************On/Off: Peak**********************************\n",
      "                            OLS Regression Results                            \n",
      "==============================================================================\n",
      "Dep. Variable:          AC_cooling_on   R-squared:                       0.214\n",
      "Model:                            OLS   Adj. R-squared:                  0.214\n",
      "Method:                 Least Squares   F-statistic:                     5367.\n",
      "Date:                Wed, 21 Apr 2021   Prob (F-statistic):               0.00\n",
      "Time:                        11:36:07   Log-Likelihood:                -18591.\n",
      "No. Observations:               31083   AIC:                         3.719e+04\n",
      "Df Residuals:                   31080   BIC:                         3.721e+04\n",
      "Df Model:                           2                                         \n",
      "Covariance Type:                  HC1                                         \n",
      "================================================================================\n",
      "                   coef    std err          z      P>|z|      [0.025      0.975]\n",
      "--------------------------------------------------------------------------------\n",
      "TAVG_less_62     0.0275      0.001     47.826      0.000       0.026       0.029\n",
      "interaction      0.0183      0.000     42.739      0.000       0.017       0.019\n",
      "const            0.1607      0.006     28.433      0.000       0.150       0.172\n",
      "==============================================================================\n",
      "Omnibus:                    27754.838   Durbin-Watson:                   0.893\n",
      "Prob(Omnibus):                  0.000   Jarque-Bera (JB):             1963.238\n",
      "Skew:                          -0.136   Prob(JB):                         0.00\n",
      "Kurtosis:                       1.799   Cond. No.                         33.1\n",
      "==============================================================================\n",
      "\n",
      "Notes:\n",
      "[1] Standard Errors are heteroscedasticity robust (HC1)\n"
     ]
    }
   ],
   "source": [
    "df_sac_18n19_daily_offpeak_w_temperature['const']=1\n",
    "reg1 = sm.OLS(endog=df_sac_18n19_daily_offpeak_w_temperature['AC_cooling_on'], \\\n",
    "              exog=df_sac_18n19_daily_offpeak_w_temperature[['TAVG_less_62','interaction','const']], \\\n",
    "    missing='drop')\n",
    "reg_result = reg1.fit(cov_type='HC1')\n",
    "print('*'*34+'On/Off: Peak'+'*'*34)\n",
    "print(reg_result.summary())\n"
   ]
  },
  {
   "cell_type": "code",
   "execution_count": 30,
   "metadata": {
    "ExecuteTime": {
     "end_time": "2021-04-14T21:00:18.272627Z",
     "start_time": "2021-04-14T21:00:18.257624Z"
    }
   },
   "outputs": [
    {
     "data": {
      "text/plain": [
       "128"
      ]
     },
     "execution_count": 30,
     "metadata": {},
     "output_type": "execute_result"
    }
   ],
   "source": [
    "df_sac_18n19_daily_offpeak.user_id.nunique()"
   ]
  },
  {
   "cell_type": "code",
   "execution_count": null,
   "metadata": {},
   "outputs": [],
   "source": []
  }
 ],
 "metadata": {
  "kernelspec": {
   "display_name": "Python 3",
   "language": "python",
   "name": "python3"
  },
  "language_info": {
   "codemirror_mode": {
    "name": "ipython",
    "version": 3
   },
   "file_extension": ".py",
   "mimetype": "text/x-python",
   "name": "python",
   "nbconvert_exporter": "python",
   "pygments_lexer": "ipython3",
   "version": "3.8.5"
  }
 },
 "nbformat": 4,
 "nbformat_minor": 4
}
