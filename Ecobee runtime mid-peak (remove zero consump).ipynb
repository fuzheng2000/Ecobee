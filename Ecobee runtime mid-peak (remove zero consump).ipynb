{
 "cells": [
  {
   "cell_type": "code",
   "execution_count": 1,
   "metadata": {
    "ExecuteTime": {
     "end_time": "2021-04-14T20:01:07.774119Z",
     "start_time": "2021-04-14T20:01:05.245549Z"
    }
   },
   "outputs": [],
   "source": [
    "import warnings\n",
    "warnings.simplefilter('ignore')\n",
    "\n",
    "import numpy as np\n",
    "import pandas as pd\n",
    "import seaborn as sns\n",
    "import matplotlib.pyplot as plt\n",
    "import os\n",
    "\n",
    "\n",
    "import graphviz\n",
    "from sklearn import tree\n",
    "from sklearn.tree import DecisionTreeClassifier\n",
    "from sklearn.preprocessing import LabelEncoder\n",
    "\n",
    "%matplotlib inline"
   ]
  },
  {
   "cell_type": "code",
   "execution_count": 2,
   "metadata": {
    "ExecuteTime": {
     "end_time": "2021-04-14T20:02:12.072117Z",
     "start_time": "2021-04-14T20:01:07.807126Z"
    }
   },
   "outputs": [],
   "source": [
    "from zipfile import ZipFile\n",
    "directory_18 = r'F:\\Ecobee\\files\\2018_sac'\n",
    "df_sac_18_daily_midpeak = pd.DataFrame()\n",
    "hours_to_keep = [12, 13, 14, 15, 16, 20, 21, 22, 23]\n",
    "import datetime\n",
    "for filename in os.listdir(directory_18):\n",
    "    myzip = ZipFile(os.path.join(directory_18, filename))\n",
    "    g = myzip.open(filename[:-4])\n",
    "    df_temp = pd.read_csv(g, parse_dates=['DateTime'])\n",
    "    df_temp1 = pd.get_dummies(df_temp, columns=['HvacMode'])\n",
    "    df_temp1['Date'] = df_temp1['DateTime'].dt.date\n",
    "    df_temp1['user_id'] = filename[:-8]\n",
    "    df_temp1 = df_temp1[(df_temp1['DateTime'].dt.hour.isin(hours_to_keep)) &\n",
    "                        (df_temp1['DateTime'].dt.month >= 6) &\n",
    "                        (df_temp1['DateTime'].dt.month <=\n",
    "                         9)]  #summer days only\n",
    "    df_day = df_temp1.groupby([df_temp1['Date']]).agg(\n",
    "        daily_total_heating=pd.NamedAgg(column='auxHeat1', aggfunc=sum),\n",
    "        daily_total_cooling=pd.NamedAgg(column='compCool1', aggfunc=sum),\n",
    "        user_id=pd.NamedAgg(column='user_id', aggfunc=min)).reset_index()\n",
    "    df_day['daily_total_heating'] = df_day['daily_total_heating'] / 3600\n",
    "    df_day['daily_total_cooling'] = df_day['daily_total_cooling'] / 3600\n",
    "    df_sac_18_daily_midpeak = pd.concat([df_sac_18_daily_midpeak, df_day])\n",
    "    g.close()\n",
    "    myzip.close()"
   ]
  },
  {
   "cell_type": "code",
   "execution_count": 3,
   "metadata": {
    "ExecuteTime": {
     "end_time": "2021-04-14T20:02:12.087122Z",
     "start_time": "2021-04-14T20:02:12.073118Z"
    }
   },
   "outputs": [
    {
     "name": "stdout",
     "output_type": "stream",
     "text": [
      "<class 'pandas.core.frame.DataFrame'>\n",
      "Int64Index: 21249 entries, 0 to 121\n",
      "Data columns (total 4 columns):\n",
      " #   Column               Non-Null Count  Dtype  \n",
      "---  ------               --------------  -----  \n",
      " 0   Date                 21249 non-null  object \n",
      " 1   daily_total_heating  21249 non-null  float64\n",
      " 2   daily_total_cooling  21249 non-null  float64\n",
      " 3   user_id              21249 non-null  object \n",
      "dtypes: float64(2), object(2)\n",
      "memory usage: 830.0+ KB\n"
     ]
    }
   ],
   "source": [
    "df_sac_18_daily_midpeak.info()"
   ]
  },
  {
   "cell_type": "code",
   "execution_count": 4,
   "metadata": {
    "ExecuteTime": {
     "end_time": "2021-04-14T20:02:12.119129Z",
     "start_time": "2021-04-14T20:02:12.089121Z"
    }
   },
   "outputs": [],
   "source": [
    "pd.set_option('display.max_rows', None)\n",
    "#remove user_ids that have no cooling consumption at all for 2018\n",
    "df_18_temp=df_sac_18_daily_midpeak[['user_id', 'daily_total_cooling']].groupby('user_id').max().reset_index()\n",
    "df_18_temp['any_usage']=(df_18_temp.daily_total_cooling>0)\n",
    "df_18_temp=df_18_temp['user_id'][df_18_temp['any_usage']==True]\n",
    "df_sac_18_daily_midpeak=pd.merge(df_18_temp,df_sac_18_daily_midpeak,how='left', on='user_id')\n"
   ]
  },
  {
   "cell_type": "code",
   "execution_count": 5,
   "metadata": {
    "ExecuteTime": {
     "end_time": "2021-04-14T20:02:12.135132Z",
     "start_time": "2021-04-14T20:02:12.120129Z"
    }
   },
   "outputs": [
    {
     "data": {
      "text/html": [
       "<div>\n",
       "<style scoped>\n",
       "    .dataframe tbody tr th:only-of-type {\n",
       "        vertical-align: middle;\n",
       "    }\n",
       "\n",
       "    .dataframe tbody tr th {\n",
       "        vertical-align: top;\n",
       "    }\n",
       "\n",
       "    .dataframe thead th {\n",
       "        text-align: right;\n",
       "    }\n",
       "</style>\n",
       "<table border=\"1\" class=\"dataframe\">\n",
       "  <thead>\n",
       "    <tr style=\"text-align: right;\">\n",
       "      <th></th>\n",
       "      <th>user_id</th>\n",
       "      <th>Date</th>\n",
       "      <th>daily_total_heating</th>\n",
       "      <th>daily_total_cooling</th>\n",
       "    </tr>\n",
       "  </thead>\n",
       "  <tbody>\n",
       "    <tr>\n",
       "      <th>0</th>\n",
       "      <td>0038e4cc0089e5a289601a79af4b6c6f2c9efc97</td>\n",
       "      <td>2018-06-01</td>\n",
       "      <td>0.0</td>\n",
       "      <td>0.975000</td>\n",
       "    </tr>\n",
       "    <tr>\n",
       "      <th>1</th>\n",
       "      <td>0038e4cc0089e5a289601a79af4b6c6f2c9efc97</td>\n",
       "      <td>2018-06-02</td>\n",
       "      <td>0.0</td>\n",
       "      <td>1.983333</td>\n",
       "    </tr>\n",
       "    <tr>\n",
       "      <th>2</th>\n",
       "      <td>0038e4cc0089e5a289601a79af4b6c6f2c9efc97</td>\n",
       "      <td>2018-06-03</td>\n",
       "      <td>0.0</td>\n",
       "      <td>3.512500</td>\n",
       "    </tr>\n",
       "    <tr>\n",
       "      <th>3</th>\n",
       "      <td>0038e4cc0089e5a289601a79af4b6c6f2c9efc97</td>\n",
       "      <td>2018-06-04</td>\n",
       "      <td>0.0</td>\n",
       "      <td>1.895833</td>\n",
       "    </tr>\n",
       "    <tr>\n",
       "      <th>4</th>\n",
       "      <td>0038e4cc0089e5a289601a79af4b6c6f2c9efc97</td>\n",
       "      <td>2018-06-05</td>\n",
       "      <td>0.0</td>\n",
       "      <td>1.179167</td>\n",
       "    </tr>\n",
       "  </tbody>\n",
       "</table>\n",
       "</div>"
      ],
      "text/plain": [
       "                                    user_id        Date  daily_total_heating  \\\n",
       "0  0038e4cc0089e5a289601a79af4b6c6f2c9efc97  2018-06-01                  0.0   \n",
       "1  0038e4cc0089e5a289601a79af4b6c6f2c9efc97  2018-06-02                  0.0   \n",
       "2  0038e4cc0089e5a289601a79af4b6c6f2c9efc97  2018-06-03                  0.0   \n",
       "3  0038e4cc0089e5a289601a79af4b6c6f2c9efc97  2018-06-04                  0.0   \n",
       "4  0038e4cc0089e5a289601a79af4b6c6f2c9efc97  2018-06-05                  0.0   \n",
       "\n",
       "   daily_total_cooling  \n",
       "0             0.975000  \n",
       "1             1.983333  \n",
       "2             3.512500  \n",
       "3             1.895833  \n",
       "4             1.179167  "
      ]
     },
     "execution_count": 5,
     "metadata": {},
     "output_type": "execute_result"
    }
   ],
   "source": [
    "df_sac_18_daily_midpeak.head()"
   ]
  },
  {
   "cell_type": "code",
   "execution_count": 7,
   "metadata": {
    "ExecuteTime": {
     "end_time": "2021-04-14T20:04:22.952876Z",
     "start_time": "2021-04-14T20:02:12.136132Z"
    }
   },
   "outputs": [],
   "source": [
    "from zipfile import ZipFile\n",
    "df_sac_19_daily_midpeak = pd.DataFrame()\n",
    "directory_19 = r'F:\\Ecobee\\files\\2019_sac'\n",
    "hours_to_keep = [12, 13, 14, 15, 16, 20, 21, 22, 23]\n",
    "import datetime\n",
    "for filename in os.listdir(directory_19):\n",
    "    myzip = ZipFile(os.path.join(directory_19, filename))\n",
    "    f = myzip.open(filename[:-4])\n",
    "    df_temp = pd.read_csv(f, parse_dates=['DateTime'])\n",
    "    df_temp1 = pd.get_dummies(df_temp, columns=['HvacMode'])\n",
    "    df_temp1['Date'] = df_temp1['DateTime'].dt.date\n",
    "    df_temp1['user_id'] = filename[:-8]\n",
    "    df_temp1 = df_temp1[(df_temp1['DateTime'].dt.hour.isin(hours_to_keep)) &\n",
    "                        (df_temp1['DateTime'].dt.month >= 6) &\n",
    "                        (df_temp1['DateTime'].dt.month <=\n",
    "                         9)]  #summer days only\n",
    "    df_day = df_temp1.groupby([df_temp1['Date']]).agg(\n",
    "        daily_total_heating=pd.NamedAgg(column='auxHeat1', aggfunc=sum),\n",
    "        daily_total_cooling=pd.NamedAgg(column='compCool1', aggfunc=sum),\n",
    "        user_id=pd.NamedAgg(column='user_id', aggfunc=min)).reset_index()\n",
    "    df_day['daily_total_heating'] = df_day['daily_total_heating'] / 3600\n",
    "    df_day['daily_total_cooling'] = df_day['daily_total_cooling'] / 3600\n",
    "    df_sac_19_daily_midpeak = pd.concat([df_sac_19_daily_midpeak, df_day])\n",
    "    f.close()\n",
    "    myzip.close()"
   ]
  },
  {
   "cell_type": "code",
   "execution_count": 8,
   "metadata": {
    "ExecuteTime": {
     "end_time": "2021-04-14T20:04:22.968879Z",
     "start_time": "2021-04-14T20:04:22.954877Z"
    }
   },
   "outputs": [
    {
     "data": {
      "text/html": [
       "<div>\n",
       "<style scoped>\n",
       "    .dataframe tbody tr th:only-of-type {\n",
       "        vertical-align: middle;\n",
       "    }\n",
       "\n",
       "    .dataframe tbody tr th {\n",
       "        vertical-align: top;\n",
       "    }\n",
       "\n",
       "    .dataframe thead th {\n",
       "        text-align: right;\n",
       "    }\n",
       "</style>\n",
       "<table border=\"1\" class=\"dataframe\">\n",
       "  <thead>\n",
       "    <tr style=\"text-align: right;\">\n",
       "      <th></th>\n",
       "      <th>Date</th>\n",
       "      <th>daily_total_heating</th>\n",
       "      <th>daily_total_cooling</th>\n",
       "      <th>user_id</th>\n",
       "    </tr>\n",
       "  </thead>\n",
       "  <tbody>\n",
       "    <tr>\n",
       "      <th>0</th>\n",
       "      <td>2019-06-01</td>\n",
       "      <td>0.0</td>\n",
       "      <td>2.045833</td>\n",
       "      <td>0038e4cc0089e5a289601a79af4b6c6f2c9efc97</td>\n",
       "    </tr>\n",
       "    <tr>\n",
       "      <th>1</th>\n",
       "      <td>2019-06-02</td>\n",
       "      <td>0.0</td>\n",
       "      <td>1.479167</td>\n",
       "      <td>0038e4cc0089e5a289601a79af4b6c6f2c9efc97</td>\n",
       "    </tr>\n",
       "    <tr>\n",
       "      <th>2</th>\n",
       "      <td>2019-06-03</td>\n",
       "      <td>0.0</td>\n",
       "      <td>0.316667</td>\n",
       "      <td>0038e4cc0089e5a289601a79af4b6c6f2c9efc97</td>\n",
       "    </tr>\n",
       "    <tr>\n",
       "      <th>3</th>\n",
       "      <td>2019-06-04</td>\n",
       "      <td>0.0</td>\n",
       "      <td>3.216667</td>\n",
       "      <td>0038e4cc0089e5a289601a79af4b6c6f2c9efc97</td>\n",
       "    </tr>\n",
       "    <tr>\n",
       "      <th>4</th>\n",
       "      <td>2019-06-05</td>\n",
       "      <td>0.0</td>\n",
       "      <td>1.254167</td>\n",
       "      <td>0038e4cc0089e5a289601a79af4b6c6f2c9efc97</td>\n",
       "    </tr>\n",
       "  </tbody>\n",
       "</table>\n",
       "</div>"
      ],
      "text/plain": [
       "         Date  daily_total_heating  daily_total_cooling  \\\n",
       "0  2019-06-01                  0.0             2.045833   \n",
       "1  2019-06-02                  0.0             1.479167   \n",
       "2  2019-06-03                  0.0             0.316667   \n",
       "3  2019-06-04                  0.0             3.216667   \n",
       "4  2019-06-05                  0.0             1.254167   \n",
       "\n",
       "                                    user_id  \n",
       "0  0038e4cc0089e5a289601a79af4b6c6f2c9efc97  \n",
       "1  0038e4cc0089e5a289601a79af4b6c6f2c9efc97  \n",
       "2  0038e4cc0089e5a289601a79af4b6c6f2c9efc97  \n",
       "3  0038e4cc0089e5a289601a79af4b6c6f2c9efc97  \n",
       "4  0038e4cc0089e5a289601a79af4b6c6f2c9efc97  "
      ]
     },
     "execution_count": 8,
     "metadata": {},
     "output_type": "execute_result"
    }
   ],
   "source": [
    "df_sac_19_daily_midpeak.head()\n",
    "#note there is a \"time jump\" from 2019-07-25 16:55 to 2019-07-26 17:00"
   ]
  },
  {
   "cell_type": "code",
   "execution_count": 9,
   "metadata": {
    "ExecuteTime": {
     "end_time": "2021-04-14T20:04:23.000887Z",
     "start_time": "2021-04-14T20:04:22.970880Z"
    }
   },
   "outputs": [],
   "source": [
    "pd.set_option('display.max_rows', None)\n",
    "#remove user_ids that have no cooling consumption at all for 2019\n",
    "df_19_temp=df_sac_19_daily_midpeak[['user_id', 'daily_total_cooling']].groupby('user_id').max().reset_index()\n",
    "df_19_temp['any_usage']=(df_19_temp.daily_total_cooling>0)\n",
    "df_19_temp=df_19_temp['user_id'][df_19_temp['any_usage']==True]\n",
    "df_sac_19_daily_midpeak=pd.merge(df_19_temp,df_sac_19_daily_midpeak,how='left', on='user_id')"
   ]
  },
  {
   "cell_type": "code",
   "execution_count": 10,
   "metadata": {
    "ExecuteTime": {
     "end_time": "2021-04-14T20:04:23.096907Z",
     "start_time": "2021-04-14T20:04:23.001888Z"
    }
   },
   "outputs": [
    {
     "data": {
      "text/html": [
       "<div>\n",
       "<style scoped>\n",
       "    .dataframe tbody tr th:only-of-type {\n",
       "        vertical-align: middle;\n",
       "    }\n",
       "\n",
       "    .dataframe tbody tr th {\n",
       "        vertical-align: top;\n",
       "    }\n",
       "\n",
       "    .dataframe thead th {\n",
       "        text-align: right;\n",
       "    }\n",
       "</style>\n",
       "<table border=\"1\" class=\"dataframe\">\n",
       "  <thead>\n",
       "    <tr style=\"text-align: right;\">\n",
       "      <th></th>\n",
       "      <th>user_id</th>\n",
       "      <th>Date</th>\n",
       "      <th>daily_total_heating</th>\n",
       "      <th>daily_total_cooling</th>\n",
       "    </tr>\n",
       "  </thead>\n",
       "  <tbody>\n",
       "    <tr>\n",
       "      <th>0</th>\n",
       "      <td>0038e4cc0089e5a289601a79af4b6c6f2c9efc97</td>\n",
       "      <td>2019-06-01</td>\n",
       "      <td>0.0</td>\n",
       "      <td>2.045833</td>\n",
       "    </tr>\n",
       "    <tr>\n",
       "      <th>1</th>\n",
       "      <td>0038e4cc0089e5a289601a79af4b6c6f2c9efc97</td>\n",
       "      <td>2019-06-02</td>\n",
       "      <td>0.0</td>\n",
       "      <td>1.479167</td>\n",
       "    </tr>\n",
       "    <tr>\n",
       "      <th>2</th>\n",
       "      <td>0038e4cc0089e5a289601a79af4b6c6f2c9efc97</td>\n",
       "      <td>2019-06-03</td>\n",
       "      <td>0.0</td>\n",
       "      <td>0.316667</td>\n",
       "    </tr>\n",
       "    <tr>\n",
       "      <th>3</th>\n",
       "      <td>0038e4cc0089e5a289601a79af4b6c6f2c9efc97</td>\n",
       "      <td>2019-06-04</td>\n",
       "      <td>0.0</td>\n",
       "      <td>3.216667</td>\n",
       "    </tr>\n",
       "    <tr>\n",
       "      <th>4</th>\n",
       "      <td>0038e4cc0089e5a289601a79af4b6c6f2c9efc97</td>\n",
       "      <td>2019-06-05</td>\n",
       "      <td>0.0</td>\n",
       "      <td>1.254167</td>\n",
       "    </tr>\n",
       "    <tr>\n",
       "      <th>5</th>\n",
       "      <td>0038e4cc0089e5a289601a79af4b6c6f2c9efc97</td>\n",
       "      <td>2019-06-06</td>\n",
       "      <td>0.0</td>\n",
       "      <td>0.254167</td>\n",
       "    </tr>\n",
       "    <tr>\n",
       "      <th>6</th>\n",
       "      <td>0038e4cc0089e5a289601a79af4b6c6f2c9efc97</td>\n",
       "      <td>2019-06-07</td>\n",
       "      <td>0.0</td>\n",
       "      <td>0.316667</td>\n",
       "    </tr>\n",
       "    <tr>\n",
       "      <th>7</th>\n",
       "      <td>0038e4cc0089e5a289601a79af4b6c6f2c9efc97</td>\n",
       "      <td>2019-06-08</td>\n",
       "      <td>0.0</td>\n",
       "      <td>0.712500</td>\n",
       "    </tr>\n",
       "    <tr>\n",
       "      <th>8</th>\n",
       "      <td>0038e4cc0089e5a289601a79af4b6c6f2c9efc97</td>\n",
       "      <td>2019-06-09</td>\n",
       "      <td>0.0</td>\n",
       "      <td>1.700000</td>\n",
       "    </tr>\n",
       "    <tr>\n",
       "      <th>9</th>\n",
       "      <td>0038e4cc0089e5a289601a79af4b6c6f2c9efc97</td>\n",
       "      <td>2019-06-10</td>\n",
       "      <td>0.0</td>\n",
       "      <td>1.295833</td>\n",
       "    </tr>\n",
       "  </tbody>\n",
       "</table>\n",
       "</div>"
      ],
      "text/plain": [
       "                                    user_id        Date  daily_total_heating  \\\n",
       "0  0038e4cc0089e5a289601a79af4b6c6f2c9efc97  2019-06-01                  0.0   \n",
       "1  0038e4cc0089e5a289601a79af4b6c6f2c9efc97  2019-06-02                  0.0   \n",
       "2  0038e4cc0089e5a289601a79af4b6c6f2c9efc97  2019-06-03                  0.0   \n",
       "3  0038e4cc0089e5a289601a79af4b6c6f2c9efc97  2019-06-04                  0.0   \n",
       "4  0038e4cc0089e5a289601a79af4b6c6f2c9efc97  2019-06-05                  0.0   \n",
       "5  0038e4cc0089e5a289601a79af4b6c6f2c9efc97  2019-06-06                  0.0   \n",
       "6  0038e4cc0089e5a289601a79af4b6c6f2c9efc97  2019-06-07                  0.0   \n",
       "7  0038e4cc0089e5a289601a79af4b6c6f2c9efc97  2019-06-08                  0.0   \n",
       "8  0038e4cc0089e5a289601a79af4b6c6f2c9efc97  2019-06-09                  0.0   \n",
       "9  0038e4cc0089e5a289601a79af4b6c6f2c9efc97  2019-06-10                  0.0   \n",
       "\n",
       "   daily_total_cooling  \n",
       "0             2.045833  \n",
       "1             1.479167  \n",
       "2             0.316667  \n",
       "3             3.216667  \n",
       "4             1.254167  \n",
       "5             0.254167  \n",
       "6             0.316667  \n",
       "7             0.712500  \n",
       "8             1.700000  \n",
       "9             1.295833  "
      ]
     },
     "execution_count": 10,
     "metadata": {},
     "output_type": "execute_result"
    }
   ],
   "source": [
    "df_sac_19_daily_midpeak.head(10)"
   ]
  },
  {
   "cell_type": "code",
   "execution_count": 11,
   "metadata": {
    "ExecuteTime": {
     "end_time": "2021-04-14T20:04:23.112911Z",
     "start_time": "2021-04-14T20:04:23.097908Z"
    }
   },
   "outputs": [
    {
     "data": {
      "text/html": [
       "<div>\n",
       "<style scoped>\n",
       "    .dataframe tbody tr th:only-of-type {\n",
       "        vertical-align: middle;\n",
       "    }\n",
       "\n",
       "    .dataframe tbody tr th {\n",
       "        vertical-align: top;\n",
       "    }\n",
       "\n",
       "    .dataframe thead th {\n",
       "        text-align: right;\n",
       "    }\n",
       "</style>\n",
       "<table border=\"1\" class=\"dataframe\">\n",
       "  <thead>\n",
       "    <tr style=\"text-align: right;\">\n",
       "      <th></th>\n",
       "      <th>user_id</th>\n",
       "      <th>Date</th>\n",
       "      <th>daily_total_heating</th>\n",
       "      <th>daily_total_cooling</th>\n",
       "    </tr>\n",
       "  </thead>\n",
       "  <tbody>\n",
       "    <tr>\n",
       "      <th>0</th>\n",
       "      <td>0038e4cc0089e5a289601a79af4b6c6f2c9efc97</td>\n",
       "      <td>2018-06-01</td>\n",
       "      <td>0.0</td>\n",
       "      <td>0.975000</td>\n",
       "    </tr>\n",
       "    <tr>\n",
       "      <th>1</th>\n",
       "      <td>0038e4cc0089e5a289601a79af4b6c6f2c9efc97</td>\n",
       "      <td>2018-06-02</td>\n",
       "      <td>0.0</td>\n",
       "      <td>1.983333</td>\n",
       "    </tr>\n",
       "    <tr>\n",
       "      <th>2</th>\n",
       "      <td>0038e4cc0089e5a289601a79af4b6c6f2c9efc97</td>\n",
       "      <td>2018-06-03</td>\n",
       "      <td>0.0</td>\n",
       "      <td>3.512500</td>\n",
       "    </tr>\n",
       "    <tr>\n",
       "      <th>3</th>\n",
       "      <td>0038e4cc0089e5a289601a79af4b6c6f2c9efc97</td>\n",
       "      <td>2018-06-04</td>\n",
       "      <td>0.0</td>\n",
       "      <td>1.895833</td>\n",
       "    </tr>\n",
       "    <tr>\n",
       "      <th>4</th>\n",
       "      <td>0038e4cc0089e5a289601a79af4b6c6f2c9efc97</td>\n",
       "      <td>2018-06-05</td>\n",
       "      <td>0.0</td>\n",
       "      <td>1.179167</td>\n",
       "    </tr>\n",
       "  </tbody>\n",
       "</table>\n",
       "</div>"
      ],
      "text/plain": [
       "                                    user_id        Date  daily_total_heating  \\\n",
       "0  0038e4cc0089e5a289601a79af4b6c6f2c9efc97  2018-06-01                  0.0   \n",
       "1  0038e4cc0089e5a289601a79af4b6c6f2c9efc97  2018-06-02                  0.0   \n",
       "2  0038e4cc0089e5a289601a79af4b6c6f2c9efc97  2018-06-03                  0.0   \n",
       "3  0038e4cc0089e5a289601a79af4b6c6f2c9efc97  2018-06-04                  0.0   \n",
       "4  0038e4cc0089e5a289601a79af4b6c6f2c9efc97  2018-06-05                  0.0   \n",
       "\n",
       "   daily_total_cooling  \n",
       "0             0.975000  \n",
       "1             1.983333  \n",
       "2             3.512500  \n",
       "3             1.895833  \n",
       "4             1.179167  "
      ]
     },
     "execution_count": 11,
     "metadata": {},
     "output_type": "execute_result"
    }
   ],
   "source": [
    "df_sac_18n19_daily_midpeak=pd.concat([df_sac_18_daily_midpeak,df_sac_19_daily_midpeak])\n",
    "df_sac_18n19_daily_midpeak.head()"
   ]
  },
  {
   "cell_type": "code",
   "execution_count": 12,
   "metadata": {
    "ExecuteTime": {
     "end_time": "2021-04-14T20:04:23.144918Z",
     "start_time": "2021-04-14T20:04:23.113912Z"
    }
   },
   "outputs": [
    {
     "data": {
      "text/plain": [
       "244    30744\n",
       "122    16714\n",
       "121     3509\n",
       "243     1944\n",
       "241      964\n",
       "Name: count, dtype: int64"
      ]
     },
     "execution_count": 12,
     "metadata": {},
     "output_type": "execute_result"
    }
   ],
   "source": [
    "df_sac_18n19_daily_midpeak['count'] = df_sac_18n19_daily_midpeak.groupby('user_id')['user_id'].transform('count')\n",
    "df_sac_18n19_daily_midpeak['count'].value_counts().head()"
   ]
  },
  {
   "cell_type": "code",
   "execution_count": 13,
   "metadata": {
    "ExecuteTime": {
     "end_time": "2021-04-14T20:04:23.160922Z",
     "start_time": "2021-04-14T20:04:23.146920Z"
    }
   },
   "outputs": [
    {
     "data": {
      "text/html": [
       "<div>\n",
       "<style scoped>\n",
       "    .dataframe tbody tr th:only-of-type {\n",
       "        vertical-align: middle;\n",
       "    }\n",
       "\n",
       "    .dataframe tbody tr th {\n",
       "        vertical-align: top;\n",
       "    }\n",
       "\n",
       "    .dataframe thead th {\n",
       "        text-align: right;\n",
       "    }\n",
       "</style>\n",
       "<table border=\"1\" class=\"dataframe\">\n",
       "  <thead>\n",
       "    <tr style=\"text-align: right;\">\n",
       "      <th></th>\n",
       "      <th>user_id</th>\n",
       "      <th>Date</th>\n",
       "      <th>daily_total_heating</th>\n",
       "      <th>daily_total_cooling</th>\n",
       "      <th>count</th>\n",
       "    </tr>\n",
       "  </thead>\n",
       "  <tbody>\n",
       "    <tr>\n",
       "      <th>0</th>\n",
       "      <td>0038e4cc0089e5a289601a79af4b6c6f2c9efc97</td>\n",
       "      <td>2018-06-01</td>\n",
       "      <td>0.0</td>\n",
       "      <td>0.975000</td>\n",
       "      <td>244</td>\n",
       "    </tr>\n",
       "    <tr>\n",
       "      <th>1</th>\n",
       "      <td>0038e4cc0089e5a289601a79af4b6c6f2c9efc97</td>\n",
       "      <td>2018-06-02</td>\n",
       "      <td>0.0</td>\n",
       "      <td>1.983333</td>\n",
       "      <td>244</td>\n",
       "    </tr>\n",
       "    <tr>\n",
       "      <th>2</th>\n",
       "      <td>0038e4cc0089e5a289601a79af4b6c6f2c9efc97</td>\n",
       "      <td>2018-06-03</td>\n",
       "      <td>0.0</td>\n",
       "      <td>3.512500</td>\n",
       "      <td>244</td>\n",
       "    </tr>\n",
       "    <tr>\n",
       "      <th>3</th>\n",
       "      <td>0038e4cc0089e5a289601a79af4b6c6f2c9efc97</td>\n",
       "      <td>2018-06-04</td>\n",
       "      <td>0.0</td>\n",
       "      <td>1.895833</td>\n",
       "      <td>244</td>\n",
       "    </tr>\n",
       "    <tr>\n",
       "      <th>4</th>\n",
       "      <td>0038e4cc0089e5a289601a79af4b6c6f2c9efc97</td>\n",
       "      <td>2018-06-05</td>\n",
       "      <td>0.0</td>\n",
       "      <td>1.179167</td>\n",
       "      <td>244</td>\n",
       "    </tr>\n",
       "  </tbody>\n",
       "</table>\n",
       "</div>"
      ],
      "text/plain": [
       "                                    user_id        Date  daily_total_heating  \\\n",
       "0  0038e4cc0089e5a289601a79af4b6c6f2c9efc97  2018-06-01                  0.0   \n",
       "1  0038e4cc0089e5a289601a79af4b6c6f2c9efc97  2018-06-02                  0.0   \n",
       "2  0038e4cc0089e5a289601a79af4b6c6f2c9efc97  2018-06-03                  0.0   \n",
       "3  0038e4cc0089e5a289601a79af4b6c6f2c9efc97  2018-06-04                  0.0   \n",
       "4  0038e4cc0089e5a289601a79af4b6c6f2c9efc97  2018-06-05                  0.0   \n",
       "\n",
       "   daily_total_cooling  count  \n",
       "0             0.975000    244  \n",
       "1             1.983333    244  \n",
       "2             3.512500    244  \n",
       "3             1.895833    244  \n",
       "4             1.179167    244  "
      ]
     },
     "execution_count": 13,
     "metadata": {},
     "output_type": "execute_result"
    }
   ],
   "source": [
    "df_sac_18n19_daily_midpeak.head()"
   ]
  },
  {
   "cell_type": "code",
   "execution_count": 14,
   "metadata": {
    "ExecuteTime": {
     "end_time": "2021-04-14T20:04:23.192930Z",
     "start_time": "2021-04-14T20:04:23.162923Z"
    }
   },
   "outputs": [
    {
     "data": {
      "text/html": [
       "<div>\n",
       "<style scoped>\n",
       "    .dataframe tbody tr th:only-of-type {\n",
       "        vertical-align: middle;\n",
       "    }\n",
       "\n",
       "    .dataframe tbody tr th {\n",
       "        vertical-align: top;\n",
       "    }\n",
       "\n",
       "    .dataframe thead th {\n",
       "        text-align: right;\n",
       "    }\n",
       "</style>\n",
       "<table border=\"1\" class=\"dataframe\">\n",
       "  <thead>\n",
       "    <tr style=\"text-align: right;\">\n",
       "      <th></th>\n",
       "      <th>user_id</th>\n",
       "      <th>Date</th>\n",
       "      <th>daily_total_heating</th>\n",
       "      <th>daily_total_cooling</th>\n",
       "      <th>count</th>\n",
       "    </tr>\n",
       "  </thead>\n",
       "  <tbody>\n",
       "    <tr>\n",
       "      <th>0</th>\n",
       "      <td>0038e4cc0089e5a289601a79af4b6c6f2c9efc97</td>\n",
       "      <td>2018-06-01</td>\n",
       "      <td>0.0</td>\n",
       "      <td>0.975000</td>\n",
       "      <td>244</td>\n",
       "    </tr>\n",
       "    <tr>\n",
       "      <th>1</th>\n",
       "      <td>0038e4cc0089e5a289601a79af4b6c6f2c9efc97</td>\n",
       "      <td>2018-06-02</td>\n",
       "      <td>0.0</td>\n",
       "      <td>1.983333</td>\n",
       "      <td>244</td>\n",
       "    </tr>\n",
       "    <tr>\n",
       "      <th>2</th>\n",
       "      <td>0038e4cc0089e5a289601a79af4b6c6f2c9efc97</td>\n",
       "      <td>2018-06-03</td>\n",
       "      <td>0.0</td>\n",
       "      <td>3.512500</td>\n",
       "      <td>244</td>\n",
       "    </tr>\n",
       "    <tr>\n",
       "      <th>3</th>\n",
       "      <td>0038e4cc0089e5a289601a79af4b6c6f2c9efc97</td>\n",
       "      <td>2018-06-04</td>\n",
       "      <td>0.0</td>\n",
       "      <td>1.895833</td>\n",
       "      <td>244</td>\n",
       "    </tr>\n",
       "    <tr>\n",
       "      <th>4</th>\n",
       "      <td>0038e4cc0089e5a289601a79af4b6c6f2c9efc97</td>\n",
       "      <td>2018-06-05</td>\n",
       "      <td>0.0</td>\n",
       "      <td>1.179167</td>\n",
       "      <td>244</td>\n",
       "    </tr>\n",
       "  </tbody>\n",
       "</table>\n",
       "</div>"
      ],
      "text/plain": [
       "                                    user_id       Date  daily_total_heating  \\\n",
       "0  0038e4cc0089e5a289601a79af4b6c6f2c9efc97 2018-06-01                  0.0   \n",
       "1  0038e4cc0089e5a289601a79af4b6c6f2c9efc97 2018-06-02                  0.0   \n",
       "2  0038e4cc0089e5a289601a79af4b6c6f2c9efc97 2018-06-03                  0.0   \n",
       "3  0038e4cc0089e5a289601a79af4b6c6f2c9efc97 2018-06-04                  0.0   \n",
       "4  0038e4cc0089e5a289601a79af4b6c6f2c9efc97 2018-06-05                  0.0   \n",
       "\n",
       "   daily_total_cooling  count  \n",
       "0             0.975000    244  \n",
       "1             1.983333    244  \n",
       "2             3.512500    244  \n",
       "3             1.895833    244  \n",
       "4             1.179167    244  "
      ]
     },
     "execution_count": 14,
     "metadata": {},
     "output_type": "execute_result"
    }
   ],
   "source": [
    "df_sac_18n19_daily_midpeak=df_sac_18n19_daily_midpeak[df_sac_18n19_daily_midpeak['count']==244]\n",
    "df_sac_18n19_daily_midpeak['Date']=pd.to_datetime(df_sac_18n19_daily_midpeak['Date'])\n",
    "df_sac_18n19_daily_midpeak.head()"
   ]
  },
  {
   "cell_type": "code",
   "execution_count": 15,
   "metadata": {
    "ExecuteTime": {
     "end_time": "2021-04-14T20:04:23.208933Z",
     "start_time": "2021-04-14T20:04:23.194931Z"
    }
   },
   "outputs": [
    {
     "data": {
      "text/plain": [
       "126"
      ]
     },
     "execution_count": 15,
     "metadata": {},
     "output_type": "execute_result"
    }
   ],
   "source": [
    "df_sac_18n19_daily_midpeak.user_id.nunique()"
   ]
  },
  {
   "cell_type": "code",
   "execution_count": 16,
   "metadata": {
    "ExecuteTime": {
     "end_time": "2021-04-14T20:04:23.224936Z",
     "start_time": "2021-04-14T20:04:23.210934Z"
    }
   },
   "outputs": [
    {
     "name": "stdout",
     "output_type": "stream",
     "text": [
      "<class 'pandas.core.frame.DataFrame'>\n",
      "RangeIndex: 730 entries, 0 to 729\n",
      "Data columns (total 6 columns):\n",
      " #   Column   Non-Null Count  Dtype         \n",
      "---  ------   --------------  -----         \n",
      " 0   STATION  730 non-null    object        \n",
      " 1   NAME     730 non-null    object        \n",
      " 2   DATE     730 non-null    datetime64[ns]\n",
      " 3   TAVG     730 non-null    int64         \n",
      " 4   TMAX     730 non-null    int64         \n",
      " 5   TMIN     730 non-null    int64         \n",
      "dtypes: datetime64[ns](1), int64(3), object(2)\n",
      "memory usage: 34.3+ KB\n"
     ]
    }
   ],
   "source": [
    "df_temperature=pd.read_csv(r'F:\\Ecobee\\smf_temp_18and19.csv', parse_dates=['DATE'])\n",
    "df_temperature.info()"
   ]
  },
  {
   "cell_type": "code",
   "execution_count": 17,
   "metadata": {
    "ExecuteTime": {
     "end_time": "2021-04-14T20:04:23.240940Z",
     "start_time": "2021-04-14T20:04:23.226937Z"
    }
   },
   "outputs": [
    {
     "data": {
      "text/html": [
       "<div>\n",
       "<style scoped>\n",
       "    .dataframe tbody tr th:only-of-type {\n",
       "        vertical-align: middle;\n",
       "    }\n",
       "\n",
       "    .dataframe tbody tr th {\n",
       "        vertical-align: top;\n",
       "    }\n",
       "\n",
       "    .dataframe thead th {\n",
       "        text-align: right;\n",
       "    }\n",
       "</style>\n",
       "<table border=\"1\" class=\"dataframe\">\n",
       "  <thead>\n",
       "    <tr style=\"text-align: right;\">\n",
       "      <th></th>\n",
       "      <th>STATION</th>\n",
       "      <th>NAME</th>\n",
       "      <th>DATE</th>\n",
       "      <th>TAVG</th>\n",
       "      <th>TMAX</th>\n",
       "      <th>TMIN</th>\n",
       "    </tr>\n",
       "  </thead>\n",
       "  <tbody>\n",
       "    <tr>\n",
       "      <th>0</th>\n",
       "      <td>USW00023232</td>\n",
       "      <td>SACRAMENTO AIRPORT ASOS, CA US</td>\n",
       "      <td>2018-01-01</td>\n",
       "      <td>49</td>\n",
       "      <td>65</td>\n",
       "      <td>38</td>\n",
       "    </tr>\n",
       "    <tr>\n",
       "      <th>1</th>\n",
       "      <td>USW00023232</td>\n",
       "      <td>SACRAMENTO AIRPORT ASOS, CA US</td>\n",
       "      <td>2018-01-02</td>\n",
       "      <td>48</td>\n",
       "      <td>59</td>\n",
       "      <td>39</td>\n",
       "    </tr>\n",
       "    <tr>\n",
       "      <th>2</th>\n",
       "      <td>USW00023232</td>\n",
       "      <td>SACRAMENTO AIRPORT ASOS, CA US</td>\n",
       "      <td>2018-01-03</td>\n",
       "      <td>50</td>\n",
       "      <td>57</td>\n",
       "      <td>40</td>\n",
       "    </tr>\n",
       "    <tr>\n",
       "      <th>3</th>\n",
       "      <td>USW00023232</td>\n",
       "      <td>SACRAMENTO AIRPORT ASOS, CA US</td>\n",
       "      <td>2018-01-04</td>\n",
       "      <td>55</td>\n",
       "      <td>65</td>\n",
       "      <td>49</td>\n",
       "    </tr>\n",
       "    <tr>\n",
       "      <th>4</th>\n",
       "      <td>USW00023232</td>\n",
       "      <td>SACRAMENTO AIRPORT ASOS, CA US</td>\n",
       "      <td>2018-01-05</td>\n",
       "      <td>55</td>\n",
       "      <td>60</td>\n",
       "      <td>50</td>\n",
       "    </tr>\n",
       "  </tbody>\n",
       "</table>\n",
       "</div>"
      ],
      "text/plain": [
       "       STATION                            NAME       DATE  TAVG  TMAX  TMIN\n",
       "0  USW00023232  SACRAMENTO AIRPORT ASOS, CA US 2018-01-01    49    65    38\n",
       "1  USW00023232  SACRAMENTO AIRPORT ASOS, CA US 2018-01-02    48    59    39\n",
       "2  USW00023232  SACRAMENTO AIRPORT ASOS, CA US 2018-01-03    50    57    40\n",
       "3  USW00023232  SACRAMENTO AIRPORT ASOS, CA US 2018-01-04    55    65    49\n",
       "4  USW00023232  SACRAMENTO AIRPORT ASOS, CA US 2018-01-05    55    60    50"
      ]
     },
     "execution_count": 17,
     "metadata": {},
     "output_type": "execute_result"
    }
   ],
   "source": [
    "df_temperature.head()"
   ]
  },
  {
   "cell_type": "code",
   "execution_count": 18,
   "metadata": {
    "ExecuteTime": {
     "end_time": "2021-04-14T20:04:23.256945Z",
     "start_time": "2021-04-14T20:04:23.242942Z"
    }
   },
   "outputs": [
    {
     "data": {
      "text/html": [
       "<div>\n",
       "<style scoped>\n",
       "    .dataframe tbody tr th:only-of-type {\n",
       "        vertical-align: middle;\n",
       "    }\n",
       "\n",
       "    .dataframe tbody tr th {\n",
       "        vertical-align: top;\n",
       "    }\n",
       "\n",
       "    .dataframe thead th {\n",
       "        text-align: right;\n",
       "    }\n",
       "</style>\n",
       "<table border=\"1\" class=\"dataframe\">\n",
       "  <thead>\n",
       "    <tr style=\"text-align: right;\">\n",
       "      <th></th>\n",
       "      <th>user_id</th>\n",
       "      <th>Date</th>\n",
       "      <th>daily_total_heating</th>\n",
       "      <th>daily_total_cooling</th>\n",
       "      <th>count</th>\n",
       "      <th>STATION</th>\n",
       "      <th>NAME</th>\n",
       "      <th>DATE</th>\n",
       "      <th>TAVG</th>\n",
       "      <th>TMAX</th>\n",
       "      <th>TMIN</th>\n",
       "    </tr>\n",
       "  </thead>\n",
       "  <tbody>\n",
       "    <tr>\n",
       "      <th>0</th>\n",
       "      <td>0038e4cc0089e5a289601a79af4b6c6f2c9efc97</td>\n",
       "      <td>2018-06-01</td>\n",
       "      <td>0.0</td>\n",
       "      <td>0.975000</td>\n",
       "      <td>244</td>\n",
       "      <td>USW00023232</td>\n",
       "      <td>SACRAMENTO AIRPORT ASOS, CA US</td>\n",
       "      <td>2018-06-01</td>\n",
       "      <td>65</td>\n",
       "      <td>86</td>\n",
       "      <td>49</td>\n",
       "    </tr>\n",
       "    <tr>\n",
       "      <th>1</th>\n",
       "      <td>0038e4cc0089e5a289601a79af4b6c6f2c9efc97</td>\n",
       "      <td>2018-06-02</td>\n",
       "      <td>0.0</td>\n",
       "      <td>1.983333</td>\n",
       "      <td>244</td>\n",
       "      <td>USW00023232</td>\n",
       "      <td>SACRAMENTO AIRPORT ASOS, CA US</td>\n",
       "      <td>2018-06-02</td>\n",
       "      <td>74</td>\n",
       "      <td>96</td>\n",
       "      <td>55</td>\n",
       "    </tr>\n",
       "    <tr>\n",
       "      <th>2</th>\n",
       "      <td>0038e4cc0089e5a289601a79af4b6c6f2c9efc97</td>\n",
       "      <td>2018-06-03</td>\n",
       "      <td>0.0</td>\n",
       "      <td>3.512500</td>\n",
       "      <td>244</td>\n",
       "      <td>USW00023232</td>\n",
       "      <td>SACRAMENTO AIRPORT ASOS, CA US</td>\n",
       "      <td>2018-06-03</td>\n",
       "      <td>78</td>\n",
       "      <td>98</td>\n",
       "      <td>58</td>\n",
       "    </tr>\n",
       "    <tr>\n",
       "      <th>3</th>\n",
       "      <td>0038e4cc0089e5a289601a79af4b6c6f2c9efc97</td>\n",
       "      <td>2018-06-04</td>\n",
       "      <td>0.0</td>\n",
       "      <td>1.895833</td>\n",
       "      <td>244</td>\n",
       "      <td>USW00023232</td>\n",
       "      <td>SACRAMENTO AIRPORT ASOS, CA US</td>\n",
       "      <td>2018-06-04</td>\n",
       "      <td>76</td>\n",
       "      <td>89</td>\n",
       "      <td>58</td>\n",
       "    </tr>\n",
       "    <tr>\n",
       "      <th>4</th>\n",
       "      <td>0038e4cc0089e5a289601a79af4b6c6f2c9efc97</td>\n",
       "      <td>2018-06-05</td>\n",
       "      <td>0.0</td>\n",
       "      <td>1.179167</td>\n",
       "      <td>244</td>\n",
       "      <td>USW00023232</td>\n",
       "      <td>SACRAMENTO AIRPORT ASOS, CA US</td>\n",
       "      <td>2018-06-05</td>\n",
       "      <td>67</td>\n",
       "      <td>84</td>\n",
       "      <td>53</td>\n",
       "    </tr>\n",
       "  </tbody>\n",
       "</table>\n",
       "</div>"
      ],
      "text/plain": [
       "                                    user_id       Date  daily_total_heating  \\\n",
       "0  0038e4cc0089e5a289601a79af4b6c6f2c9efc97 2018-06-01                  0.0   \n",
       "1  0038e4cc0089e5a289601a79af4b6c6f2c9efc97 2018-06-02                  0.0   \n",
       "2  0038e4cc0089e5a289601a79af4b6c6f2c9efc97 2018-06-03                  0.0   \n",
       "3  0038e4cc0089e5a289601a79af4b6c6f2c9efc97 2018-06-04                  0.0   \n",
       "4  0038e4cc0089e5a289601a79af4b6c6f2c9efc97 2018-06-05                  0.0   \n",
       "\n",
       "   daily_total_cooling  count      STATION                            NAME  \\\n",
       "0             0.975000    244  USW00023232  SACRAMENTO AIRPORT ASOS, CA US   \n",
       "1             1.983333    244  USW00023232  SACRAMENTO AIRPORT ASOS, CA US   \n",
       "2             3.512500    244  USW00023232  SACRAMENTO AIRPORT ASOS, CA US   \n",
       "3             1.895833    244  USW00023232  SACRAMENTO AIRPORT ASOS, CA US   \n",
       "4             1.179167    244  USW00023232  SACRAMENTO AIRPORT ASOS, CA US   \n",
       "\n",
       "        DATE  TAVG  TMAX  TMIN  \n",
       "0 2018-06-01    65    86    49  \n",
       "1 2018-06-02    74    96    55  \n",
       "2 2018-06-03    78    98    58  \n",
       "3 2018-06-04    76    89    58  \n",
       "4 2018-06-05    67    84    53  "
      ]
     },
     "execution_count": 18,
     "metadata": {},
     "output_type": "execute_result"
    }
   ],
   "source": [
    "df_sac_18n19_daily_midpeak_w_temperature=pd.merge(df_sac_18n19_daily_midpeak,df_temperature,how='left', left_on='Date', right_on='DATE')\n",
    "df_sac_18n19_daily_midpeak_w_temperature.head()"
   ]
  },
  {
   "cell_type": "code",
   "execution_count": 19,
   "metadata": {
    "ExecuteTime": {
     "end_time": "2021-04-14T20:04:23.272949Z",
     "start_time": "2021-04-14T20:04:23.257945Z"
    }
   },
   "outputs": [],
   "source": [
    "df_sac_18n19_daily_midpeak_w_temperature[\n",
    "    'TAVG_less_62'] = df_sac_18n19_daily_midpeak_w_temperature['TAVG'] - 62\n",
    "df_sac_18n19_daily_midpeak_w_temperature[\n",
    "    'TAVG_less_62'] = df_sac_18n19_daily_midpeak_w_temperature[\n",
    "        'TAVG_less_62'].apply(lambda x: x if x > 0 else 0)"
   ]
  },
  {
   "cell_type": "code",
   "execution_count": 20,
   "metadata": {
    "ExecuteTime": {
     "end_time": "2021-04-14T20:04:23.304956Z",
     "start_time": "2021-04-14T20:04:23.274948Z"
    }
   },
   "outputs": [
    {
     "data": {
      "text/html": [
       "<div>\n",
       "<style scoped>\n",
       "    .dataframe tbody tr th:only-of-type {\n",
       "        vertical-align: middle;\n",
       "    }\n",
       "\n",
       "    .dataframe tbody tr th {\n",
       "        vertical-align: top;\n",
       "    }\n",
       "\n",
       "    .dataframe thead th {\n",
       "        text-align: right;\n",
       "    }\n",
       "</style>\n",
       "<table border=\"1\" class=\"dataframe\">\n",
       "  <thead>\n",
       "    <tr style=\"text-align: right;\">\n",
       "      <th></th>\n",
       "      <th>daily_total_heating</th>\n",
       "      <th>daily_total_cooling</th>\n",
       "      <th>count</th>\n",
       "      <th>TAVG</th>\n",
       "      <th>TMAX</th>\n",
       "      <th>TMIN</th>\n",
       "      <th>TAVG_less_62</th>\n",
       "      <th>y2019</th>\n",
       "    </tr>\n",
       "  </thead>\n",
       "  <tbody>\n",
       "    <tr>\n",
       "      <th>count</th>\n",
       "      <td>30744.000000</td>\n",
       "      <td>30744.000000</td>\n",
       "      <td>30744.0</td>\n",
       "      <td>30744.000000</td>\n",
       "      <td>30744.000000</td>\n",
       "      <td>30744.000000</td>\n",
       "      <td>30744.000000</td>\n",
       "      <td>30744.000000</td>\n",
       "    </tr>\n",
       "    <tr>\n",
       "      <th>mean</th>\n",
       "      <td>0.000122</td>\n",
       "      <td>1.831099</td>\n",
       "      <td>244.0</td>\n",
       "      <td>72.741803</td>\n",
       "      <td>90.385246</td>\n",
       "      <td>58.508197</td>\n",
       "      <td>10.778689</td>\n",
       "      <td>0.500000</td>\n",
       "    </tr>\n",
       "    <tr>\n",
       "      <th>std</th>\n",
       "      <td>0.007283</td>\n",
       "      <td>1.880144</td>\n",
       "      <td>0.0</td>\n",
       "      <td>5.188633</td>\n",
       "      <td>7.225921</td>\n",
       "      <td>4.006711</td>\n",
       "      <td>5.098318</td>\n",
       "      <td>0.500008</td>\n",
       "    </tr>\n",
       "    <tr>\n",
       "      <th>min</th>\n",
       "      <td>0.000000</td>\n",
       "      <td>0.000000</td>\n",
       "      <td>244.0</td>\n",
       "      <td>58.000000</td>\n",
       "      <td>69.000000</td>\n",
       "      <td>45.000000</td>\n",
       "      <td>0.000000</td>\n",
       "      <td>0.000000</td>\n",
       "    </tr>\n",
       "    <tr>\n",
       "      <th>25%</th>\n",
       "      <td>0.000000</td>\n",
       "      <td>0.091667</td>\n",
       "      <td>244.0</td>\n",
       "      <td>69.000000</td>\n",
       "      <td>86.000000</td>\n",
       "      <td>56.000000</td>\n",
       "      <td>7.000000</td>\n",
       "      <td>0.000000</td>\n",
       "    </tr>\n",
       "    <tr>\n",
       "      <th>50%</th>\n",
       "      <td>0.000000</td>\n",
       "      <td>1.383333</td>\n",
       "      <td>244.0</td>\n",
       "      <td>73.000000</td>\n",
       "      <td>91.000000</td>\n",
       "      <td>58.000000</td>\n",
       "      <td>11.000000</td>\n",
       "      <td>0.500000</td>\n",
       "    </tr>\n",
       "    <tr>\n",
       "      <th>75%</th>\n",
       "      <td>0.000000</td>\n",
       "      <td>2.887500</td>\n",
       "      <td>244.0</td>\n",
       "      <td>76.250000</td>\n",
       "      <td>96.000000</td>\n",
       "      <td>61.000000</td>\n",
       "      <td>14.250000</td>\n",
       "      <td>1.000000</td>\n",
       "    </tr>\n",
       "    <tr>\n",
       "      <th>max</th>\n",
       "      <td>0.779167</td>\n",
       "      <td>9.000000</td>\n",
       "      <td>244.0</td>\n",
       "      <td>86.000000</td>\n",
       "      <td>105.000000</td>\n",
       "      <td>69.000000</td>\n",
       "      <td>24.000000</td>\n",
       "      <td>1.000000</td>\n",
       "    </tr>\n",
       "  </tbody>\n",
       "</table>\n",
       "</div>"
      ],
      "text/plain": [
       "       daily_total_heating  daily_total_cooling    count          TAVG  \\\n",
       "count         30744.000000         30744.000000  30744.0  30744.000000   \n",
       "mean              0.000122             1.831099    244.0     72.741803   \n",
       "std               0.007283             1.880144      0.0      5.188633   \n",
       "min               0.000000             0.000000    244.0     58.000000   \n",
       "25%               0.000000             0.091667    244.0     69.000000   \n",
       "50%               0.000000             1.383333    244.0     73.000000   \n",
       "75%               0.000000             2.887500    244.0     76.250000   \n",
       "max               0.779167             9.000000    244.0     86.000000   \n",
       "\n",
       "               TMAX          TMIN  TAVG_less_62         y2019  \n",
       "count  30744.000000  30744.000000  30744.000000  30744.000000  \n",
       "mean      90.385246     58.508197     10.778689      0.500000  \n",
       "std        7.225921      4.006711      5.098318      0.500008  \n",
       "min       69.000000     45.000000      0.000000      0.000000  \n",
       "25%       86.000000     56.000000      7.000000      0.000000  \n",
       "50%       91.000000     58.000000     11.000000      0.500000  \n",
       "75%       96.000000     61.000000     14.250000      1.000000  \n",
       "max      105.000000     69.000000     24.000000      1.000000  "
      ]
     },
     "execution_count": 20,
     "metadata": {},
     "output_type": "execute_result"
    }
   ],
   "source": [
    "df_sac_18n19_daily_midpeak_w_temperature['y2019']=np.where(df_sac_18n19_daily_midpeak_w_temperature['Date'].dt.year== 2019, 1, 0)\n",
    "# [df_sac_18n19_daily_midpeak_w_temperature['Date'].dt.year==2019]\n",
    "df_sac_18n19_daily_midpeak_w_temperature.describe()"
   ]
  },
  {
   "cell_type": "code",
   "execution_count": 21,
   "metadata": {
    "ExecuteTime": {
     "end_time": "2021-04-14T20:04:23.320958Z",
     "start_time": "2021-04-14T20:04:23.306955Z"
    }
   },
   "outputs": [],
   "source": [
    "df_sac_18n19_daily_midpeak_w_temperature[\n",
    "    'interaction'] = df_sac_18n19_daily_midpeak_w_temperature[\n",
    "        'TAVG_less_62'] * df_sac_18n19_daily_midpeak_w_temperature['y2019']"
   ]
  },
  {
   "cell_type": "code",
   "execution_count": 22,
   "metadata": {
    "ExecuteTime": {
     "end_time": "2021-04-14T20:04:24.071127Z",
     "start_time": "2021-04-14T20:04:23.322959Z"
    }
   },
   "outputs": [
    {
     "data": {
      "text/html": [
       "<div>\n",
       "<style scoped>\n",
       "    .dataframe tbody tr th:only-of-type {\n",
       "        vertical-align: middle;\n",
       "    }\n",
       "\n",
       "    .dataframe tbody tr th {\n",
       "        vertical-align: top;\n",
       "    }\n",
       "\n",
       "    .dataframe thead th {\n",
       "        text-align: right;\n",
       "    }\n",
       "</style>\n",
       "<table border=\"1\" class=\"dataframe\">\n",
       "  <thead>\n",
       "    <tr style=\"text-align: right;\">\n",
       "      <th></th>\n",
       "      <th>user_id</th>\n",
       "      <th>TAVG_less_62</th>\n",
       "      <th>interaction</th>\n",
       "      <th>intercept</th>\n",
       "    </tr>\n",
       "  </thead>\n",
       "  <tbody>\n",
       "    <tr>\n",
       "      <th>0</th>\n",
       "      <td>0038e4cc0089e5a289601a79af4b6c6f2c9efc97</td>\n",
       "      <td>0.146350</td>\n",
       "      <td>-0.028619</td>\n",
       "      <td>0.237301</td>\n",
       "    </tr>\n",
       "    <tr>\n",
       "      <th>1</th>\n",
       "      <td>00e2f68ec737f7480114a67bbef7c5f65b6b8516</td>\n",
       "      <td>0.219660</td>\n",
       "      <td>-0.022763</td>\n",
       "      <td>-0.907832</td>\n",
       "    </tr>\n",
       "    <tr>\n",
       "      <th>2</th>\n",
       "      <td>01479a9a84e1722791f2b440f6d4f14f51025499</td>\n",
       "      <td>0.113567</td>\n",
       "      <td>-0.001068</td>\n",
       "      <td>0.273397</td>\n",
       "    </tr>\n",
       "    <tr>\n",
       "      <th>3</th>\n",
       "      <td>0150a428f7cc891b6a69cb7db390869c96a24f1d</td>\n",
       "      <td>0.077834</td>\n",
       "      <td>0.218693</td>\n",
       "      <td>-0.190413</td>\n",
       "    </tr>\n",
       "    <tr>\n",
       "      <th>4</th>\n",
       "      <td>0614c5d47de23d61b21be2141907668a54bf45a0</td>\n",
       "      <td>0.159064</td>\n",
       "      <td>0.097279</td>\n",
       "      <td>0.128455</td>\n",
       "    </tr>\n",
       "    <tr>\n",
       "      <th>5</th>\n",
       "      <td>06d89337caa78e3ed6e3591c9e22b8808a82c327</td>\n",
       "      <td>0.243600</td>\n",
       "      <td>0.039091</td>\n",
       "      <td>-1.413259</td>\n",
       "    </tr>\n",
       "    <tr>\n",
       "      <th>6</th>\n",
       "      <td>0773f65bc76833bddd55f0f850ded5d14bc8ab99</td>\n",
       "      <td>0.115540</td>\n",
       "      <td>-0.020644</td>\n",
       "      <td>-0.225596</td>\n",
       "    </tr>\n",
       "    <tr>\n",
       "      <th>7</th>\n",
       "      <td>084a2b8c0522a36209d062d852d04bb64494ea84</td>\n",
       "      <td>0.214063</td>\n",
       "      <td>-0.007301</td>\n",
       "      <td>-0.368218</td>\n",
       "    </tr>\n",
       "    <tr>\n",
       "      <th>8</th>\n",
       "      <td>0aec426e98899420452f505669f36b1f47651c68</td>\n",
       "      <td>0.211457</td>\n",
       "      <td>-0.075094</td>\n",
       "      <td>-0.587542</td>\n",
       "    </tr>\n",
       "    <tr>\n",
       "      <th>9</th>\n",
       "      <td>0f50223ca3a7c1def87d95d3696719692d5d3d33</td>\n",
       "      <td>0.180712</td>\n",
       "      <td>-0.038271</td>\n",
       "      <td>-0.278258</td>\n",
       "    </tr>\n",
       "  </tbody>\n",
       "</table>\n",
       "</div>"
      ],
      "text/plain": [
       "                                    user_id  TAVG_less_62  interaction  \\\n",
       "0  0038e4cc0089e5a289601a79af4b6c6f2c9efc97      0.146350    -0.028619   \n",
       "1  00e2f68ec737f7480114a67bbef7c5f65b6b8516      0.219660    -0.022763   \n",
       "2  01479a9a84e1722791f2b440f6d4f14f51025499      0.113567    -0.001068   \n",
       "3  0150a428f7cc891b6a69cb7db390869c96a24f1d      0.077834     0.218693   \n",
       "4  0614c5d47de23d61b21be2141907668a54bf45a0      0.159064     0.097279   \n",
       "5  06d89337caa78e3ed6e3591c9e22b8808a82c327      0.243600     0.039091   \n",
       "6  0773f65bc76833bddd55f0f850ded5d14bc8ab99      0.115540    -0.020644   \n",
       "7  084a2b8c0522a36209d062d852d04bb64494ea84      0.214063    -0.007301   \n",
       "8  0aec426e98899420452f505669f36b1f47651c68      0.211457    -0.075094   \n",
       "9  0f50223ca3a7c1def87d95d3696719692d5d3d33      0.180712    -0.038271   \n",
       "\n",
       "   intercept  \n",
       "0   0.237301  \n",
       "1  -0.907832  \n",
       "2   0.273397  \n",
       "3  -0.190413  \n",
       "4   0.128455  \n",
       "5  -1.413259  \n",
       "6  -0.225596  \n",
       "7  -0.368218  \n",
       "8  -0.587542  \n",
       "9  -0.278258  "
      ]
     },
     "execution_count": 22,
     "metadata": {},
     "output_type": "execute_result"
    }
   ],
   "source": [
    "import statsmodels.api as sm\n",
    "\n",
    "\n",
    "def regress(data, yvar, xvars):\n",
    "    Y = data[yvar]\n",
    "    X = data[xvars]\n",
    "    X['intercept'] = 1.\n",
    "    result = sm.OLS(Y, X).fit(cov_type='HC1')\n",
    "    return result.params\n",
    "\n",
    "\n",
    "#This is what you need\n",
    "results=df_sac_18n19_daily_midpeak_w_temperature.groupby('user_id').apply(\n",
    "    regress, 'daily_total_cooling', ['TAVG_less_62','interaction']).reset_index()\n",
    "results.head(10)"
   ]
  },
  {
   "cell_type": "code",
   "execution_count": 23,
   "metadata": {
    "ExecuteTime": {
     "end_time": "2021-04-14T20:04:24.342188Z",
     "start_time": "2021-04-14T20:04:24.075128Z"
    }
   },
   "outputs": [
    {
     "data": {
      "text/plain": [
       "<matplotlib.legend.Legend at 0x179584efe50>"
      ]
     },
     "execution_count": 23,
     "metadata": {},
     "output_type": "execute_result"
    },
    {
     "data": {
      "image/png": "[encoded data removed]",
      "text/plain": [
       "<Figure size 1080x720 with 1 Axes>"
      ]
     },
     "metadata": {
      "needs_background": "light"
     },
     "output_type": "display_data"
    }
   ],
   "source": [
    "# x axis range\n",
    "x = range(len(results))\n",
    "plt.figure(figsize=(15,10))\n",
    "# y2\n",
    "plt.plot(x,results['TAVG_less_62'],label='coeff:TAVG_less_62')\n",
    "# y2\n",
    "plt.plot(x,results['interaction'],label='coeff:interaction')\n",
    "# y=0 line \n",
    "plt.plot(x,[0] * len(results))\n",
    "plt.legend(loc=\"upper left\")"
   ]
  },
  {
   "cell_type": "code",
   "execution_count": 24,
   "metadata": {
    "ExecuteTime": {
     "end_time": "2021-04-14T20:04:24.358192Z",
     "start_time": "2021-04-14T20:04:24.344189Z"
    }
   },
   "outputs": [
    {
     "name": "stdout",
     "output_type": "stream",
     "text": [
      "user_id         50\n",
      "TAVG_less_62    50\n",
      "interaction     50\n",
      "intercept       50\n",
      "dtype: int64\n",
      "user_id         48\n",
      "TAVG_less_62    48\n",
      "interaction     48\n",
      "intercept       48\n",
      "dtype: int64\n"
     ]
    }
   ],
   "source": [
    "print(results[results.interaction > 0.01].count())\n",
    "print(results[results.interaction < -0.01].count())"
   ]
  },
  {
   "cell_type": "code",
   "execution_count": 25,
   "metadata": {
    "ExecuteTime": {
     "end_time": "2021-04-14T20:04:24.374196Z",
     "start_time": "2021-04-14T20:04:24.359192Z"
    }
   },
   "outputs": [
    {
     "name": "stdout",
     "output_type": "stream",
     "text": [
      "2.4625938534458394\n",
      "-2.409603791983063\n"
     ]
    }
   ],
   "source": [
    "print(results['interaction'][results.interaction > 0.01].sum())\n",
    "print(results['interaction'][results.interaction < -0.01].sum())\n",
    "# the sum of negative interaction coefficients has a larger scale"
   ]
  },
  {
   "cell_type": "code",
   "execution_count": 26,
   "metadata": {
    "ExecuteTime": {
     "end_time": "2021-04-14T20:04:24.406203Z",
     "start_time": "2021-04-14T20:04:24.375196Z"
    }
   },
   "outputs": [
    {
     "name": "stdout",
     "output_type": "stream",
     "text": [
      "                             OLS Regression Results                            \n",
      "===============================================================================\n",
      "Dep. Variable:     daily_total_cooling   R-squared:                       0.216\n",
      "Model:                             OLS   Adj. R-squared:                  0.216\n",
      "Method:                  Least Squares   F-statistic:                     4227.\n",
      "Date:                 Wed, 14 Apr 2021   Prob (F-statistic):               0.00\n",
      "Time:                         21:44:21   Log-Likelihood:                -59287.\n",
      "No. Observations:                30744   AIC:                         1.186e+05\n",
      "Df Residuals:                    30741   BIC:                         1.186e+05\n",
      "Df Model:                            2                                         \n",
      "Covariance Type:                   HC1                                         \n",
      "================================================================================\n",
      "                   coef    std err          z      P>|z|      [0.025      0.975]\n",
      "--------------------------------------------------------------------------------\n",
      "TAVG_less_62     0.1711      0.002     77.112      0.000       0.167       0.175\n",
      "interaction      0.0006      0.002      0.301      0.763      -0.003       0.004\n",
      "const           -0.0167      0.018     -0.905      0.365      -0.053       0.019\n",
      "==============================================================================\n",
      "Omnibus:                     4803.110   Durbin-Watson:                   0.505\n",
      "Prob(Omnibus):                  0.000   Jarque-Bera (JB):             8557.325\n",
      "Skew:                           1.011   Prob(JB):                         0.00\n",
      "Kurtosis:                       4.611   Cond. No.                         33.3\n",
      "==============================================================================\n",
      "\n",
      "Notes:\n",
      "[1] Standard Errors are heteroscedasticity robust (HC1)\n"
     ]
    }
   ],
   "source": [
    "df_sac_18n19_daily_midpeak_w_temperature['const']=1\n",
    "reg1 = sm.OLS(endog=df_sac_18n19_daily_midpeak_w_temperature['daily_total_cooling'], \\\n",
    "              exog=df_sac_18n19_daily_midpeak_w_temperature[['TAVG_less_62','interaction','const']], \\\n",
    "    missing='drop')\n",
    "reg_result = reg1.fit(cov_type='HC1')\n",
    "print(reg_result.summary())\n",
    "#Mid-peak hours: Noon to Midnight except 5-8pm\n",
    "#2019 consumption NOT CHANGED"
   ]
  },
  {
   "cell_type": "code",
   "execution_count": 27,
   "metadata": {
    "ExecuteTime": {
     "end_time": "2021-04-14T20:19:20.017258Z",
     "start_time": "2021-04-14T20:19:20.004255Z"
    }
   },
   "outputs": [
    {
     "data": {
      "text/plain": [
       "126"
      ]
     },
     "execution_count": 27,
     "metadata": {},
     "output_type": "execute_result"
    }
   ],
   "source": [
    "df_sac_18n19_daily_midpeak.user_id.nunique()"
   ]
  },
  {
   "cell_type": "markdown",
   "metadata": {},
   "source": [
    "# Mid-peak hours: 2019 consumption NOT CHANGED"
   ]
  },
  {
   "cell_type": "code",
   "execution_count": 31,
   "metadata": {},
   "outputs": [
    {
     "data": {
      "text/plain": [
       "<matplotlib.collections.PathCollection at 0x1795734bdc0>"
      ]
     },
     "execution_count": 31,
     "metadata": {},
     "output_type": "execute_result"
    },
    {
     "data": {
      "image/png": "[encoded data removed]",
      "text/plain": [
       "<Figure size 432x288 with 1 Axes>"
      ]
     },
     "metadata": {
      "needs_background": "light"
     },
     "output_type": "display_data"
    }
   ],
   "source": [
    "ax = plt.gca()\n",
    "df_scatter18=df_sac_18n19_daily_midpeak_w_temperature[df_sac_18n19_daily_midpeak_w_temperature.y2019==0]\n",
    "df_scatter19=df_sac_18n19_daily_midpeak_w_temperature[df_sac_18n19_daily_midpeak_w_temperature.y2019==1]\n",
    "\n",
    "ax.scatter(df_scatter18['TAVG_less_62'], df_scatter18['daily_total_cooling'], color=\"b\")\n",
    "ax.scatter(df_scatter19['TAVG_less_62'], df_scatter19['daily_total_cooling'], color=\"r\")"
   ]
  }
 ],
 "metadata": {
  "kernelspec": {
   "display_name": "Python 3",
   "language": "python",
   "name": "python3"
  },
  "language_info": {
   "codemirror_mode": {
    "name": "ipython",
    "version": 3
   },
   "file_extension": ".py",
   "mimetype": "text/x-python",
   "name": "python",
   "nbconvert_exporter": "python",
   "pygments_lexer": "ipython3",
   "version": "3.8.5"
  },
  "varInspector": {
   "cols": {
    "lenName": 16,
    "lenType": 16,
    "lenVar": 40
   },
   "kernels_config": {
    "python": {
     "delete_cmd_postfix": "",
     "delete_cmd_prefix": "del ",
     "library": "var_list.py",
     "varRefreshCmd": "print(var_dic_list())"
    },
    "r": {
     "delete_cmd_postfix": ") ",
     "delete_cmd_prefix": "rm(",
     "library": "var_list.r",
     "varRefreshCmd": "cat(var_dic_list()) "
    }
   },
   "types_to_exclude": [
    "module",
    "function",
    "builtin_function_or_method",
    "instance",
    "_Feature"
   ],
   "window_display": false
  }
 },
 "nbformat": 4,
 "nbformat_minor": 4
}
