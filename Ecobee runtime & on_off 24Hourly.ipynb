{
 "cells": [
  {
   "cell_type": "code",
   "execution_count": 31,
   "metadata": {
    "ExecuteTime": {
     "end_time": "2021-04-14T19:41:25.035272Z",
     "start_time": "2021-04-14T19:41:22.596143Z"
    }
   },
   "outputs": [],
   "source": [
    "import warnings\n",
    "\n",
    "warnings.simplefilter(\"ignore\")\n",
    "\n",
    "import numpy as np\n",
    "import pandas as pd\n",
    "import seaborn as sns\n",
    "import matplotlib.pyplot as plt\n",
    "import os\n",
    "\n",
    "\n",
    "import graphviz\n",
    "from sklearn import tree\n",
    "from sklearn.tree import DecisionTreeClassifier\n",
    "from sklearn.preprocessing import LabelEncoder"
   ]
  },
  {
   "cell_type": "code",
   "execution_count": 32,
   "metadata": {},
   "outputs": [],
   "source": [
    "%matplotlib inline"
   ]
  },
  {
   "cell_type": "code",
   "execution_count": 33,
   "metadata": {},
   "outputs": [
    {
     "name": "stdout",
     "output_type": "stream",
     "text": [
      "The blackcellmagic extension is already loaded. To reload it, use:\n",
      "  %reload_ext blackcellmagic\n"
     ]
    }
   ],
   "source": [
    "%load_ext blackcellmagic"
   ]
  },
  {
   "cell_type": "code",
   "execution_count": 34,
   "metadata": {
    "ExecuteTime": {
     "end_time": "2021-04-14T19:42:34.607681Z",
     "start_time": "2021-04-14T19:41:28.213749Z"
    }
   },
   "outputs": [],
   "source": [
    "from zipfile import ZipFile\n",
    "\n",
    "directory_18 = r\"F:\\Ecobee\\files\\2018_sac\"\n",
    "df_sac_18_hourly_24h = pd.DataFrame()\n",
    "import datetime\n",
    "\n",
    "for filename in os.listdir(directory_18):\n",
    "    myzip = ZipFile(os.path.join(directory_18, filename))\n",
    "    g = myzip.open(filename[:-4])\n",
    "    df_temp = pd.read_csv(g, parse_dates=[\"DateTime\"])\n",
    "    df_temp1 = pd.get_dummies(df_temp, columns=[\"HvacMode\"])\n",
    "    df_temp1[\"Date\"] = df_temp1[\"DateTime\"].dt.date\n",
    "    df_temp1[\"HourOfDay\"] = df_temp1[\"DateTime\"].dt.hour\n",
    "    df_temp1[\"user_id\"] = filename[:-8]\n",
    "    df_temp1 = df_temp1[\n",
    "        (df_temp1[\"DateTime\"].dt.month >= 6) & (df_temp1[\"DateTime\"].dt.month <= 9)\n",
    "    ]  # summer days only\n",
    "\n",
    "    df_day = (\n",
    "        df_temp1.groupby([\"Date\", \"HourOfDay\"])\n",
    "        .agg(\n",
    "            hourly_total_cooling=pd.NamedAgg(column=\"compCool1\", aggfunc=sum),\n",
    "            user_id=pd.NamedAgg(column=\"user_id\", aggfunc=min),\n",
    "        )\n",
    "        .reset_index()\n",
    "    )\n",
    "    df_day['hourly_total_cooling'] = df_day['hourly_total_cooling'] / 3600\n",
    "    df_sac_18_hourly_24h = pd.concat([df_sac_18_hourly_24h, df_day])\n",
    "    g.close()\n",
    "    myzip.close()"
   ]
  },
  {
   "cell_type": "code",
   "execution_count": 35,
   "metadata": {
    "ExecuteTime": {
     "end_time": "2021-04-14T19:42:34.623685Z",
     "start_time": "2021-04-14T19:42:34.608682Z"
    }
   },
   "outputs": [
    {
     "name": "stdout",
     "output_type": "stream",
     "text": [
      "<class 'pandas.core.frame.DataFrame'>\n",
      "Int64Index: 508723 entries, 0 to 2927\n",
      "Data columns (total 4 columns):\n",
      " #   Column                Non-Null Count   Dtype  \n",
      "---  ------                --------------   -----  \n",
      " 0   Date                  508723 non-null  object \n",
      " 1   HourOfDay             508723 non-null  int64  \n",
      " 2   hourly_total_cooling  508723 non-null  float64\n",
      " 3   user_id               508723 non-null  object \n",
      "dtypes: float64(1), int64(1), object(2)\n",
      "memory usage: 19.4+ MB\n"
     ]
    }
   ],
   "source": [
    "df_sac_18_hourly_24h.info()"
   ]
  },
  {
   "cell_type": "code",
   "execution_count": 36,
   "metadata": {},
   "outputs": [
    {
     "data": {
      "text/html": [
       "<div>\n",
       "<style scoped>\n",
       "    .dataframe tbody tr th:only-of-type {\n",
       "        vertical-align: middle;\n",
       "    }\n",
       "\n",
       "    .dataframe tbody tr th {\n",
       "        vertical-align: top;\n",
       "    }\n",
       "\n",
       "    .dataframe thead th {\n",
       "        text-align: right;\n",
       "    }\n",
       "</style>\n",
       "<table border=\"1\" class=\"dataframe\">\n",
       "  <thead>\n",
       "    <tr style=\"text-align: right;\">\n",
       "      <th></th>\n",
       "      <th>Date</th>\n",
       "      <th>HourOfDay</th>\n",
       "      <th>hourly_total_cooling</th>\n",
       "      <th>user_id</th>\n",
       "    </tr>\n",
       "  </thead>\n",
       "  <tbody>\n",
       "    <tr>\n",
       "      <th>0</th>\n",
       "      <td>2018-06-01</td>\n",
       "      <td>0</td>\n",
       "      <td>0.0</td>\n",
       "      <td>0038e4cc0089e5a289601a79af4b6c6f2c9efc97</td>\n",
       "    </tr>\n",
       "    <tr>\n",
       "      <th>1</th>\n",
       "      <td>2018-06-01</td>\n",
       "      <td>1</td>\n",
       "      <td>0.0</td>\n",
       "      <td>0038e4cc0089e5a289601a79af4b6c6f2c9efc97</td>\n",
       "    </tr>\n",
       "    <tr>\n",
       "      <th>2</th>\n",
       "      <td>2018-06-01</td>\n",
       "      <td>2</td>\n",
       "      <td>0.0</td>\n",
       "      <td>0038e4cc0089e5a289601a79af4b6c6f2c9efc97</td>\n",
       "    </tr>\n",
       "    <tr>\n",
       "      <th>3</th>\n",
       "      <td>2018-06-01</td>\n",
       "      <td>3</td>\n",
       "      <td>0.0</td>\n",
       "      <td>0038e4cc0089e5a289601a79af4b6c6f2c9efc97</td>\n",
       "    </tr>\n",
       "    <tr>\n",
       "      <th>4</th>\n",
       "      <td>2018-06-01</td>\n",
       "      <td>4</td>\n",
       "      <td>0.0</td>\n",
       "      <td>0038e4cc0089e5a289601a79af4b6c6f2c9efc97</td>\n",
       "    </tr>\n",
       "  </tbody>\n",
       "</table>\n",
       "</div>"
      ],
      "text/plain": [
       "         Date  HourOfDay  hourly_total_cooling  \\\n",
       "0  2018-06-01          0                   0.0   \n",
       "1  2018-06-01          1                   0.0   \n",
       "2  2018-06-01          2                   0.0   \n",
       "3  2018-06-01          3                   0.0   \n",
       "4  2018-06-01          4                   0.0   \n",
       "\n",
       "                                    user_id  \n",
       "0  0038e4cc0089e5a289601a79af4b6c6f2c9efc97  \n",
       "1  0038e4cc0089e5a289601a79af4b6c6f2c9efc97  \n",
       "2  0038e4cc0089e5a289601a79af4b6c6f2c9efc97  \n",
       "3  0038e4cc0089e5a289601a79af4b6c6f2c9efc97  \n",
       "4  0038e4cc0089e5a289601a79af4b6c6f2c9efc97  "
      ]
     },
     "execution_count": 36,
     "metadata": {},
     "output_type": "execute_result"
    }
   ],
   "source": [
    "df_sac_18_hourly_24h.head()"
   ]
  },
  {
   "cell_type": "code",
   "execution_count": 37,
   "metadata": {
    "ExecuteTime": {
     "end_time": "2021-04-14T19:42:34.655693Z",
     "start_time": "2021-04-14T19:42:34.625686Z"
    }
   },
   "outputs": [],
   "source": [
    "# pd.set_option(\"display.max_rows\", None)\n",
    "# # remove user_ids that have no cooling consumption at all for 2018\n",
    "# df_18_temp = (\n",
    "#     df_sac_18_daily_24h[[\"user_id\", \"daily_total_cooling\"]]\n",
    "#     .groupby(\"user_id\")\n",
    "#     .max()\n",
    "#     .reset_index()\n",
    "# )\n",
    "# df_18_temp[\"any_usage\"] = df_18_temp.daily_total_cooling > 0\n",
    "# df_18_temp = df_18_temp[\"user_id\"][df_18_temp[\"any_usage\"] == True]\n",
    "# df_sac_18_daily_24h = pd.merge(\n",
    "#     df_18_temp, df_sac_18_daily_24h, how=\"left\", on=\"user_id\"\n",
    "# )"
   ]
  },
  {
   "cell_type": "code",
   "execution_count": 38,
   "metadata": {
    "ExecuteTime": {
     "end_time": "2021-04-14T19:42:34.671696Z",
     "start_time": "2021-04-14T19:42:34.656694Z"
    }
   },
   "outputs": [],
   "source": [
    "# df_sac_18_daily_24h.head()"
   ]
  },
  {
   "cell_type": "code",
   "execution_count": 39,
   "metadata": {
    "ExecuteTime": {
     "end_time": "2021-04-14T19:44:54.078084Z",
     "start_time": "2021-04-14T19:42:34.673696Z"
    }
   },
   "outputs": [],
   "source": [
    "from zipfile import ZipFile\n",
    "\n",
    "df_sac_19_hourly_24h = pd.DataFrame()\n",
    "directory_19 = r\"F:\\Ecobee\\files\\2019_sac\"\n",
    "import datetime\n",
    "\n",
    "for filename in os.listdir(directory_19):\n",
    "    myzip = ZipFile(os.path.join(directory_19, filename))\n",
    "    f = myzip.open(filename[:-4])\n",
    "    df_temp = pd.read_csv(f, parse_dates=[\"DateTime\"])\n",
    "    df_temp1 = pd.get_dummies(df_temp, columns=[\"HvacMode\"])\n",
    "    df_temp1[\"Date\"] = df_temp1[\"DateTime\"].dt.date\n",
    "    df_temp1[\"HourOfDay\"] = df_temp1[\"DateTime\"].dt.hour\n",
    "    df_temp1[\"user_id\"] = filename[:-8]\n",
    "    df_temp1 = df_temp1[\n",
    "        (df_temp1[\"DateTime\"].dt.month >= 6) & (df_temp1[\"DateTime\"].dt.month <= 9)\n",
    "    ]  # summer days only\n",
    "    df_day = (\n",
    "        df_temp1.groupby([\"Date\", \"HourOfDay\"])\n",
    "        .agg(\n",
    "            hourly_total_cooling=pd.NamedAgg(column=\"compCool1\", aggfunc=sum),\n",
    "            user_id=pd.NamedAgg(column=\"user_id\", aggfunc=min),\n",
    "        )\n",
    "        .reset_index()\n",
    "    )\n",
    "    df_day[\"hourly_total_cooling\"] = df_day[\"hourly_total_cooling\"] / 3600\n",
    "    df_sac_19_hourly_24h = pd.concat([df_sac_19_hourly_24h, df_day])\n",
    "    f.close()\n",
    "    myzip.close()"
   ]
  },
  {
   "cell_type": "code",
   "execution_count": 40,
   "metadata": {
    "ExecuteTime": {
     "end_time": "2021-04-14T19:44:54.094086Z",
     "start_time": "2021-04-14T19:44:54.080084Z"
    }
   },
   "outputs": [
    {
     "data": {
      "text/html": [
       "<div>\n",
       "<style scoped>\n",
       "    .dataframe tbody tr th:only-of-type {\n",
       "        vertical-align: middle;\n",
       "    }\n",
       "\n",
       "    .dataframe tbody tr th {\n",
       "        vertical-align: top;\n",
       "    }\n",
       "\n",
       "    .dataframe thead th {\n",
       "        text-align: right;\n",
       "    }\n",
       "</style>\n",
       "<table border=\"1\" class=\"dataframe\">\n",
       "  <thead>\n",
       "    <tr style=\"text-align: right;\">\n",
       "      <th></th>\n",
       "      <th>Date</th>\n",
       "      <th>HourOfDay</th>\n",
       "      <th>hourly_total_cooling</th>\n",
       "      <th>user_id</th>\n",
       "    </tr>\n",
       "  </thead>\n",
       "  <tbody>\n",
       "    <tr>\n",
       "      <th>0</th>\n",
       "      <td>2019-06-01</td>\n",
       "      <td>0</td>\n",
       "      <td>0.0</td>\n",
       "      <td>0038e4cc0089e5a289601a79af4b6c6f2c9efc97</td>\n",
       "    </tr>\n",
       "    <tr>\n",
       "      <th>1</th>\n",
       "      <td>2019-06-01</td>\n",
       "      <td>1</td>\n",
       "      <td>0.0</td>\n",
       "      <td>0038e4cc0089e5a289601a79af4b6c6f2c9efc97</td>\n",
       "    </tr>\n",
       "    <tr>\n",
       "      <th>2</th>\n",
       "      <td>2019-06-01</td>\n",
       "      <td>2</td>\n",
       "      <td>0.0</td>\n",
       "      <td>0038e4cc0089e5a289601a79af4b6c6f2c9efc97</td>\n",
       "    </tr>\n",
       "    <tr>\n",
       "      <th>3</th>\n",
       "      <td>2019-06-01</td>\n",
       "      <td>3</td>\n",
       "      <td>0.0</td>\n",
       "      <td>0038e4cc0089e5a289601a79af4b6c6f2c9efc97</td>\n",
       "    </tr>\n",
       "    <tr>\n",
       "      <th>4</th>\n",
       "      <td>2019-06-01</td>\n",
       "      <td>4</td>\n",
       "      <td>0.0</td>\n",
       "      <td>0038e4cc0089e5a289601a79af4b6c6f2c9efc97</td>\n",
       "    </tr>\n",
       "  </tbody>\n",
       "</table>\n",
       "</div>"
      ],
      "text/plain": [
       "         Date  HourOfDay  hourly_total_cooling  \\\n",
       "0  2019-06-01          0                   0.0   \n",
       "1  2019-06-01          1                   0.0   \n",
       "2  2019-06-01          2                   0.0   \n",
       "3  2019-06-01          3                   0.0   \n",
       "4  2019-06-01          4                   0.0   \n",
       "\n",
       "                                    user_id  \n",
       "0  0038e4cc0089e5a289601a79af4b6c6f2c9efc97  \n",
       "1  0038e4cc0089e5a289601a79af4b6c6f2c9efc97  \n",
       "2  0038e4cc0089e5a289601a79af4b6c6f2c9efc97  \n",
       "3  0038e4cc0089e5a289601a79af4b6c6f2c9efc97  \n",
       "4  0038e4cc0089e5a289601a79af4b6c6f2c9efc97  "
      ]
     },
     "execution_count": 40,
     "metadata": {},
     "output_type": "execute_result"
    }
   ],
   "source": [
    "df_sac_19_hourly_24h.head()\n",
    "#note there is a \"time jump\" from 2019-07-25 16:55 to 2019-07-26 17:00"
   ]
  },
  {
   "cell_type": "code",
   "execution_count": 41,
   "metadata": {
    "ExecuteTime": {
     "end_time": "2021-04-14T19:44:54.126094Z",
     "start_time": "2021-04-14T19:44:54.095086Z"
    }
   },
   "outputs": [],
   "source": [
    "# pd.set_option('display.max_rows', None)\n",
    "# #remove user_ids that have no cooling consumption at all for 2019\n",
    "# df_19_temp=df_sac_19_daily_24h[['user_id', 'daily_total_cooling']].groupby('user_id').max().reset_index()\n",
    "# df_19_temp['any_usage']=(df_19_temp.daily_total_cooling>0)\n",
    "# df_19_temp=df_19_temp['user_id'][df_19_temp['any_usage']==True]\n",
    "# df_sac_19_daily_24h=pd.merge(df_19_temp,df_sac_19_daily_24h,how='left', on='user_id')"
   ]
  },
  {
   "cell_type": "code",
   "execution_count": 42,
   "metadata": {
    "ExecuteTime": {
     "end_time": "2021-04-14T19:44:54.221114Z",
     "start_time": "2021-04-14T19:44:54.128094Z"
    }
   },
   "outputs": [],
   "source": [
    "# df_sac_19_hourly_24h.head()"
   ]
  },
  {
   "cell_type": "code",
   "execution_count": 43,
   "metadata": {
    "ExecuteTime": {
     "end_time": "2021-04-14T19:44:54.237118Z",
     "start_time": "2021-04-14T19:44:54.222115Z"
    }
   },
   "outputs": [
    {
     "data": {
      "text/html": [
       "<div>\n",
       "<style scoped>\n",
       "    .dataframe tbody tr th:only-of-type {\n",
       "        vertical-align: middle;\n",
       "    }\n",
       "\n",
       "    .dataframe tbody tr th {\n",
       "        vertical-align: top;\n",
       "    }\n",
       "\n",
       "    .dataframe thead th {\n",
       "        text-align: right;\n",
       "    }\n",
       "</style>\n",
       "<table border=\"1\" class=\"dataframe\">\n",
       "  <thead>\n",
       "    <tr style=\"text-align: right;\">\n",
       "      <th></th>\n",
       "      <th>Date</th>\n",
       "      <th>HourOfDay</th>\n",
       "      <th>hourly_total_cooling</th>\n",
       "      <th>user_id</th>\n",
       "    </tr>\n",
       "  </thead>\n",
       "  <tbody>\n",
       "    <tr>\n",
       "      <th>0</th>\n",
       "      <td>2018-06-01</td>\n",
       "      <td>0</td>\n",
       "      <td>0.0</td>\n",
       "      <td>0038e4cc0089e5a289601a79af4b6c6f2c9efc97</td>\n",
       "    </tr>\n",
       "    <tr>\n",
       "      <th>1</th>\n",
       "      <td>2018-06-01</td>\n",
       "      <td>1</td>\n",
       "      <td>0.0</td>\n",
       "      <td>0038e4cc0089e5a289601a79af4b6c6f2c9efc97</td>\n",
       "    </tr>\n",
       "    <tr>\n",
       "      <th>2</th>\n",
       "      <td>2018-06-01</td>\n",
       "      <td>2</td>\n",
       "      <td>0.0</td>\n",
       "      <td>0038e4cc0089e5a289601a79af4b6c6f2c9efc97</td>\n",
       "    </tr>\n",
       "    <tr>\n",
       "      <th>3</th>\n",
       "      <td>2018-06-01</td>\n",
       "      <td>3</td>\n",
       "      <td>0.0</td>\n",
       "      <td>0038e4cc0089e5a289601a79af4b6c6f2c9efc97</td>\n",
       "    </tr>\n",
       "    <tr>\n",
       "      <th>4</th>\n",
       "      <td>2018-06-01</td>\n",
       "      <td>4</td>\n",
       "      <td>0.0</td>\n",
       "      <td>0038e4cc0089e5a289601a79af4b6c6f2c9efc97</td>\n",
       "    </tr>\n",
       "  </tbody>\n",
       "</table>\n",
       "</div>"
      ],
      "text/plain": [
       "         Date  HourOfDay  hourly_total_cooling  \\\n",
       "0  2018-06-01          0                   0.0   \n",
       "1  2018-06-01          1                   0.0   \n",
       "2  2018-06-01          2                   0.0   \n",
       "3  2018-06-01          3                   0.0   \n",
       "4  2018-06-01          4                   0.0   \n",
       "\n",
       "                                    user_id  \n",
       "0  0038e4cc0089e5a289601a79af4b6c6f2c9efc97  \n",
       "1  0038e4cc0089e5a289601a79af4b6c6f2c9efc97  \n",
       "2  0038e4cc0089e5a289601a79af4b6c6f2c9efc97  \n",
       "3  0038e4cc0089e5a289601a79af4b6c6f2c9efc97  \n",
       "4  0038e4cc0089e5a289601a79af4b6c6f2c9efc97  "
      ]
     },
     "execution_count": 43,
     "metadata": {},
     "output_type": "execute_result"
    }
   ],
   "source": [
    "df_sac_18n19_hourly_24h=pd.concat([df_sac_18_hourly_24h,df_sac_19_hourly_24h])\n",
    "df_sac_18n19_hourly_24h.head()"
   ]
  },
  {
   "cell_type": "code",
   "execution_count": 44,
   "metadata": {
    "ExecuteTime": {
     "end_time": "2021-04-14T19:44:54.269125Z",
     "start_time": "2021-04-14T19:44:54.238119Z"
    }
   },
   "outputs": [
    {
     "data": {
      "text/plain": [
       "5832    682344\n",
       "2904    467544\n",
       "5784     40488\n",
       "5808     34848\n",
       "5335     26675\n",
       "5736     11472\n",
       "5239     10478\n",
       "2856      8568\n",
       "2832      8496\n",
       "2928      5856\n",
       "Name: count, dtype: int64"
      ]
     },
     "execution_count": 44,
     "metadata": {},
     "output_type": "execute_result"
    }
   ],
   "source": [
    "df_sac_18n19_hourly_24h['count'] = df_sac_18n19_hourly_24h.groupby('user_id')['user_id'].transform('count')\n",
    "df_sac_18n19_hourly_24h['count'].value_counts().head(10)"
   ]
  },
  {
   "cell_type": "code",
   "execution_count": 45,
   "metadata": {
    "ExecuteTime": {
     "end_time": "2021-04-14T19:44:54.317136Z",
     "start_time": "2021-04-14T19:44:54.286129Z"
    }
   },
   "outputs": [
    {
     "data": {
      "text/html": [
       "<div>\n",
       "<style scoped>\n",
       "    .dataframe tbody tr th:only-of-type {\n",
       "        vertical-align: middle;\n",
       "    }\n",
       "\n",
       "    .dataframe tbody tr th {\n",
       "        vertical-align: top;\n",
       "    }\n",
       "\n",
       "    .dataframe thead th {\n",
       "        text-align: right;\n",
       "    }\n",
       "</style>\n",
       "<table border=\"1\" class=\"dataframe\">\n",
       "  <thead>\n",
       "    <tr style=\"text-align: right;\">\n",
       "      <th></th>\n",
       "      <th>Date</th>\n",
       "      <th>HourOfDay</th>\n",
       "      <th>hourly_total_cooling</th>\n",
       "      <th>user_id</th>\n",
       "      <th>count</th>\n",
       "    </tr>\n",
       "  </thead>\n",
       "  <tbody>\n",
       "    <tr>\n",
       "      <th>0</th>\n",
       "      <td>2018-06-01</td>\n",
       "      <td>0</td>\n",
       "      <td>0.0</td>\n",
       "      <td>0038e4cc0089e5a289601a79af4b6c6f2c9efc97</td>\n",
       "      <td>5832</td>\n",
       "    </tr>\n",
       "    <tr>\n",
       "      <th>1</th>\n",
       "      <td>2018-06-01</td>\n",
       "      <td>1</td>\n",
       "      <td>0.0</td>\n",
       "      <td>0038e4cc0089e5a289601a79af4b6c6f2c9efc97</td>\n",
       "      <td>5832</td>\n",
       "    </tr>\n",
       "    <tr>\n",
       "      <th>2</th>\n",
       "      <td>2018-06-01</td>\n",
       "      <td>2</td>\n",
       "      <td>0.0</td>\n",
       "      <td>0038e4cc0089e5a289601a79af4b6c6f2c9efc97</td>\n",
       "      <td>5832</td>\n",
       "    </tr>\n",
       "    <tr>\n",
       "      <th>3</th>\n",
       "      <td>2018-06-01</td>\n",
       "      <td>3</td>\n",
       "      <td>0.0</td>\n",
       "      <td>0038e4cc0089e5a289601a79af4b6c6f2c9efc97</td>\n",
       "      <td>5832</td>\n",
       "    </tr>\n",
       "    <tr>\n",
       "      <th>4</th>\n",
       "      <td>2018-06-01</td>\n",
       "      <td>4</td>\n",
       "      <td>0.0</td>\n",
       "      <td>0038e4cc0089e5a289601a79af4b6c6f2c9efc97</td>\n",
       "      <td>5832</td>\n",
       "    </tr>\n",
       "  </tbody>\n",
       "</table>\n",
       "</div>"
      ],
      "text/plain": [
       "        Date  HourOfDay  hourly_total_cooling  \\\n",
       "0 2018-06-01          0                   0.0   \n",
       "1 2018-06-01          1                   0.0   \n",
       "2 2018-06-01          2                   0.0   \n",
       "3 2018-06-01          3                   0.0   \n",
       "4 2018-06-01          4                   0.0   \n",
       "\n",
       "                                    user_id  count  \n",
       "0  0038e4cc0089e5a289601a79af4b6c6f2c9efc97   5832  \n",
       "1  0038e4cc0089e5a289601a79af4b6c6f2c9efc97   5832  \n",
       "2  0038e4cc0089e5a289601a79af4b6c6f2c9efc97   5832  \n",
       "3  0038e4cc0089e5a289601a79af4b6c6f2c9efc97   5832  \n",
       "4  0038e4cc0089e5a289601a79af4b6c6f2c9efc97   5832  "
      ]
     },
     "execution_count": 45,
     "metadata": {},
     "output_type": "execute_result"
    }
   ],
   "source": [
    "df_sac_18n19_hourly_24h=df_sac_18n19_hourly_24h[df_sac_18n19_hourly_24h['count']==5832]\n",
    "df_sac_18n19_hourly_24h['Date']=pd.to_datetime(df_sac_18n19_hourly_24h['Date'])\n",
    "df_sac_18n19_hourly_24h.head()"
   ]
  },
  {
   "cell_type": "code",
   "execution_count": 46,
   "metadata": {
    "ExecuteTime": {
     "end_time": "2021-04-14T19:44:54.364147Z",
     "start_time": "2021-04-14T19:44:54.318137Z"
    }
   },
   "outputs": [
    {
     "name": "stdout",
     "output_type": "stream",
     "text": [
      "<class 'pandas.core.frame.DataFrame'>\n",
      "RangeIndex: 730 entries, 0 to 729\n",
      "Data columns (total 6 columns):\n",
      " #   Column   Non-Null Count  Dtype         \n",
      "---  ------   --------------  -----         \n",
      " 0   STATION  730 non-null    object        \n",
      " 1   NAME     730 non-null    object        \n",
      " 2   DATE     730 non-null    datetime64[ns]\n",
      " 3   TAVG     730 non-null    int64         \n",
      " 4   TMAX     730 non-null    int64         \n",
      " 5   TMIN     730 non-null    int64         \n",
      "dtypes: datetime64[ns](1), int64(3), object(2)\n",
      "memory usage: 34.3+ KB\n"
     ]
    }
   ],
   "source": [
    "df_temperature=pd.read_csv(r'F:\\Ecobee\\smf_temp_18and19.csv', parse_dates=['DATE'])\n",
    "df_temperature.info()"
   ]
  },
  {
   "cell_type": "code",
   "execution_count": 47,
   "metadata": {
    "ExecuteTime": {
     "end_time": "2021-04-14T19:54:39.457814Z",
     "start_time": "2021-04-14T19:54:39.442809Z"
    }
   },
   "outputs": [
    {
     "data": {
      "text/html": [
       "<div>\n",
       "<style scoped>\n",
       "    .dataframe tbody tr th:only-of-type {\n",
       "        vertical-align: middle;\n",
       "    }\n",
       "\n",
       "    .dataframe tbody tr th {\n",
       "        vertical-align: top;\n",
       "    }\n",
       "\n",
       "    .dataframe thead th {\n",
       "        text-align: right;\n",
       "    }\n",
       "</style>\n",
       "<table border=\"1\" class=\"dataframe\">\n",
       "  <thead>\n",
       "    <tr style=\"text-align: right;\">\n",
       "      <th></th>\n",
       "      <th>STATION</th>\n",
       "      <th>NAME</th>\n",
       "      <th>DATE</th>\n",
       "      <th>TAVG</th>\n",
       "      <th>TMAX</th>\n",
       "      <th>TMIN</th>\n",
       "    </tr>\n",
       "  </thead>\n",
       "  <tbody>\n",
       "    <tr>\n",
       "      <th>0</th>\n",
       "      <td>USW00023232</td>\n",
       "      <td>SACRAMENTO AIRPORT ASOS, CA US</td>\n",
       "      <td>2018-01-01</td>\n",
       "      <td>49</td>\n",
       "      <td>65</td>\n",
       "      <td>38</td>\n",
       "    </tr>\n",
       "    <tr>\n",
       "      <th>1</th>\n",
       "      <td>USW00023232</td>\n",
       "      <td>SACRAMENTO AIRPORT ASOS, CA US</td>\n",
       "      <td>2018-01-02</td>\n",
       "      <td>48</td>\n",
       "      <td>59</td>\n",
       "      <td>39</td>\n",
       "    </tr>\n",
       "    <tr>\n",
       "      <th>2</th>\n",
       "      <td>USW00023232</td>\n",
       "      <td>SACRAMENTO AIRPORT ASOS, CA US</td>\n",
       "      <td>2018-01-03</td>\n",
       "      <td>50</td>\n",
       "      <td>57</td>\n",
       "      <td>40</td>\n",
       "    </tr>\n",
       "    <tr>\n",
       "      <th>3</th>\n",
       "      <td>USW00023232</td>\n",
       "      <td>SACRAMENTO AIRPORT ASOS, CA US</td>\n",
       "      <td>2018-01-04</td>\n",
       "      <td>55</td>\n",
       "      <td>65</td>\n",
       "      <td>49</td>\n",
       "    </tr>\n",
       "    <tr>\n",
       "      <th>4</th>\n",
       "      <td>USW00023232</td>\n",
       "      <td>SACRAMENTO AIRPORT ASOS, CA US</td>\n",
       "      <td>2018-01-05</td>\n",
       "      <td>55</td>\n",
       "      <td>60</td>\n",
       "      <td>50</td>\n",
       "    </tr>\n",
       "  </tbody>\n",
       "</table>\n",
       "</div>"
      ],
      "text/plain": [
       "       STATION                            NAME       DATE  TAVG  TMAX  TMIN\n",
       "0  USW00023232  SACRAMENTO AIRPORT ASOS, CA US 2018-01-01    49    65    38\n",
       "1  USW00023232  SACRAMENTO AIRPORT ASOS, CA US 2018-01-02    48    59    39\n",
       "2  USW00023232  SACRAMENTO AIRPORT ASOS, CA US 2018-01-03    50    57    40\n",
       "3  USW00023232  SACRAMENTO AIRPORT ASOS, CA US 2018-01-04    55    65    49\n",
       "4  USW00023232  SACRAMENTO AIRPORT ASOS, CA US 2018-01-05    55    60    50"
      ]
     },
     "execution_count": 47,
     "metadata": {},
     "output_type": "execute_result"
    }
   ],
   "source": [
    "df_temperature.head()"
   ]
  },
  {
   "cell_type": "code",
   "execution_count": 48,
   "metadata": {
    "ExecuteTime": {
     "end_time": "2021-04-14T19:54:58.839179Z",
     "start_time": "2021-04-14T19:54:58.808173Z"
    }
   },
   "outputs": [
    {
     "data": {
      "text/html": [
       "<div>\n",
       "<style scoped>\n",
       "    .dataframe tbody tr th:only-of-type {\n",
       "        vertical-align: middle;\n",
       "    }\n",
       "\n",
       "    .dataframe tbody tr th {\n",
       "        vertical-align: top;\n",
       "    }\n",
       "\n",
       "    .dataframe thead th {\n",
       "        text-align: right;\n",
       "    }\n",
       "</style>\n",
       "<table border=\"1\" class=\"dataframe\">\n",
       "  <thead>\n",
       "    <tr style=\"text-align: right;\">\n",
       "      <th></th>\n",
       "      <th>Date</th>\n",
       "      <th>HourOfDay</th>\n",
       "      <th>hourly_total_cooling</th>\n",
       "      <th>user_id</th>\n",
       "      <th>count</th>\n",
       "      <th>STATION</th>\n",
       "      <th>NAME</th>\n",
       "      <th>DATE</th>\n",
       "      <th>TAVG</th>\n",
       "      <th>TMAX</th>\n",
       "      <th>TMIN</th>\n",
       "    </tr>\n",
       "  </thead>\n",
       "  <tbody>\n",
       "    <tr>\n",
       "      <th>0</th>\n",
       "      <td>2018-06-01</td>\n",
       "      <td>0</td>\n",
       "      <td>0.0</td>\n",
       "      <td>0038e4cc0089e5a289601a79af4b6c6f2c9efc97</td>\n",
       "      <td>5832</td>\n",
       "      <td>USW00023232</td>\n",
       "      <td>SACRAMENTO AIRPORT ASOS, CA US</td>\n",
       "      <td>2018-06-01</td>\n",
       "      <td>65</td>\n",
       "      <td>86</td>\n",
       "      <td>49</td>\n",
       "    </tr>\n",
       "    <tr>\n",
       "      <th>1</th>\n",
       "      <td>2018-06-01</td>\n",
       "      <td>1</td>\n",
       "      <td>0.0</td>\n",
       "      <td>0038e4cc0089e5a289601a79af4b6c6f2c9efc97</td>\n",
       "      <td>5832</td>\n",
       "      <td>USW00023232</td>\n",
       "      <td>SACRAMENTO AIRPORT ASOS, CA US</td>\n",
       "      <td>2018-06-01</td>\n",
       "      <td>65</td>\n",
       "      <td>86</td>\n",
       "      <td>49</td>\n",
       "    </tr>\n",
       "    <tr>\n",
       "      <th>2</th>\n",
       "      <td>2018-06-01</td>\n",
       "      <td>2</td>\n",
       "      <td>0.0</td>\n",
       "      <td>0038e4cc0089e5a289601a79af4b6c6f2c9efc97</td>\n",
       "      <td>5832</td>\n",
       "      <td>USW00023232</td>\n",
       "      <td>SACRAMENTO AIRPORT ASOS, CA US</td>\n",
       "      <td>2018-06-01</td>\n",
       "      <td>65</td>\n",
       "      <td>86</td>\n",
       "      <td>49</td>\n",
       "    </tr>\n",
       "    <tr>\n",
       "      <th>3</th>\n",
       "      <td>2018-06-01</td>\n",
       "      <td>3</td>\n",
       "      <td>0.0</td>\n",
       "      <td>0038e4cc0089e5a289601a79af4b6c6f2c9efc97</td>\n",
       "      <td>5832</td>\n",
       "      <td>USW00023232</td>\n",
       "      <td>SACRAMENTO AIRPORT ASOS, CA US</td>\n",
       "      <td>2018-06-01</td>\n",
       "      <td>65</td>\n",
       "      <td>86</td>\n",
       "      <td>49</td>\n",
       "    </tr>\n",
       "    <tr>\n",
       "      <th>4</th>\n",
       "      <td>2018-06-01</td>\n",
       "      <td>4</td>\n",
       "      <td>0.0</td>\n",
       "      <td>0038e4cc0089e5a289601a79af4b6c6f2c9efc97</td>\n",
       "      <td>5832</td>\n",
       "      <td>USW00023232</td>\n",
       "      <td>SACRAMENTO AIRPORT ASOS, CA US</td>\n",
       "      <td>2018-06-01</td>\n",
       "      <td>65</td>\n",
       "      <td>86</td>\n",
       "      <td>49</td>\n",
       "    </tr>\n",
       "  </tbody>\n",
       "</table>\n",
       "</div>"
      ],
      "text/plain": [
       "        Date  HourOfDay  hourly_total_cooling  \\\n",
       "0 2018-06-01          0                   0.0   \n",
       "1 2018-06-01          1                   0.0   \n",
       "2 2018-06-01          2                   0.0   \n",
       "3 2018-06-01          3                   0.0   \n",
       "4 2018-06-01          4                   0.0   \n",
       "\n",
       "                                    user_id  count      STATION  \\\n",
       "0  0038e4cc0089e5a289601a79af4b6c6f2c9efc97   5832  USW00023232   \n",
       "1  0038e4cc0089e5a289601a79af4b6c6f2c9efc97   5832  USW00023232   \n",
       "2  0038e4cc0089e5a289601a79af4b6c6f2c9efc97   5832  USW00023232   \n",
       "3  0038e4cc0089e5a289601a79af4b6c6f2c9efc97   5832  USW00023232   \n",
       "4  0038e4cc0089e5a289601a79af4b6c6f2c9efc97   5832  USW00023232   \n",
       "\n",
       "                             NAME       DATE  TAVG  TMAX  TMIN  \n",
       "0  SACRAMENTO AIRPORT ASOS, CA US 2018-06-01    65    86    49  \n",
       "1  SACRAMENTO AIRPORT ASOS, CA US 2018-06-01    65    86    49  \n",
       "2  SACRAMENTO AIRPORT ASOS, CA US 2018-06-01    65    86    49  \n",
       "3  SACRAMENTO AIRPORT ASOS, CA US 2018-06-01    65    86    49  \n",
       "4  SACRAMENTO AIRPORT ASOS, CA US 2018-06-01    65    86    49  "
      ]
     },
     "execution_count": 48,
     "metadata": {},
     "output_type": "execute_result"
    }
   ],
   "source": [
    "df_sac_18n19_hourly_24h_w_temperature=pd.merge(df_sac_18n19_hourly_24h,df_temperature,how='left', left_on='Date', right_on='DATE')\n",
    "df_sac_18n19_hourly_24h_w_temperature.head()"
   ]
  },
  {
   "cell_type": "code",
   "execution_count": 49,
   "metadata": {
    "ExecuteTime": {
     "end_time": "2021-04-14T19:58:27.280853Z",
     "start_time": "2021-04-14T19:58:27.266849Z"
    }
   },
   "outputs": [],
   "source": [
    "df_sac_18n19_hourly_24h_w_temperature[\n",
    "    'TAVG_less_62'] = df_sac_18n19_hourly_24h_w_temperature['TAVG'] - 62\n",
    "df_sac_18n19_hourly_24h_w_temperature['TAVG_less_62'] = df_sac_18n19_hourly_24h_w_temperature['TAVG_less_62'].apply(lambda x : x if x > 0 else 0)"
   ]
  },
  {
   "cell_type": "code",
   "execution_count": 50,
   "metadata": {
    "ExecuteTime": {
     "end_time": "2021-04-14T19:59:10.593877Z",
     "start_time": "2021-04-14T19:59:10.564871Z"
    }
   },
   "outputs": [
    {
     "data": {
      "text/html": [
       "<div>\n",
       "<style scoped>\n",
       "    .dataframe tbody tr th:only-of-type {\n",
       "        vertical-align: middle;\n",
       "    }\n",
       "\n",
       "    .dataframe tbody tr th {\n",
       "        vertical-align: top;\n",
       "    }\n",
       "\n",
       "    .dataframe thead th {\n",
       "        text-align: right;\n",
       "    }\n",
       "</style>\n",
       "<table border=\"1\" class=\"dataframe\">\n",
       "  <thead>\n",
       "    <tr style=\"text-align: right;\">\n",
       "      <th></th>\n",
       "      <th>HourOfDay</th>\n",
       "      <th>hourly_total_cooling</th>\n",
       "      <th>count</th>\n",
       "      <th>TAVG</th>\n",
       "      <th>TMAX</th>\n",
       "      <th>TMIN</th>\n",
       "      <th>TAVG_less_62</th>\n",
       "      <th>y2019</th>\n",
       "    </tr>\n",
       "  </thead>\n",
       "  <tbody>\n",
       "    <tr>\n",
       "      <th>count</th>\n",
       "      <td>682344.000000</td>\n",
       "      <td>682344.000000</td>\n",
       "      <td>682344.0</td>\n",
       "      <td>682344.000000</td>\n",
       "      <td>682344.000000</td>\n",
       "      <td>682344.000000</td>\n",
       "      <td>682344.000000</td>\n",
       "      <td>682344.000000</td>\n",
       "    </tr>\n",
       "    <tr>\n",
       "      <th>mean</th>\n",
       "      <td>11.500000</td>\n",
       "      <td>0.134522</td>\n",
       "      <td>5832.0</td>\n",
       "      <td>72.715364</td>\n",
       "      <td>90.364369</td>\n",
       "      <td>58.484911</td>\n",
       "      <td>10.752401</td>\n",
       "      <td>0.497942</td>\n",
       "    </tr>\n",
       "    <tr>\n",
       "      <th>std</th>\n",
       "      <td>6.922192</td>\n",
       "      <td>0.252039</td>\n",
       "      <td>0.0</td>\n",
       "      <td>5.181476</td>\n",
       "      <td>7.231845</td>\n",
       "      <td>3.996672</td>\n",
       "      <td>5.090853</td>\n",
       "      <td>0.499996</td>\n",
       "    </tr>\n",
       "    <tr>\n",
       "      <th>min</th>\n",
       "      <td>0.000000</td>\n",
       "      <td>0.000000</td>\n",
       "      <td>5832.0</td>\n",
       "      <td>58.000000</td>\n",
       "      <td>69.000000</td>\n",
       "      <td>45.000000</td>\n",
       "      <td>0.000000</td>\n",
       "      <td>0.000000</td>\n",
       "    </tr>\n",
       "    <tr>\n",
       "      <th>25%</th>\n",
       "      <td>5.750000</td>\n",
       "      <td>0.000000</td>\n",
       "      <td>5832.0</td>\n",
       "      <td>69.000000</td>\n",
       "      <td>86.000000</td>\n",
       "      <td>56.000000</td>\n",
       "      <td>7.000000</td>\n",
       "      <td>0.000000</td>\n",
       "    </tr>\n",
       "    <tr>\n",
       "      <th>50%</th>\n",
       "      <td>11.500000</td>\n",
       "      <td>0.000000</td>\n",
       "      <td>5832.0</td>\n",
       "      <td>73.000000</td>\n",
       "      <td>91.000000</td>\n",
       "      <td>58.000000</td>\n",
       "      <td>11.000000</td>\n",
       "      <td>0.000000</td>\n",
       "    </tr>\n",
       "    <tr>\n",
       "      <th>75%</th>\n",
       "      <td>17.250000</td>\n",
       "      <td>0.175000</td>\n",
       "      <td>5832.0</td>\n",
       "      <td>76.000000</td>\n",
       "      <td>96.000000</td>\n",
       "      <td>61.000000</td>\n",
       "      <td>14.000000</td>\n",
       "      <td>1.000000</td>\n",
       "    </tr>\n",
       "    <tr>\n",
       "      <th>max</th>\n",
       "      <td>23.000000</td>\n",
       "      <td>1.000000</td>\n",
       "      <td>5832.0</td>\n",
       "      <td>86.000000</td>\n",
       "      <td>105.000000</td>\n",
       "      <td>69.000000</td>\n",
       "      <td>24.000000</td>\n",
       "      <td>1.000000</td>\n",
       "    </tr>\n",
       "  </tbody>\n",
       "</table>\n",
       "</div>"
      ],
      "text/plain": [
       "           HourOfDay  hourly_total_cooling     count           TAVG  \\\n",
       "count  682344.000000         682344.000000  682344.0  682344.000000   \n",
       "mean       11.500000              0.134522    5832.0      72.715364   \n",
       "std         6.922192              0.252039       0.0       5.181476   \n",
       "min         0.000000              0.000000    5832.0      58.000000   \n",
       "25%         5.750000              0.000000    5832.0      69.000000   \n",
       "50%        11.500000              0.000000    5832.0      73.000000   \n",
       "75%        17.250000              0.175000    5832.0      76.000000   \n",
       "max        23.000000              1.000000    5832.0      86.000000   \n",
       "\n",
       "                TMAX           TMIN   TAVG_less_62          y2019  \n",
       "count  682344.000000  682344.000000  682344.000000  682344.000000  \n",
       "mean       90.364369      58.484911      10.752401       0.497942  \n",
       "std         7.231845       3.996672       5.090853       0.499996  \n",
       "min        69.000000      45.000000       0.000000       0.000000  \n",
       "25%        86.000000      56.000000       7.000000       0.000000  \n",
       "50%        91.000000      58.000000      11.000000       0.000000  \n",
       "75%        96.000000      61.000000      14.000000       1.000000  \n",
       "max       105.000000      69.000000      24.000000       1.000000  "
      ]
     },
     "execution_count": 50,
     "metadata": {},
     "output_type": "execute_result"
    }
   ],
   "source": [
    "df_sac_18n19_hourly_24h_w_temperature['y2019']=np.where(df_sac_18n19_hourly_24h_w_temperature['Date'].dt.year== 2019, 1, 0)\n",
    "# [df_sac_18n19_hourly_24h_w_temperature['Date'].dt.year==2019]\n",
    "df_sac_18n19_hourly_24h_w_temperature.describe()"
   ]
  },
  {
   "cell_type": "code",
   "execution_count": 51,
   "metadata": {
    "ExecuteTime": {
     "end_time": "2021-04-14T19:59:10.609881Z",
     "start_time": "2021-04-14T19:59:10.594878Z"
    }
   },
   "outputs": [],
   "source": [
    "df_sac_18n19_hourly_24h_w_temperature[\n",
    "    'interaction'] = df_sac_18n19_hourly_24h_w_temperature[\n",
    "        'TAVG_less_62'] * df_sac_18n19_hourly_24h_w_temperature['y2019']"
   ]
  },
  {
   "cell_type": "code",
   "execution_count": 52,
   "metadata": {
    "ExecuteTime": {
     "end_time": "2021-04-14T19:59:11.549745Z",
     "start_time": "2021-04-14T19:59:10.610881Z"
    }
   },
   "outputs": [],
   "source": [
    "import statsmodels.api as sm\n",
    "\n",
    "\n",
    "def regress(data, yvar, xvars):\n",
    "    Y = data[yvar]\n",
    "    X = data[xvars]\n",
    "    X['intercept'] = 1.\n",
    "    result = sm.OLS(Y, X).fit(cov_type='HC1')\n",
    "    return result.params\n",
    "\n",
    "\n",
    "# #This is what you need\n",
    "# results=df_sac_18n19_hourly_24h_w_temperature.groupby('user_id').apply(\n",
    "#     regress, 'hourly_total_cooling', ['TAVG_less_62','interaction']).reset_index()\n",
    "# results.head(10)"
   ]
  },
  {
   "cell_type": "code",
   "execution_count": 53,
   "metadata": {
    "ExecuteTime": {
     "end_time": "2021-04-14T19:59:11.789800Z",
     "start_time": "2021-04-14T19:59:11.551746Z"
    }
   },
   "outputs": [],
   "source": [
    "# # x axis range\n",
    "# x = range(len(results))\n",
    "# plt.figure(figsize=(15,10))\n",
    "# # y2\n",
    "# plt.plot(x,results['TAVG_less_62'],label='coeff:TAVG_less_62')\n",
    "# # y2\n",
    "# plt.plot(x,results['interaction'],label='coeff:interaction')\n",
    "# # y=0 line \n",
    "# plt.plot(x,[0] * len(results))\n",
    "# plt.legend(loc=\"upper left\")"
   ]
  },
  {
   "cell_type": "code",
   "execution_count": 54,
   "metadata": {
    "ExecuteTime": {
     "end_time": "2021-04-14T19:59:11.805804Z",
     "start_time": "2021-04-14T19:59:11.790800Z"
    }
   },
   "outputs": [],
   "source": [
    "# print(results[results.interaction > 0.01].count())\n",
    "# print(results[results.interaction < -0.01].count())"
   ]
  },
  {
   "cell_type": "code",
   "execution_count": 55,
   "metadata": {
    "ExecuteTime": {
     "end_time": "2021-04-14T19:59:11.820807Z",
     "start_time": "2021-04-14T19:59:11.806803Z"
    }
   },
   "outputs": [],
   "source": [
    "# print(results['interaction'][results.interaction > 0.01].sum())\n",
    "# print(results['interaction'][results.interaction < -0.01].sum())\n",
    "# # the sum of negative interaction coefficients has a larger scale"
   ]
  },
  {
   "cell_type": "code",
   "execution_count": 56,
   "metadata": {
    "ExecuteTime": {
     "end_time": "2021-04-14T19:59:11.852814Z",
     "start_time": "2021-04-14T19:59:11.822808Z"
    }
   },
   "outputs": [],
   "source": [
    "df_sac_18n19_hourly_24h_w_temperature['const']=1\n",
    "list_1=list(['df_hour_']*24)\n",
    "list_2_int=list(range(24))\n",
    "list_2_str = [str(int) for int in list_2_int] \n",
    "list_3 = [i + j for i, j in zip(list_1, list_2_str)]\n",
    "# print(list_3)\n",
    "for i in range(24):\n",
    "    globals()['df_hour_+str(i)'] = list_3[i]\n",
    "#     print(globals()['df_hour_+str(i)'])\n",
    "list_1=list(['reg_result_']*24)\n",
    "# list_2_int=list(range(24))\n",
    "# list_2_str = [str(int) for int in list_2_int] \n",
    "list_3 = [i + j for i, j in zip(list_1, list_2_str)]\n",
    "for i in range(24):\n",
    "    globals()['reg_result+str(i)'] = list_3[i]\n",
    "#     print(globals()['reg_result+str(i)'])\n",
    "list_of_results=[]\n",
    "for h in range(24):    \n",
    "    reg_data=df_sac_18n19_hourly_24h_w_temperature[df_sac_18n19_hourly_24h_w_temperature['HourOfDay']==h]\n",
    "    globals()['df_hour_+str(h)']  = sm.OLS(endog=reg_data['hourly_total_cooling'], \\\n",
    "              exog=reg_data[['TAVG_less_62','interaction','const']], \\\n",
    "                missing='drop')\n",
    "    globals()['reg_result+str(i)'] =  globals()['df_hour_+str(h)'].fit(cov_type='HC1')\n",
    "#     print('Results for hour *******************'+str(h)+'*******************')\n",
    "#     print('\\n')\n",
    "#     print(globals()['reg_result+str(i)'].summary())\n",
    "    list_of_results.append(globals()['reg_result+str(i)'])"
   ]
  },
  {
   "cell_type": "code",
   "execution_count": 57,
   "metadata": {},
   "outputs": [
    {
     "name": "stdout",
     "output_type": "stream",
     "text": [
      "[0.0011056826912094913, 0.0009526656481013153, 0.0009349291929541486, 0.0006790960753250586, 0.0008165016595704422, 0.000590526860935044, 0.00015502200234920356, 0.0004803749293413763, 0.00039552309288217564, 0.0004600179907510641, 0.0003591668090492853, 0.0004077078208328872, -0.0002844292137354051, -0.00022975422623663878, -0.0001867803964508517, -3.6296303597697064e-05, 0.0003059911130164659, -0.003221236284439998, -0.003199081769774563, -0.0018934536673501775, 0.00207283278641343, -0.00014968272939066464, 0.0006603444534295675, 0.0008602213371109847]\n",
      "[0.00019815003253156134, 0.00016588464276784078, 0.00013785441910417674, 0.00011882193271744399, 0.00010669666542124093, 9.936678615134901e-05, 9.405581927850517e-05, 9.626696812548153e-05, 0.0001106744762575591, 0.0001421979237215133, 0.00017572459471158246, 0.00021116802564227942, 0.000245221490553454, 0.0002887218257512146, 0.0003199556704258033, 0.0003462915882293057, 0.0003629926317415328, 0.0003666976727246793, 0.0003559353987221094, 0.00033502513832613155, 0.0003198980572041947, 0.0003045976686758111, 0.00027527098283753584, 0.00023436005737394446]\n",
      "[0.0013038327237410528, 0.001118550290869156, 0.0010727836120583254, 0.0007979180080425025, 0.0009231983249916832, 0.0006898936470863931, 0.00024907782162770874, 0.0005766418974668578, 0.0005061975691397347, 0.0006022159144725774, 0.0005348914037608677, 0.0006188758464751666, -3.92077231819511e-05, 5.8967599514575834e-05, 0.00013317527397495158, 0.0003099952846316086, 0.0006689837447579987, -0.002854538611715319, -0.0028431463710524535, -0.001558428529024046, 0.002392730843617625, 0.00015491493928514646, 0.0009356154362671034, 0.0010945813944849292]\n",
      "[0.00090753265867793, 0.0007867810053334746, 0.0007970747738499718, 0.0005602741426076147, 0.0007098049941492012, 0.000491160074783695, 6.09661830706984e-05, 0.00038410796121589476, 0.00028484861662461653, 0.00031782006702955076, 0.00018344221433770286, 0.0001965397951906078, -0.000529650704288859, -0.0005184760519878534, -0.000506736066876655, -0.00038258789182700275, -5.700151872506691e-05, -0.0035879339571646776, -0.0035550171684966725, -0.002228478805676309, 0.0017529347292092354, -0.00045428039806647577, 0.0003850734705920317, 0.0006258612797370403]\n"
     ]
    }
   ],
   "source": [
    "interaction_coeffs = []\n",
    "for i in range(24):\n",
    "    interaction_coeffs.append(list_of_results[i].params[1])\n",
    "\n",
    "print(interaction_coeffs)\n",
    "interaction_coeff_se = []\n",
    "for i in range(24):\n",
    "    interaction_coeff_se.append(list_of_results[i].bse[1])\n",
    "print(interaction_coeff_se)\n",
    "interaction_coeffs_plusSE = [\n",
    "    a + b for a, b in zip(interaction_coeffs, interaction_coeff_se)\n",
    "]\n",
    "print(interaction_coeffs_plusSE)\n",
    "interaction_coeffs_minusSE = [\n",
    "    a - b for a, b in zip(interaction_coeffs, interaction_coeff_se)\n",
    "]\n",
    "print(interaction_coeffs_minusSE)"
   ]
  },
  {
   "cell_type": "code",
   "execution_count": 58,
   "metadata": {},
   "outputs": [
    {
     "data": {
      "image/png": "[encoded data removed]",
      "text/plain": [
       "<Figure size 1080x720 with 1 Axes>"
      ]
     },
     "metadata": {
      "needs_background": "light"
     },
     "output_type": "display_data"
    }
   ],
   "source": [
    "# x axis range\n",
    "x = range(len(interaction_coeffs))\n",
    "plt.figure(figsize=(15,10))\n",
    "# y\n",
    "plt.plot(x,interaction_coeffs,'o-', label='interaction coeff')\n",
    "plt.plot(x,[0] * len(interaction_coeffs))\n",
    "plt.plot(x,interaction_coeffs_plusSE,'o-', label='upper bound')\n",
    "plt.plot(x,interaction_coeffs_minusSE,'o-', label='lower bound')\n",
    "plt.legend(loc=\"upper left\")\n",
    "plt.xticks(x)\n",
    "plt.grid()\n",
    "plt.title(\"Y= Cooling time in one hour: (unit=hour)\")\n",
    "plt.show()"
   ]
  },
  {
   "cell_type": "code",
   "execution_count": 59,
   "metadata": {
    "ExecuteTime": {
     "end_time": "2021-04-14T20:19:37.691747Z",
     "start_time": "2021-04-14T20:19:37.679744Z"
    }
   },
   "outputs": [
    {
     "data": {
      "text/plain": [
       "117"
      ]
     },
     "execution_count": 59,
     "metadata": {},
     "output_type": "execute_result"
    }
   ],
   "source": [
    "df_sac_18n19_hourly_24h.user_id.nunique()"
   ]
  },
  {
   "cell_type": "markdown",
   "metadata": {},
   "source": [
    "# y=(on/off)"
   ]
  },
  {
   "cell_type": "code",
   "execution_count": 64,
   "metadata": {},
   "outputs": [
    {
     "data": {
      "text/html": [
       "<div>\n",
       "<style scoped>\n",
       "    .dataframe tbody tr th:only-of-type {\n",
       "        vertical-align: middle;\n",
       "    }\n",
       "\n",
       "    .dataframe tbody tr th {\n",
       "        vertical-align: top;\n",
       "    }\n",
       "\n",
       "    .dataframe thead th {\n",
       "        text-align: right;\n",
       "    }\n",
       "</style>\n",
       "<table border=\"1\" class=\"dataframe\">\n",
       "  <thead>\n",
       "    <tr style=\"text-align: right;\">\n",
       "      <th></th>\n",
       "      <th>HourOfDay</th>\n",
       "      <th>hourly_total_cooling</th>\n",
       "      <th>count</th>\n",
       "      <th>TAVG</th>\n",
       "      <th>TMAX</th>\n",
       "      <th>TMIN</th>\n",
       "      <th>TAVG_less_62</th>\n",
       "      <th>y2019</th>\n",
       "      <th>interaction</th>\n",
       "      <th>const</th>\n",
       "      <th>AC_cooling_on</th>\n",
       "    </tr>\n",
       "  </thead>\n",
       "  <tbody>\n",
       "    <tr>\n",
       "      <th>count</th>\n",
       "      <td>682344.000000</td>\n",
       "      <td>682344.000000</td>\n",
       "      <td>682344.0</td>\n",
       "      <td>682344.000000</td>\n",
       "      <td>682344.000000</td>\n",
       "      <td>682344.000000</td>\n",
       "      <td>682344.000000</td>\n",
       "      <td>682344.000000</td>\n",
       "      <td>682344.000000</td>\n",
       "      <td>682344.0</td>\n",
       "      <td>682344.000000</td>\n",
       "    </tr>\n",
       "    <tr>\n",
       "      <th>mean</th>\n",
       "      <td>11.500000</td>\n",
       "      <td>0.134522</td>\n",
       "      <td>5832.0</td>\n",
       "      <td>72.715364</td>\n",
       "      <td>90.364369</td>\n",
       "      <td>58.484911</td>\n",
       "      <td>10.752401</td>\n",
       "      <td>0.497942</td>\n",
       "      <td>5.748285</td>\n",
       "      <td>1.0</td>\n",
       "      <td>0.323051</td>\n",
       "    </tr>\n",
       "    <tr>\n",
       "      <th>std</th>\n",
       "      <td>6.922192</td>\n",
       "      <td>0.252039</td>\n",
       "      <td>0.0</td>\n",
       "      <td>5.181476</td>\n",
       "      <td>7.231845</td>\n",
       "      <td>3.996672</td>\n",
       "      <td>5.090853</td>\n",
       "      <td>0.499996</td>\n",
       "      <td>6.820636</td>\n",
       "      <td>0.0</td>\n",
       "      <td>0.467642</td>\n",
       "    </tr>\n",
       "    <tr>\n",
       "      <th>min</th>\n",
       "      <td>0.000000</td>\n",
       "      <td>0.000000</td>\n",
       "      <td>5832.0</td>\n",
       "      <td>58.000000</td>\n",
       "      <td>69.000000</td>\n",
       "      <td>45.000000</td>\n",
       "      <td>0.000000</td>\n",
       "      <td>0.000000</td>\n",
       "      <td>0.000000</td>\n",
       "      <td>1.0</td>\n",
       "      <td>0.000000</td>\n",
       "    </tr>\n",
       "    <tr>\n",
       "      <th>25%</th>\n",
       "      <td>5.750000</td>\n",
       "      <td>0.000000</td>\n",
       "      <td>5832.0</td>\n",
       "      <td>69.000000</td>\n",
       "      <td>86.000000</td>\n",
       "      <td>56.000000</td>\n",
       "      <td>7.000000</td>\n",
       "      <td>0.000000</td>\n",
       "      <td>0.000000</td>\n",
       "      <td>1.0</td>\n",
       "      <td>0.000000</td>\n",
       "    </tr>\n",
       "    <tr>\n",
       "      <th>50%</th>\n",
       "      <td>11.500000</td>\n",
       "      <td>0.000000</td>\n",
       "      <td>5832.0</td>\n",
       "      <td>73.000000</td>\n",
       "      <td>91.000000</td>\n",
       "      <td>58.000000</td>\n",
       "      <td>11.000000</td>\n",
       "      <td>0.000000</td>\n",
       "      <td>0.000000</td>\n",
       "      <td>1.0</td>\n",
       "      <td>0.000000</td>\n",
       "    </tr>\n",
       "    <tr>\n",
       "      <th>75%</th>\n",
       "      <td>17.250000</td>\n",
       "      <td>0.175000</td>\n",
       "      <td>5832.0</td>\n",
       "      <td>76.000000</td>\n",
       "      <td>96.000000</td>\n",
       "      <td>61.000000</td>\n",
       "      <td>14.000000</td>\n",
       "      <td>1.000000</td>\n",
       "      <td>12.000000</td>\n",
       "      <td>1.0</td>\n",
       "      <td>1.000000</td>\n",
       "    </tr>\n",
       "    <tr>\n",
       "      <th>max</th>\n",
       "      <td>23.000000</td>\n",
       "      <td>1.000000</td>\n",
       "      <td>5832.0</td>\n",
       "      <td>86.000000</td>\n",
       "      <td>105.000000</td>\n",
       "      <td>69.000000</td>\n",
       "      <td>24.000000</td>\n",
       "      <td>1.000000</td>\n",
       "      <td>24.000000</td>\n",
       "      <td>1.0</td>\n",
       "      <td>1.000000</td>\n",
       "    </tr>\n",
       "  </tbody>\n",
       "</table>\n",
       "</div>"
      ],
      "text/plain": [
       "           HourOfDay  hourly_total_cooling     count           TAVG  \\\n",
       "count  682344.000000         682344.000000  682344.0  682344.000000   \n",
       "mean       11.500000              0.134522    5832.0      72.715364   \n",
       "std         6.922192              0.252039       0.0       5.181476   \n",
       "min         0.000000              0.000000    5832.0      58.000000   \n",
       "25%         5.750000              0.000000    5832.0      69.000000   \n",
       "50%        11.500000              0.000000    5832.0      73.000000   \n",
       "75%        17.250000              0.175000    5832.0      76.000000   \n",
       "max        23.000000              1.000000    5832.0      86.000000   \n",
       "\n",
       "                TMAX           TMIN   TAVG_less_62          y2019  \\\n",
       "count  682344.000000  682344.000000  682344.000000  682344.000000   \n",
       "mean       90.364369      58.484911      10.752401       0.497942   \n",
       "std         7.231845       3.996672       5.090853       0.499996   \n",
       "min        69.000000      45.000000       0.000000       0.000000   \n",
       "25%        86.000000      56.000000       7.000000       0.000000   \n",
       "50%        91.000000      58.000000      11.000000       0.000000   \n",
       "75%        96.000000      61.000000      14.000000       1.000000   \n",
       "max       105.000000      69.000000      24.000000       1.000000   \n",
       "\n",
       "         interaction     const  AC_cooling_on  \n",
       "count  682344.000000  682344.0  682344.000000  \n",
       "mean        5.748285       1.0       0.323051  \n",
       "std         6.820636       0.0       0.467642  \n",
       "min         0.000000       1.0       0.000000  \n",
       "25%         0.000000       1.0       0.000000  \n",
       "50%         0.000000       1.0       0.000000  \n",
       "75%        12.000000       1.0       1.000000  \n",
       "max        24.000000       1.0       1.000000  "
      ]
     },
     "execution_count": 64,
     "metadata": {},
     "output_type": "execute_result"
    }
   ],
   "source": [
    "# pd.set_option('display.max_rows', None)\n",
    "# generate a new column indicating on/off of cooling AC\n",
    "df_sac_18n19_hourly_24h_w_temperature['AC_cooling_on']=np.where(df_sac_18n19_hourly_24h_w_temperature['hourly_total_cooling']> 0, 1, 0)\n",
    "\n",
    "# df_19_temp=df_sac_19_daily_24h[['user_id', 'daily_total_cooling']].groupby('user_id').max().reset_index()\n",
    "# df_19_temp['any_usage']=(df_19_temp.daily_total_cooling>0)\n",
    "# df_19_temp=df_19_temp['user_id'][df_19_temp['any_usage']==True]\n",
    "# df_sac_19_daily_24h=pd.merge(df_19_temp,df_sac_19_daily_24h,how='left', on='user_id')\n",
    "df_sac_18n19_hourly_24h_w_temperature.describe()"
   ]
  },
  {
   "cell_type": "code",
   "execution_count": 65,
   "metadata": {},
   "outputs": [],
   "source": [
    "df_sac_18n19_hourly_24h_w_temperature['const']=1\n",
    "list_1=list(['df_hour_onoff_']*24)\n",
    "list_2_int=list(range(24))\n",
    "list_2_str = [str(int) for int in list_2_int] \n",
    "list_3 = [i + j for i, j in zip(list_1, list_2_str)]\n",
    "# print(list_3)\n",
    "for i in range(24):\n",
    "    globals()['df_hour_onoff_+str(i)'] = list_3[i]\n",
    "#     print(globals()['df_hour_onoff_+str(i)'])\n",
    "list_1=list(['reg_result_onoff_']*24)\n",
    "# list_2_int=list(range(24))\n",
    "# list_2_str = [str(int) for int in list_2_int] \n",
    "list_3 = [i + j for i, j in zip(list_1, list_2_str)]\n",
    "for i in range(24):\n",
    "    globals()['reg_result_onoff_+str(i)'] = list_3[i]\n",
    "#     print(globals()['reg_result_onoff_+str(i)'])\n",
    "list_of_results_onoff=[]\n",
    "for h in range(24):    \n",
    "    reg_data=df_sac_18n19_hourly_24h_w_temperature[df_sac_18n19_hourly_24h_w_temperature['HourOfDay']==h]\n",
    "    globals()['df_hour_onoff_+str(h)']  = sm.OLS(endog=reg_data['AC_cooling_on'], \\\n",
    "              exog=reg_data[['TAVG_less_62','interaction','const']], \\\n",
    "                missing='drop')\n",
    "    globals()['reg_result_onoff_+str(i)'] =  globals()['df_hour_onoff_+str(h)'].fit(cov_type='HC1')\n",
    "#     print('Results (on/off) for hour *******************'+str(h)+'*******************')\n",
    "#     print('\\n')\n",
    "#     print(globals()['reg_result_onoff_+str(i)'].summary())\n",
    "    list_of_results_onoff.append(globals()['reg_result_onoff_+str(i)'])"
   ]
  },
  {
   "cell_type": "code",
   "execution_count": 66,
   "metadata": {},
   "outputs": [
    {
     "name": "stdout",
     "output_type": "stream",
     "text": [
      "[0.0009253270018094482, 0.0010341948858117226, 0.0011518105251065588, 0.0015920321257823574, 0.0021220863363078666, 0.0016085323969530524, 0.0012934372715758518, 0.0021721890618574434, 0.0016432416314057213, 0.000808894214375345, 0.001363227711590814, 0.0011663101093783096, -0.0009072032008977563, -0.001727377023780814, -0.0014579045710506819, -0.0006293102978462479, -0.0002486935856693373, -0.005493795616239928, -0.004570885670049521, -0.0009549850465931489, -0.002147568973330816, -0.0035992712791118207, -0.0019381538119070925, -0.000626014442757227]\n",
      "[0.00019815003253156134, 0.00016588464276784078, 0.00013785441910417674, 0.00011882193271744399, 0.00010669666542124093, 9.936678615134901e-05, 9.405581927850517e-05, 9.626696812548153e-05, 0.0001106744762575591, 0.0001421979237215133, 0.00017572459471158246, 0.00021116802564227942, 0.000245221490553454, 0.0002887218257512146, 0.0003199556704258033, 0.0003462915882293057, 0.0003629926317415328, 0.0003666976727246793, 0.0003559353987221094, 0.00033502513832613155, 0.0003198980572041947, 0.0003045976686758111, 0.00027527098283753584, 0.00023436005737394446]\n",
      "[0.0011234770343410095, 0.0012000795285795633, 0.0012896649442107355, 0.0017108540584998013, 0.0022287830017291075, 0.0017078991831044014, 0.0013874930908543569, 0.002268456029982925, 0.0017539161076632803, 0.0009510921380968582, 0.0015389523063023963, 0.001377478135020589, -0.0006619817103443023, -0.0014386551980295993, -0.0011379489006248787, -0.0002830187096169422, 0.00011429904607219548, -0.005127097943515249, -0.004214950271327412, -0.0006199599082670174, -0.0018276709161266212, -0.0032946736104360096, -0.0016628828290695566, -0.00039165438538328254]\n",
      "[0.0007271769692778869, 0.0008683102430438819, 0.001013956106002382, 0.0014732101930649134, 0.0020153896708866256, 0.0015091656108017035, 0.0011993814522973467, 0.002075922093731962, 0.0015325671551481622, 0.0006666962906538317, 0.0011875031168792315, 0.0009551420837360302, -0.0011524246914512103, -0.0020160988495320285, -0.001777860241476485, -0.0009756018860755536, -0.0006116862174108701, -0.005860493288964607, -0.00492682106877163, -0.0012900101849192805, -0.002467467030535011, -0.003903868947787632, -0.0022134247947446285, -0.0008603745001311714]\n"
     ]
    }
   ],
   "source": [
    "interaction_coeffs_onoff = []\n",
    "for i in range(24):\n",
    "    interaction_coeffs_onoff.append(list_of_results_onoff[i].params[1])\n",
    "\n",
    "print(interaction_coeffs_onoff)\n",
    "interaction_coeff_se_onoff = []\n",
    "for i in range(24):\n",
    "    interaction_coeff_se_onoff.append(list_of_results[i].bse[1])\n",
    "print(interaction_coeff_se_onoff)\n",
    "interaction_coeffs_plusSE_onoff = [\n",
    "    a + b for a, b in zip(interaction_coeffs_onoff, interaction_coeff_se_onoff)\n",
    "]\n",
    "print(interaction_coeffs_plusSE_onoff)\n",
    "interaction_coeffs_minusSE_onoff = [\n",
    "    a - b for a, b in zip(interaction_coeffs_onoff, interaction_coeff_se_onoff)\n",
    "]\n",
    "print(interaction_coeffs_minusSE_onoff)"
   ]
  },
  {
   "cell_type": "code",
   "execution_count": 67,
   "metadata": {},
   "outputs": [
    {
     "data": {
      "image/png": "[encoded data removed]",
      "text/plain": [
       "<Figure size 1080x720 with 1 Axes>"
      ]
     },
     "metadata": {
      "needs_background": "light"
     },
     "output_type": "display_data"
    }
   ],
   "source": [
    "# x axis range\n",
    "x = range(len(interaction_coeffs_onoff))\n",
    "plt.figure(figsize=(15,10))\n",
    "# y\n",
    "plt.plot(x,interaction_coeffs_onoff,'o-', label='interaction coeff (y=cooling_on)')\n",
    "plt.plot(x,[0] * len(interaction_coeffs))\n",
    "plt.plot(x,interaction_coeffs_plusSE_onoff,'o-', label='upper bound')\n",
    "plt.plot(x,interaction_coeffs_minusSE_onoff,'o-', label='lower bound')\n",
    "plt.legend(loc=\"upper left\")\n",
    "plt.xticks(x)\n",
    "plt.grid()\n",
    "plt.title(\"Y=AC_cooling_on\")\n",
    "plt.show()"
   ]
  },
  {
   "cell_type": "code",
   "execution_count": 68,
   "metadata": {},
   "outputs": [
    {
     "data": {
      "image/png": "[encoded data removed]",
      "text/plain": [
       "<Figure size 1080x720 with 1 Axes>"
      ]
     },
     "metadata": {
      "needs_background": "light"
     },
     "output_type": "display_data"
    }
   ],
   "source": [
    "# x axis range\n",
    "x = range(len(interaction_coeffs_onoff))\n",
    "plt.figure(figsize=(15,10))\n",
    "# y\n",
    "plt.plot(x,interaction_coeffs_onoff,'+-', label='interaction coeff (y=cooling_on)')\n",
    "plt.plot(x,interaction_coeffs,'o-', label='interaction coeff (y=cooling time(hour))')\n",
    "plt.plot(x,[0] * len(interaction_coeffs))\n",
    "plt.legend(loc=\"upper left\")\n",
    "plt.xticks(x)\n",
    "plt.grid()\n",
    "plt.title(\"Y=AC_cooling_on/cooling time (hour)\")\n",
    "plt.show()"
   ]
  },
  {
   "cell_type": "markdown",
   "metadata": {},
   "source": [
    "TOU pricing REDUCED the probability of \"turning cooling on\" in peak/mid-peak hours."
   ]
  },
  {
   "cell_type": "code",
   "execution_count": null,
   "metadata": {},
   "outputs": [],
   "source": []
  },
  {
   "cell_type": "code",
   "execution_count": null,
   "metadata": {},
   "outputs": [],
   "source": []
  }
 ],
 "metadata": {
  "kernelspec": {
   "display_name": "Python 3",
   "language": "python",
   "name": "python3"
  },
  "language_info": {
   "codemirror_mode": {
    "name": "ipython",
    "version": 3
   },
   "file_extension": ".py",
   "mimetype": "text/x-python",
   "name": "python",
   "nbconvert_exporter": "python",
   "pygments_lexer": "ipython3",
   "version": "3.8.5"
  },
  "varInspector": {
   "cols": {
    "lenName": 16,
    "lenType": 16,
    "lenVar": 40
   },
   "kernels_config": {
    "python": {
     "delete_cmd_postfix": "",
     "delete_cmd_prefix": "del ",
     "library": "var_list.py",
     "varRefreshCmd": "print(var_dic_list())"
    },
    "r": {
     "delete_cmd_postfix": ") ",
     "delete_cmd_prefix": "rm(",
     "library": "var_list.r",
     "varRefreshCmd": "cat(var_dic_list()) "
    }
   },
   "types_to_exclude": [
    "module",
    "function",
    "builtin_function_or_method",
    "instance",
    "_Feature"
   ],
   "window_display": false
  }
 },
 "nbformat": 4,
 "nbformat_minor": 4
}
