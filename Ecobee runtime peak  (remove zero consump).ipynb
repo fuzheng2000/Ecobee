{
 "cells": [
  {
   "cell_type": "code",
   "execution_count": 1,
   "metadata": {
    "ExecuteTime": {
     "end_time": "2021-04-14T19:41:25.035272Z",
     "start_time": "2021-04-14T19:41:22.596143Z"
    }
   },
   "outputs": [],
   "source": [
    "import warnings\n",
    "warnings.simplefilter('ignore')\n",
    "\n",
    "import numpy as np\n",
    "import pandas as pd\n",
    "import seaborn as sns\n",
    "import matplotlib.pyplot as plt\n",
    "import os\n",
    "\n",
    "\n",
    "import graphviz\n",
    "from sklearn import tree\n",
    "from sklearn.tree import DecisionTreeClassifier\n",
    "from sklearn.preprocessing import LabelEncoder\n",
    "\n",
    "%matplotlib inline"
   ]
  },
  {
   "cell_type": "code",
   "execution_count": 2,
   "metadata": {
    "ExecuteTime": {
     "end_time": "2021-04-14T19:42:34.607681Z",
     "start_time": "2021-04-14T19:41:28.213749Z"
    }
   },
   "outputs": [],
   "source": [
    "from zipfile import ZipFile\n",
    "directory_18 = r'F:\\Ecobee\\files\\2018_sac'\n",
    "df_sac_18_daily_peak = pd.DataFrame()\n",
    "import datetime\n",
    "for filename in os.listdir(directory_18):\n",
    "    myzip = ZipFile(os.path.join(directory_18, filename))\n",
    "    g = myzip.open(filename[:-4])\n",
    "    df_temp = pd.read_csv(g, parse_dates=['DateTime'])\n",
    "    df_temp1 = pd.get_dummies(df_temp, columns=['HvacMode'])\n",
    "    df_temp1['Date'] = df_temp1['DateTime'].dt.date\n",
    "    df_temp1['user_id'] = filename[:-8]\n",
    "    df_temp1 = df_temp1[(df_temp1['DateTime'].dt.hour >= 17) &\n",
    "                        (df_temp1['DateTime'].dt.hour < 20) &\n",
    "                        (df_temp1['DateTime'].dt.month >= 6) &\n",
    "                        (df_temp1['DateTime'].dt.month <=\n",
    "                         9)]  #summer days only\n",
    "    df_day = df_temp1.groupby([df_temp1['Date']]).agg(\n",
    "        daily_total_heating=pd.NamedAgg(column='auxHeat1', aggfunc=sum),\n",
    "        daily_total_cooling=pd.NamedAgg(column='compCool1', aggfunc=sum),\n",
    "        user_id=pd.NamedAgg(column='user_id', aggfunc=min)).reset_index()\n",
    "    df_day['daily_total_heating'] = df_day['daily_total_heating'] / 3600\n",
    "    df_day['daily_total_cooling'] = df_day['daily_total_cooling'] / 3600\n",
    "    df_sac_18_daily_peak = pd.concat([df_sac_18_daily_peak, df_day])\n",
    "    g.close()\n",
    "    myzip.close()"
   ]
  },
  {
   "cell_type": "code",
   "execution_count": 3,
   "metadata": {
    "ExecuteTime": {
     "end_time": "2021-04-14T19:42:34.623685Z",
     "start_time": "2021-04-14T19:42:34.608682Z"
    }
   },
   "outputs": [
    {
     "name": "stdout",
     "output_type": "stream",
     "text": [
      "<class 'pandas.core.frame.DataFrame'>\n",
      "Int64Index: 21215 entries, 0 to 121\n",
      "Data columns (total 4 columns):\n",
      " #   Column               Non-Null Count  Dtype  \n",
      "---  ------               --------------  -----  \n",
      " 0   Date                 21215 non-null  object \n",
      " 1   daily_total_heating  21215 non-null  float64\n",
      " 2   daily_total_cooling  21215 non-null  float64\n",
      " 3   user_id              21215 non-null  object \n",
      "dtypes: float64(2), object(2)\n",
      "memory usage: 828.7+ KB\n"
     ]
    }
   ],
   "source": [
    "df_sac_18_daily_peak.info()"
   ]
  },
  {
   "cell_type": "code",
   "execution_count": 4,
   "metadata": {
    "ExecuteTime": {
     "end_time": "2021-04-14T19:42:34.655693Z",
     "start_time": "2021-04-14T19:42:34.625686Z"
    }
   },
   "outputs": [],
   "source": [
    "pd.set_option('display.max_rows', None)\n",
    "#remove user_ids that have no cooling consumption at all for 2018\n",
    "df_18_temp=df_sac_18_daily_peak[['user_id', 'daily_total_cooling']].groupby('user_id').max().reset_index()\n",
    "df_18_temp['any_usage']=(df_18_temp.daily_total_cooling>0)\n",
    "df_18_temp=df_18_temp['user_id'][df_18_temp['any_usage']==True]\n",
    "df_sac_18_daily_peak=pd.merge(df_18_temp,df_sac_18_daily_peak,how='left', on='user_id')\n"
   ]
  },
  {
   "cell_type": "code",
   "execution_count": 5,
   "metadata": {
    "ExecuteTime": {
     "end_time": "2021-04-14T19:42:34.671696Z",
     "start_time": "2021-04-14T19:42:34.656694Z"
    }
   },
   "outputs": [
    {
     "data": {
      "text/html": [
       "<div>\n",
       "<style scoped>\n",
       "    .dataframe tbody tr th:only-of-type {\n",
       "        vertical-align: middle;\n",
       "    }\n",
       "\n",
       "    .dataframe tbody tr th {\n",
       "        vertical-align: top;\n",
       "    }\n",
       "\n",
       "    .dataframe thead th {\n",
       "        text-align: right;\n",
       "    }\n",
       "</style>\n",
       "<table border=\"1\" class=\"dataframe\">\n",
       "  <thead>\n",
       "    <tr style=\"text-align: right;\">\n",
       "      <th></th>\n",
       "      <th>user_id</th>\n",
       "      <th>Date</th>\n",
       "      <th>daily_total_heating</th>\n",
       "      <th>daily_total_cooling</th>\n",
       "    </tr>\n",
       "  </thead>\n",
       "  <tbody>\n",
       "    <tr>\n",
       "      <th>0</th>\n",
       "      <td>0038e4cc0089e5a289601a79af4b6c6f2c9efc97</td>\n",
       "      <td>2018-06-01</td>\n",
       "      <td>0.0</td>\n",
       "      <td>0.116667</td>\n",
       "    </tr>\n",
       "    <tr>\n",
       "      <th>1</th>\n",
       "      <td>0038e4cc0089e5a289601a79af4b6c6f2c9efc97</td>\n",
       "      <td>2018-06-02</td>\n",
       "      <td>0.0</td>\n",
       "      <td>1.050000</td>\n",
       "    </tr>\n",
       "    <tr>\n",
       "      <th>2</th>\n",
       "      <td>0038e4cc0089e5a289601a79af4b6c6f2c9efc97</td>\n",
       "      <td>2018-06-03</td>\n",
       "      <td>0.0</td>\n",
       "      <td>1.941667</td>\n",
       "    </tr>\n",
       "    <tr>\n",
       "      <th>3</th>\n",
       "      <td>0038e4cc0089e5a289601a79af4b6c6f2c9efc97</td>\n",
       "      <td>2018-06-04</td>\n",
       "      <td>0.0</td>\n",
       "      <td>0.820833</td>\n",
       "    </tr>\n",
       "    <tr>\n",
       "      <th>4</th>\n",
       "      <td>0038e4cc0089e5a289601a79af4b6c6f2c9efc97</td>\n",
       "      <td>2018-06-05</td>\n",
       "      <td>0.0</td>\n",
       "      <td>0.000000</td>\n",
       "    </tr>\n",
       "  </tbody>\n",
       "</table>\n",
       "</div>"
      ],
      "text/plain": [
       "                                    user_id        Date  daily_total_heating  \\\n",
       "0  0038e4cc0089e5a289601a79af4b6c6f2c9efc97  2018-06-01                  0.0   \n",
       "1  0038e4cc0089e5a289601a79af4b6c6f2c9efc97  2018-06-02                  0.0   \n",
       "2  0038e4cc0089e5a289601a79af4b6c6f2c9efc97  2018-06-03                  0.0   \n",
       "3  0038e4cc0089e5a289601a79af4b6c6f2c9efc97  2018-06-04                  0.0   \n",
       "4  0038e4cc0089e5a289601a79af4b6c6f2c9efc97  2018-06-05                  0.0   \n",
       "\n",
       "   daily_total_cooling  \n",
       "0             0.116667  \n",
       "1             1.050000  \n",
       "2             1.941667  \n",
       "3             0.820833  \n",
       "4             0.000000  "
      ]
     },
     "execution_count": 5,
     "metadata": {},
     "output_type": "execute_result"
    }
   ],
   "source": [
    "df_sac_18_daily_peak.head()"
   ]
  },
  {
   "cell_type": "code",
   "execution_count": 7,
   "metadata": {
    "ExecuteTime": {
     "end_time": "2021-04-14T19:44:54.078084Z",
     "start_time": "2021-04-14T19:42:34.673696Z"
    }
   },
   "outputs": [],
   "source": [
    "from zipfile import ZipFile\n",
    "df_sac_19_daily_peak = pd.DataFrame()\n",
    "directory_19 = r'F:\\Ecobee\\files\\2019_sac'\n",
    "import datetime\n",
    "for filename in os.listdir(directory_19):\n",
    "    myzip = ZipFile(os.path.join(directory_19, filename))\n",
    "    f = myzip.open(filename[:-4])\n",
    "    df_temp = pd.read_csv(f, parse_dates=['DateTime'])\n",
    "    df_temp1 = pd.get_dummies(df_temp, columns=['HvacMode'])\n",
    "    df_temp1['Date'] = df_temp1['DateTime'].dt.date\n",
    "    df_temp1['user_id'] = filename[:-8]\n",
    "    df_temp1 = df_temp1[(df_temp1['DateTime'].dt.hour >= 17) &\n",
    "                        (df_temp1['DateTime'].dt.hour < 20) &\n",
    "                        (df_temp1['DateTime'].dt.month >= 6) &\n",
    "                        (df_temp1['DateTime'].dt.month <=\n",
    "                         9)]  #summer days only\n",
    "    df_day = df_temp1.groupby([df_temp1['Date']]).agg(\n",
    "        daily_total_heating=pd.NamedAgg(column='auxHeat1', aggfunc=sum),\n",
    "        daily_total_cooling=pd.NamedAgg(column='compCool1', aggfunc=sum),\n",
    "        user_id=pd.NamedAgg(column='user_id', aggfunc=min)).reset_index()\n",
    "    df_day['daily_total_heating'] = df_day['daily_total_heating'] / 3600\n",
    "    df_day['daily_total_cooling'] = df_day['daily_total_cooling'] / 3600\n",
    "    df_sac_19_daily_peak = pd.concat([df_sac_19_daily_peak, df_day])\n",
    "    f.close()\n",
    "    myzip.close()"
   ]
  },
  {
   "cell_type": "code",
   "execution_count": 8,
   "metadata": {
    "ExecuteTime": {
     "end_time": "2021-04-14T19:44:54.094086Z",
     "start_time": "2021-04-14T19:44:54.080084Z"
    }
   },
   "outputs": [
    {
     "data": {
      "text/html": [
       "<div>\n",
       "<style scoped>\n",
       "    .dataframe tbody tr th:only-of-type {\n",
       "        vertical-align: middle;\n",
       "    }\n",
       "\n",
       "    .dataframe tbody tr th {\n",
       "        vertical-align: top;\n",
       "    }\n",
       "\n",
       "    .dataframe thead th {\n",
       "        text-align: right;\n",
       "    }\n",
       "</style>\n",
       "<table border=\"1\" class=\"dataframe\">\n",
       "  <thead>\n",
       "    <tr style=\"text-align: right;\">\n",
       "      <th></th>\n",
       "      <th>Date</th>\n",
       "      <th>daily_total_heating</th>\n",
       "      <th>daily_total_cooling</th>\n",
       "      <th>user_id</th>\n",
       "    </tr>\n",
       "  </thead>\n",
       "  <tbody>\n",
       "    <tr>\n",
       "      <th>0</th>\n",
       "      <td>2019-06-01</td>\n",
       "      <td>0.0</td>\n",
       "      <td>1.937500</td>\n",
       "      <td>0038e4cc0089e5a289601a79af4b6c6f2c9efc97</td>\n",
       "    </tr>\n",
       "    <tr>\n",
       "      <th>1</th>\n",
       "      <td>2019-06-02</td>\n",
       "      <td>0.0</td>\n",
       "      <td>1.095833</td>\n",
       "      <td>0038e4cc0089e5a289601a79af4b6c6f2c9efc97</td>\n",
       "    </tr>\n",
       "    <tr>\n",
       "      <th>2</th>\n",
       "      <td>2019-06-03</td>\n",
       "      <td>0.0</td>\n",
       "      <td>0.945833</td>\n",
       "      <td>0038e4cc0089e5a289601a79af4b6c6f2c9efc97</td>\n",
       "    </tr>\n",
       "    <tr>\n",
       "      <th>3</th>\n",
       "      <td>2019-06-04</td>\n",
       "      <td>0.0</td>\n",
       "      <td>2.187500</td>\n",
       "      <td>0038e4cc0089e5a289601a79af4b6c6f2c9efc97</td>\n",
       "    </tr>\n",
       "    <tr>\n",
       "      <th>4</th>\n",
       "      <td>2019-06-05</td>\n",
       "      <td>0.0</td>\n",
       "      <td>1.791667</td>\n",
       "      <td>0038e4cc0089e5a289601a79af4b6c6f2c9efc97</td>\n",
       "    </tr>\n",
       "  </tbody>\n",
       "</table>\n",
       "</div>"
      ],
      "text/plain": [
       "         Date  daily_total_heating  daily_total_cooling  \\\n",
       "0  2019-06-01                  0.0             1.937500   \n",
       "1  2019-06-02                  0.0             1.095833   \n",
       "2  2019-06-03                  0.0             0.945833   \n",
       "3  2019-06-04                  0.0             2.187500   \n",
       "4  2019-06-05                  0.0             1.791667   \n",
       "\n",
       "                                    user_id  \n",
       "0  0038e4cc0089e5a289601a79af4b6c6f2c9efc97  \n",
       "1  0038e4cc0089e5a289601a79af4b6c6f2c9efc97  \n",
       "2  0038e4cc0089e5a289601a79af4b6c6f2c9efc97  \n",
       "3  0038e4cc0089e5a289601a79af4b6c6f2c9efc97  \n",
       "4  0038e4cc0089e5a289601a79af4b6c6f2c9efc97  "
      ]
     },
     "execution_count": 8,
     "metadata": {},
     "output_type": "execute_result"
    }
   ],
   "source": [
    "df_sac_19_daily_peak.head()\n",
    "#note there is a \"time jump\" from 2019-07-25 16:55 to 2019-07-26 17:00"
   ]
  },
  {
   "cell_type": "code",
   "execution_count": 9,
   "metadata": {
    "ExecuteTime": {
     "end_time": "2021-04-14T19:44:54.126094Z",
     "start_time": "2021-04-14T19:44:54.095086Z"
    }
   },
   "outputs": [],
   "source": [
    "pd.set_option('display.max_rows', None)\n",
    "#remove user_ids that have no cooling consumption at all for 2019\n",
    "df_19_temp=df_sac_19_daily_peak[['user_id', 'daily_total_cooling']].groupby('user_id').max().reset_index()\n",
    "df_19_temp['any_usage']=(df_19_temp.daily_total_cooling>0)\n",
    "df_19_temp=df_19_temp['user_id'][df_19_temp['any_usage']==True]\n",
    "df_sac_19_daily_peak=pd.merge(df_19_temp,df_sac_19_daily_peak,how='left', on='user_id')"
   ]
  },
  {
   "cell_type": "code",
   "execution_count": 10,
   "metadata": {
    "ExecuteTime": {
     "end_time": "2021-04-14T19:44:54.221114Z",
     "start_time": "2021-04-14T19:44:54.128094Z"
    }
   },
   "outputs": [
    {
     "data": {
      "text/html": [
       "<div>\n",
       "<style scoped>\n",
       "    .dataframe tbody tr th:only-of-type {\n",
       "        vertical-align: middle;\n",
       "    }\n",
       "\n",
       "    .dataframe tbody tr th {\n",
       "        vertical-align: top;\n",
       "    }\n",
       "\n",
       "    .dataframe thead th {\n",
       "        text-align: right;\n",
       "    }\n",
       "</style>\n",
       "<table border=\"1\" class=\"dataframe\">\n",
       "  <thead>\n",
       "    <tr style=\"text-align: right;\">\n",
       "      <th></th>\n",
       "      <th>user_id</th>\n",
       "      <th>Date</th>\n",
       "      <th>daily_total_heating</th>\n",
       "      <th>daily_total_cooling</th>\n",
       "    </tr>\n",
       "  </thead>\n",
       "  <tbody>\n",
       "    <tr>\n",
       "      <th>0</th>\n",
       "      <td>0038e4cc0089e5a289601a79af4b6c6f2c9efc97</td>\n",
       "      <td>2019-06-01</td>\n",
       "      <td>0.0</td>\n",
       "      <td>1.937500</td>\n",
       "    </tr>\n",
       "    <tr>\n",
       "      <th>1</th>\n",
       "      <td>0038e4cc0089e5a289601a79af4b6c6f2c9efc97</td>\n",
       "      <td>2019-06-02</td>\n",
       "      <td>0.0</td>\n",
       "      <td>1.095833</td>\n",
       "    </tr>\n",
       "    <tr>\n",
       "      <th>2</th>\n",
       "      <td>0038e4cc0089e5a289601a79af4b6c6f2c9efc97</td>\n",
       "      <td>2019-06-03</td>\n",
       "      <td>0.0</td>\n",
       "      <td>0.945833</td>\n",
       "    </tr>\n",
       "    <tr>\n",
       "      <th>3</th>\n",
       "      <td>0038e4cc0089e5a289601a79af4b6c6f2c9efc97</td>\n",
       "      <td>2019-06-04</td>\n",
       "      <td>0.0</td>\n",
       "      <td>2.187500</td>\n",
       "    </tr>\n",
       "    <tr>\n",
       "      <th>4</th>\n",
       "      <td>0038e4cc0089e5a289601a79af4b6c6f2c9efc97</td>\n",
       "      <td>2019-06-05</td>\n",
       "      <td>0.0</td>\n",
       "      <td>1.791667</td>\n",
       "    </tr>\n",
       "  </tbody>\n",
       "</table>\n",
       "</div>"
      ],
      "text/plain": [
       "                                    user_id        Date  daily_total_heating  \\\n",
       "0  0038e4cc0089e5a289601a79af4b6c6f2c9efc97  2019-06-01                  0.0   \n",
       "1  0038e4cc0089e5a289601a79af4b6c6f2c9efc97  2019-06-02                  0.0   \n",
       "2  0038e4cc0089e5a289601a79af4b6c6f2c9efc97  2019-06-03                  0.0   \n",
       "3  0038e4cc0089e5a289601a79af4b6c6f2c9efc97  2019-06-04                  0.0   \n",
       "4  0038e4cc0089e5a289601a79af4b6c6f2c9efc97  2019-06-05                  0.0   \n",
       "\n",
       "   daily_total_cooling  \n",
       "0             1.937500  \n",
       "1             1.095833  \n",
       "2             0.945833  \n",
       "3             2.187500  \n",
       "4             1.791667  "
      ]
     },
     "execution_count": 10,
     "metadata": {},
     "output_type": "execute_result"
    }
   ],
   "source": [
    "df_sac_19_daily_peak.head()"
   ]
  },
  {
   "cell_type": "code",
   "execution_count": 11,
   "metadata": {
    "ExecuteTime": {
     "end_time": "2021-04-14T19:44:54.237118Z",
     "start_time": "2021-04-14T19:44:54.222115Z"
    }
   },
   "outputs": [
    {
     "data": {
      "text/html": [
       "<div>\n",
       "<style scoped>\n",
       "    .dataframe tbody tr th:only-of-type {\n",
       "        vertical-align: middle;\n",
       "    }\n",
       "\n",
       "    .dataframe tbody tr th {\n",
       "        vertical-align: top;\n",
       "    }\n",
       "\n",
       "    .dataframe thead th {\n",
       "        text-align: right;\n",
       "    }\n",
       "</style>\n",
       "<table border=\"1\" class=\"dataframe\">\n",
       "  <thead>\n",
       "    <tr style=\"text-align: right;\">\n",
       "      <th></th>\n",
       "      <th>user_id</th>\n",
       "      <th>Date</th>\n",
       "      <th>daily_total_heating</th>\n",
       "      <th>daily_total_cooling</th>\n",
       "    </tr>\n",
       "  </thead>\n",
       "  <tbody>\n",
       "    <tr>\n",
       "      <th>0</th>\n",
       "      <td>0038e4cc0089e5a289601a79af4b6c6f2c9efc97</td>\n",
       "      <td>2018-06-01</td>\n",
       "      <td>0.0</td>\n",
       "      <td>0.116667</td>\n",
       "    </tr>\n",
       "    <tr>\n",
       "      <th>1</th>\n",
       "      <td>0038e4cc0089e5a289601a79af4b6c6f2c9efc97</td>\n",
       "      <td>2018-06-02</td>\n",
       "      <td>0.0</td>\n",
       "      <td>1.050000</td>\n",
       "    </tr>\n",
       "    <tr>\n",
       "      <th>2</th>\n",
       "      <td>0038e4cc0089e5a289601a79af4b6c6f2c9efc97</td>\n",
       "      <td>2018-06-03</td>\n",
       "      <td>0.0</td>\n",
       "      <td>1.941667</td>\n",
       "    </tr>\n",
       "    <tr>\n",
       "      <th>3</th>\n",
       "      <td>0038e4cc0089e5a289601a79af4b6c6f2c9efc97</td>\n",
       "      <td>2018-06-04</td>\n",
       "      <td>0.0</td>\n",
       "      <td>0.820833</td>\n",
       "    </tr>\n",
       "    <tr>\n",
       "      <th>4</th>\n",
       "      <td>0038e4cc0089e5a289601a79af4b6c6f2c9efc97</td>\n",
       "      <td>2018-06-05</td>\n",
       "      <td>0.0</td>\n",
       "      <td>0.000000</td>\n",
       "    </tr>\n",
       "  </tbody>\n",
       "</table>\n",
       "</div>"
      ],
      "text/plain": [
       "                                    user_id        Date  daily_total_heating  \\\n",
       "0  0038e4cc0089e5a289601a79af4b6c6f2c9efc97  2018-06-01                  0.0   \n",
       "1  0038e4cc0089e5a289601a79af4b6c6f2c9efc97  2018-06-02                  0.0   \n",
       "2  0038e4cc0089e5a289601a79af4b6c6f2c9efc97  2018-06-03                  0.0   \n",
       "3  0038e4cc0089e5a289601a79af4b6c6f2c9efc97  2018-06-04                  0.0   \n",
       "4  0038e4cc0089e5a289601a79af4b6c6f2c9efc97  2018-06-05                  0.0   \n",
       "\n",
       "   daily_total_cooling  \n",
       "0             0.116667  \n",
       "1             1.050000  \n",
       "2             1.941667  \n",
       "3             0.820833  \n",
       "4             0.000000  "
      ]
     },
     "execution_count": 11,
     "metadata": {},
     "output_type": "execute_result"
    }
   ],
   "source": [
    "df_sac_18n19_daily_peak=pd.concat([df_sac_18_daily_peak,df_sac_19_daily_peak])\n",
    "df_sac_18n19_daily_peak.head()"
   ]
  },
  {
   "cell_type": "code",
   "execution_count": 12,
   "metadata": {
    "ExecuteTime": {
     "end_time": "2021-04-14T19:44:54.269125Z",
     "start_time": "2021-04-14T19:44:54.238119Z"
    }
   },
   "outputs": [
    {
     "data": {
      "text/plain": [
       "243    28431\n",
       "121    19481\n",
       "241     2169\n",
       "242     1452\n",
       "223     1115\n",
       "239      717\n",
       "237      711\n",
       "235      470\n",
       "117      468\n",
       "231      462\n",
       "Name: count, dtype: int64"
      ]
     },
     "execution_count": 12,
     "metadata": {},
     "output_type": "execute_result"
    }
   ],
   "source": [
    "df_sac_18n19_daily_peak['count'] = df_sac_18n19_daily_peak.groupby('user_id')['user_id'].transform('count')\n",
    "df_sac_18n19_daily_peak['count'].value_counts().head(10)"
   ]
  },
  {
   "cell_type": "code",
   "execution_count": 13,
   "metadata": {
    "ExecuteTime": {
     "end_time": "2021-04-14T19:44:54.285129Z",
     "start_time": "2021-04-14T19:44:54.270126Z"
    }
   },
   "outputs": [
    {
     "data": {
      "text/html": [
       "<div>\n",
       "<style scoped>\n",
       "    .dataframe tbody tr th:only-of-type {\n",
       "        vertical-align: middle;\n",
       "    }\n",
       "\n",
       "    .dataframe tbody tr th {\n",
       "        vertical-align: top;\n",
       "    }\n",
       "\n",
       "    .dataframe thead th {\n",
       "        text-align: right;\n",
       "    }\n",
       "</style>\n",
       "<table border=\"1\" class=\"dataframe\">\n",
       "  <thead>\n",
       "    <tr style=\"text-align: right;\">\n",
       "      <th></th>\n",
       "      <th>user_id</th>\n",
       "      <th>Date</th>\n",
       "      <th>daily_total_heating</th>\n",
       "      <th>daily_total_cooling</th>\n",
       "      <th>count</th>\n",
       "    </tr>\n",
       "  </thead>\n",
       "  <tbody>\n",
       "    <tr>\n",
       "      <th>0</th>\n",
       "      <td>0038e4cc0089e5a289601a79af4b6c6f2c9efc97</td>\n",
       "      <td>2018-06-01</td>\n",
       "      <td>0.0</td>\n",
       "      <td>0.116667</td>\n",
       "      <td>243</td>\n",
       "    </tr>\n",
       "    <tr>\n",
       "      <th>1</th>\n",
       "      <td>0038e4cc0089e5a289601a79af4b6c6f2c9efc97</td>\n",
       "      <td>2018-06-02</td>\n",
       "      <td>0.0</td>\n",
       "      <td>1.050000</td>\n",
       "      <td>243</td>\n",
       "    </tr>\n",
       "    <tr>\n",
       "      <th>2</th>\n",
       "      <td>0038e4cc0089e5a289601a79af4b6c6f2c9efc97</td>\n",
       "      <td>2018-06-03</td>\n",
       "      <td>0.0</td>\n",
       "      <td>1.941667</td>\n",
       "      <td>243</td>\n",
       "    </tr>\n",
       "    <tr>\n",
       "      <th>3</th>\n",
       "      <td>0038e4cc0089e5a289601a79af4b6c6f2c9efc97</td>\n",
       "      <td>2018-06-04</td>\n",
       "      <td>0.0</td>\n",
       "      <td>0.820833</td>\n",
       "      <td>243</td>\n",
       "    </tr>\n",
       "    <tr>\n",
       "      <th>4</th>\n",
       "      <td>0038e4cc0089e5a289601a79af4b6c6f2c9efc97</td>\n",
       "      <td>2018-06-05</td>\n",
       "      <td>0.0</td>\n",
       "      <td>0.000000</td>\n",
       "      <td>243</td>\n",
       "    </tr>\n",
       "  </tbody>\n",
       "</table>\n",
       "</div>"
      ],
      "text/plain": [
       "                                    user_id        Date  daily_total_heating  \\\n",
       "0  0038e4cc0089e5a289601a79af4b6c6f2c9efc97  2018-06-01                  0.0   \n",
       "1  0038e4cc0089e5a289601a79af4b6c6f2c9efc97  2018-06-02                  0.0   \n",
       "2  0038e4cc0089e5a289601a79af4b6c6f2c9efc97  2018-06-03                  0.0   \n",
       "3  0038e4cc0089e5a289601a79af4b6c6f2c9efc97  2018-06-04                  0.0   \n",
       "4  0038e4cc0089e5a289601a79af4b6c6f2c9efc97  2018-06-05                  0.0   \n",
       "\n",
       "   daily_total_cooling  count  \n",
       "0             0.116667    243  \n",
       "1             1.050000    243  \n",
       "2             1.941667    243  \n",
       "3             0.820833    243  \n",
       "4             0.000000    243  "
      ]
     },
     "execution_count": 13,
     "metadata": {},
     "output_type": "execute_result"
    }
   ],
   "source": [
    "df_sac_18n19_daily_peak.head()"
   ]
  },
  {
   "cell_type": "code",
   "execution_count": 14,
   "metadata": {
    "ExecuteTime": {
     "end_time": "2021-04-14T19:44:54.317136Z",
     "start_time": "2021-04-14T19:44:54.286129Z"
    }
   },
   "outputs": [
    {
     "data": {
      "text/html": [
       "<div>\n",
       "<style scoped>\n",
       "    .dataframe tbody tr th:only-of-type {\n",
       "        vertical-align: middle;\n",
       "    }\n",
       "\n",
       "    .dataframe tbody tr th {\n",
       "        vertical-align: top;\n",
       "    }\n",
       "\n",
       "    .dataframe thead th {\n",
       "        text-align: right;\n",
       "    }\n",
       "</style>\n",
       "<table border=\"1\" class=\"dataframe\">\n",
       "  <thead>\n",
       "    <tr style=\"text-align: right;\">\n",
       "      <th></th>\n",
       "      <th>user_id</th>\n",
       "      <th>Date</th>\n",
       "      <th>daily_total_heating</th>\n",
       "      <th>daily_total_cooling</th>\n",
       "      <th>count</th>\n",
       "    </tr>\n",
       "  </thead>\n",
       "  <tbody>\n",
       "    <tr>\n",
       "      <th>0</th>\n",
       "      <td>0038e4cc0089e5a289601a79af4b6c6f2c9efc97</td>\n",
       "      <td>2018-06-01</td>\n",
       "      <td>0.0</td>\n",
       "      <td>0.116667</td>\n",
       "      <td>243</td>\n",
       "    </tr>\n",
       "    <tr>\n",
       "      <th>1</th>\n",
       "      <td>0038e4cc0089e5a289601a79af4b6c6f2c9efc97</td>\n",
       "      <td>2018-06-02</td>\n",
       "      <td>0.0</td>\n",
       "      <td>1.050000</td>\n",
       "      <td>243</td>\n",
       "    </tr>\n",
       "    <tr>\n",
       "      <th>2</th>\n",
       "      <td>0038e4cc0089e5a289601a79af4b6c6f2c9efc97</td>\n",
       "      <td>2018-06-03</td>\n",
       "      <td>0.0</td>\n",
       "      <td>1.941667</td>\n",
       "      <td>243</td>\n",
       "    </tr>\n",
       "    <tr>\n",
       "      <th>3</th>\n",
       "      <td>0038e4cc0089e5a289601a79af4b6c6f2c9efc97</td>\n",
       "      <td>2018-06-04</td>\n",
       "      <td>0.0</td>\n",
       "      <td>0.820833</td>\n",
       "      <td>243</td>\n",
       "    </tr>\n",
       "    <tr>\n",
       "      <th>4</th>\n",
       "      <td>0038e4cc0089e5a289601a79af4b6c6f2c9efc97</td>\n",
       "      <td>2018-06-05</td>\n",
       "      <td>0.0</td>\n",
       "      <td>0.000000</td>\n",
       "      <td>243</td>\n",
       "    </tr>\n",
       "  </tbody>\n",
       "</table>\n",
       "</div>"
      ],
      "text/plain": [
       "                                    user_id       Date  daily_total_heating  \\\n",
       "0  0038e4cc0089e5a289601a79af4b6c6f2c9efc97 2018-06-01                  0.0   \n",
       "1  0038e4cc0089e5a289601a79af4b6c6f2c9efc97 2018-06-02                  0.0   \n",
       "2  0038e4cc0089e5a289601a79af4b6c6f2c9efc97 2018-06-03                  0.0   \n",
       "3  0038e4cc0089e5a289601a79af4b6c6f2c9efc97 2018-06-04                  0.0   \n",
       "4  0038e4cc0089e5a289601a79af4b6c6f2c9efc97 2018-06-05                  0.0   \n",
       "\n",
       "   daily_total_cooling  count  \n",
       "0             0.116667    243  \n",
       "1             1.050000    243  \n",
       "2             1.941667    243  \n",
       "3             0.820833    243  \n",
       "4             0.000000    243  "
      ]
     },
     "execution_count": 14,
     "metadata": {},
     "output_type": "execute_result"
    }
   ],
   "source": [
    "df_sac_18n19_daily_peak=df_sac_18n19_daily_peak[df_sac_18n19_daily_peak['count']==243]\n",
    "df_sac_18n19_daily_peak['Date']=pd.to_datetime(df_sac_18n19_daily_peak['Date'])\n",
    "df_sac_18n19_daily_peak.head()"
   ]
  },
  {
   "cell_type": "code",
   "execution_count": 15,
   "metadata": {
    "ExecuteTime": {
     "end_time": "2021-04-14T19:44:54.364147Z",
     "start_time": "2021-04-14T19:44:54.318137Z"
    }
   },
   "outputs": [
    {
     "name": "stdout",
     "output_type": "stream",
     "text": [
      "<class 'pandas.core.frame.DataFrame'>\n",
      "RangeIndex: 730 entries, 0 to 729\n",
      "Data columns (total 6 columns):\n",
      " #   Column   Non-Null Count  Dtype         \n",
      "---  ------   --------------  -----         \n",
      " 0   STATION  730 non-null    object        \n",
      " 1   NAME     730 non-null    object        \n",
      " 2   DATE     730 non-null    datetime64[ns]\n",
      " 3   TAVG     730 non-null    int64         \n",
      " 4   TMAX     730 non-null    int64         \n",
      " 5   TMIN     730 non-null    int64         \n",
      "dtypes: datetime64[ns](1), int64(3), object(2)\n",
      "memory usage: 34.3+ KB\n"
     ]
    }
   ],
   "source": [
    "df_temperature=pd.read_csv(r'F:\\Ecobee\\smf_temp_18and19.csv', parse_dates=['DATE'])\n",
    "df_temperature.info()"
   ]
  },
  {
   "cell_type": "code",
   "execution_count": 16,
   "metadata": {
    "ExecuteTime": {
     "end_time": "2021-04-14T19:54:39.457814Z",
     "start_time": "2021-04-14T19:54:39.442809Z"
    }
   },
   "outputs": [
    {
     "data": {
      "text/html": [
       "<div>\n",
       "<style scoped>\n",
       "    .dataframe tbody tr th:only-of-type {\n",
       "        vertical-align: middle;\n",
       "    }\n",
       "\n",
       "    .dataframe tbody tr th {\n",
       "        vertical-align: top;\n",
       "    }\n",
       "\n",
       "    .dataframe thead th {\n",
       "        text-align: right;\n",
       "    }\n",
       "</style>\n",
       "<table border=\"1\" class=\"dataframe\">\n",
       "  <thead>\n",
       "    <tr style=\"text-align: right;\">\n",
       "      <th></th>\n",
       "      <th>STATION</th>\n",
       "      <th>NAME</th>\n",
       "      <th>DATE</th>\n",
       "      <th>TAVG</th>\n",
       "      <th>TMAX</th>\n",
       "      <th>TMIN</th>\n",
       "    </tr>\n",
       "  </thead>\n",
       "  <tbody>\n",
       "    <tr>\n",
       "      <th>0</th>\n",
       "      <td>USW00023232</td>\n",
       "      <td>SACRAMENTO AIRPORT ASOS, CA US</td>\n",
       "      <td>2018-01-01</td>\n",
       "      <td>49</td>\n",
       "      <td>65</td>\n",
       "      <td>38</td>\n",
       "    </tr>\n",
       "    <tr>\n",
       "      <th>1</th>\n",
       "      <td>USW00023232</td>\n",
       "      <td>SACRAMENTO AIRPORT ASOS, CA US</td>\n",
       "      <td>2018-01-02</td>\n",
       "      <td>48</td>\n",
       "      <td>59</td>\n",
       "      <td>39</td>\n",
       "    </tr>\n",
       "    <tr>\n",
       "      <th>2</th>\n",
       "      <td>USW00023232</td>\n",
       "      <td>SACRAMENTO AIRPORT ASOS, CA US</td>\n",
       "      <td>2018-01-03</td>\n",
       "      <td>50</td>\n",
       "      <td>57</td>\n",
       "      <td>40</td>\n",
       "    </tr>\n",
       "    <tr>\n",
       "      <th>3</th>\n",
       "      <td>USW00023232</td>\n",
       "      <td>SACRAMENTO AIRPORT ASOS, CA US</td>\n",
       "      <td>2018-01-04</td>\n",
       "      <td>55</td>\n",
       "      <td>65</td>\n",
       "      <td>49</td>\n",
       "    </tr>\n",
       "    <tr>\n",
       "      <th>4</th>\n",
       "      <td>USW00023232</td>\n",
       "      <td>SACRAMENTO AIRPORT ASOS, CA US</td>\n",
       "      <td>2018-01-05</td>\n",
       "      <td>55</td>\n",
       "      <td>60</td>\n",
       "      <td>50</td>\n",
       "    </tr>\n",
       "  </tbody>\n",
       "</table>\n",
       "</div>"
      ],
      "text/plain": [
       "       STATION                            NAME       DATE  TAVG  TMAX  TMIN\n",
       "0  USW00023232  SACRAMENTO AIRPORT ASOS, CA US 2018-01-01    49    65    38\n",
       "1  USW00023232  SACRAMENTO AIRPORT ASOS, CA US 2018-01-02    48    59    39\n",
       "2  USW00023232  SACRAMENTO AIRPORT ASOS, CA US 2018-01-03    50    57    40\n",
       "3  USW00023232  SACRAMENTO AIRPORT ASOS, CA US 2018-01-04    55    65    49\n",
       "4  USW00023232  SACRAMENTO AIRPORT ASOS, CA US 2018-01-05    55    60    50"
      ]
     },
     "execution_count": 16,
     "metadata": {},
     "output_type": "execute_result"
    }
   ],
   "source": [
    "df_temperature.head()"
   ]
  },
  {
   "cell_type": "code",
   "execution_count": 17,
   "metadata": {
    "ExecuteTime": {
     "end_time": "2021-04-14T19:54:58.839179Z",
     "start_time": "2021-04-14T19:54:58.808173Z"
    }
   },
   "outputs": [
    {
     "data": {
      "text/html": [
       "<div>\n",
       "<style scoped>\n",
       "    .dataframe tbody tr th:only-of-type {\n",
       "        vertical-align: middle;\n",
       "    }\n",
       "\n",
       "    .dataframe tbody tr th {\n",
       "        vertical-align: top;\n",
       "    }\n",
       "\n",
       "    .dataframe thead th {\n",
       "        text-align: right;\n",
       "    }\n",
       "</style>\n",
       "<table border=\"1\" class=\"dataframe\">\n",
       "  <thead>\n",
       "    <tr style=\"text-align: right;\">\n",
       "      <th></th>\n",
       "      <th>user_id</th>\n",
       "      <th>Date</th>\n",
       "      <th>daily_total_heating</th>\n",
       "      <th>daily_total_cooling</th>\n",
       "      <th>count</th>\n",
       "      <th>STATION</th>\n",
       "      <th>NAME</th>\n",
       "      <th>DATE</th>\n",
       "      <th>TAVG</th>\n",
       "      <th>TMAX</th>\n",
       "      <th>TMIN</th>\n",
       "    </tr>\n",
       "  </thead>\n",
       "  <tbody>\n",
       "    <tr>\n",
       "      <th>0</th>\n",
       "      <td>0038e4cc0089e5a289601a79af4b6c6f2c9efc97</td>\n",
       "      <td>2018-06-01</td>\n",
       "      <td>0.0</td>\n",
       "      <td>0.116667</td>\n",
       "      <td>243</td>\n",
       "      <td>USW00023232</td>\n",
       "      <td>SACRAMENTO AIRPORT ASOS, CA US</td>\n",
       "      <td>2018-06-01</td>\n",
       "      <td>65</td>\n",
       "      <td>86</td>\n",
       "      <td>49</td>\n",
       "    </tr>\n",
       "    <tr>\n",
       "      <th>1</th>\n",
       "      <td>0038e4cc0089e5a289601a79af4b6c6f2c9efc97</td>\n",
       "      <td>2018-06-02</td>\n",
       "      <td>0.0</td>\n",
       "      <td>1.050000</td>\n",
       "      <td>243</td>\n",
       "      <td>USW00023232</td>\n",
       "      <td>SACRAMENTO AIRPORT ASOS, CA US</td>\n",
       "      <td>2018-06-02</td>\n",
       "      <td>74</td>\n",
       "      <td>96</td>\n",
       "      <td>55</td>\n",
       "    </tr>\n",
       "    <tr>\n",
       "      <th>2</th>\n",
       "      <td>0038e4cc0089e5a289601a79af4b6c6f2c9efc97</td>\n",
       "      <td>2018-06-03</td>\n",
       "      <td>0.0</td>\n",
       "      <td>1.941667</td>\n",
       "      <td>243</td>\n",
       "      <td>USW00023232</td>\n",
       "      <td>SACRAMENTO AIRPORT ASOS, CA US</td>\n",
       "      <td>2018-06-03</td>\n",
       "      <td>78</td>\n",
       "      <td>98</td>\n",
       "      <td>58</td>\n",
       "    </tr>\n",
       "    <tr>\n",
       "      <th>3</th>\n",
       "      <td>0038e4cc0089e5a289601a79af4b6c6f2c9efc97</td>\n",
       "      <td>2018-06-04</td>\n",
       "      <td>0.0</td>\n",
       "      <td>0.820833</td>\n",
       "      <td>243</td>\n",
       "      <td>USW00023232</td>\n",
       "      <td>SACRAMENTO AIRPORT ASOS, CA US</td>\n",
       "      <td>2018-06-04</td>\n",
       "      <td>76</td>\n",
       "      <td>89</td>\n",
       "      <td>58</td>\n",
       "    </tr>\n",
       "    <tr>\n",
       "      <th>4</th>\n",
       "      <td>0038e4cc0089e5a289601a79af4b6c6f2c9efc97</td>\n",
       "      <td>2018-06-05</td>\n",
       "      <td>0.0</td>\n",
       "      <td>0.000000</td>\n",
       "      <td>243</td>\n",
       "      <td>USW00023232</td>\n",
       "      <td>SACRAMENTO AIRPORT ASOS, CA US</td>\n",
       "      <td>2018-06-05</td>\n",
       "      <td>67</td>\n",
       "      <td>84</td>\n",
       "      <td>53</td>\n",
       "    </tr>\n",
       "  </tbody>\n",
       "</table>\n",
       "</div>"
      ],
      "text/plain": [
       "                                    user_id       Date  daily_total_heating  \\\n",
       "0  0038e4cc0089e5a289601a79af4b6c6f2c9efc97 2018-06-01                  0.0   \n",
       "1  0038e4cc0089e5a289601a79af4b6c6f2c9efc97 2018-06-02                  0.0   \n",
       "2  0038e4cc0089e5a289601a79af4b6c6f2c9efc97 2018-06-03                  0.0   \n",
       "3  0038e4cc0089e5a289601a79af4b6c6f2c9efc97 2018-06-04                  0.0   \n",
       "4  0038e4cc0089e5a289601a79af4b6c6f2c9efc97 2018-06-05                  0.0   \n",
       "\n",
       "   daily_total_cooling  count      STATION                            NAME  \\\n",
       "0             0.116667    243  USW00023232  SACRAMENTO AIRPORT ASOS, CA US   \n",
       "1             1.050000    243  USW00023232  SACRAMENTO AIRPORT ASOS, CA US   \n",
       "2             1.941667    243  USW00023232  SACRAMENTO AIRPORT ASOS, CA US   \n",
       "3             0.820833    243  USW00023232  SACRAMENTO AIRPORT ASOS, CA US   \n",
       "4             0.000000    243  USW00023232  SACRAMENTO AIRPORT ASOS, CA US   \n",
       "\n",
       "        DATE  TAVG  TMAX  TMIN  \n",
       "0 2018-06-01    65    86    49  \n",
       "1 2018-06-02    74    96    55  \n",
       "2 2018-06-03    78    98    58  \n",
       "3 2018-06-04    76    89    58  \n",
       "4 2018-06-05    67    84    53  "
      ]
     },
     "execution_count": 17,
     "metadata": {},
     "output_type": "execute_result"
    }
   ],
   "source": [
    "df_sac_18n19_daily_peak_w_temperature=pd.merge(df_sac_18n19_daily_peak,df_temperature,how='left', left_on='Date', right_on='DATE')\n",
    "df_sac_18n19_daily_peak_w_temperature.head()"
   ]
  },
  {
   "cell_type": "code",
   "execution_count": 18,
   "metadata": {
    "ExecuteTime": {
     "end_time": "2021-04-14T19:58:27.280853Z",
     "start_time": "2021-04-14T19:58:27.266849Z"
    }
   },
   "outputs": [],
   "source": [
    "df_sac_18n19_daily_peak_w_temperature[\n",
    "    'TAVG_less_62'] = df_sac_18n19_daily_peak_w_temperature['TAVG'] - 62\n",
    "df_sac_18n19_daily_peak_w_temperature['TAVG_less_62'] = df_sac_18n19_daily_peak_w_temperature['TAVG_less_62'].apply(lambda x : x if x > 0 else 0)"
   ]
  },
  {
   "cell_type": "code",
   "execution_count": 19,
   "metadata": {
    "ExecuteTime": {
     "end_time": "2021-04-14T19:59:10.593877Z",
     "start_time": "2021-04-14T19:59:10.564871Z"
    }
   },
   "outputs": [
    {
     "data": {
      "text/html": [
       "<div>\n",
       "<style scoped>\n",
       "    .dataframe tbody tr th:only-of-type {\n",
       "        vertical-align: middle;\n",
       "    }\n",
       "\n",
       "    .dataframe tbody tr th {\n",
       "        vertical-align: top;\n",
       "    }\n",
       "\n",
       "    .dataframe thead th {\n",
       "        text-align: right;\n",
       "    }\n",
       "</style>\n",
       "<table border=\"1\" class=\"dataframe\">\n",
       "  <thead>\n",
       "    <tr style=\"text-align: right;\">\n",
       "      <th></th>\n",
       "      <th>daily_total_heating</th>\n",
       "      <th>daily_total_cooling</th>\n",
       "      <th>count</th>\n",
       "      <th>TAVG</th>\n",
       "      <th>TMAX</th>\n",
       "      <th>TMIN</th>\n",
       "      <th>TAVG_less_62</th>\n",
       "      <th>y2019</th>\n",
       "    </tr>\n",
       "  </thead>\n",
       "  <tbody>\n",
       "    <tr>\n",
       "      <th>count</th>\n",
       "      <td>28431.000000</td>\n",
       "      <td>28431.000000</td>\n",
       "      <td>28431.0</td>\n",
       "      <td>28431.000000</td>\n",
       "      <td>28431.000000</td>\n",
       "      <td>28431.000000</td>\n",
       "      <td>28431.000000</td>\n",
       "      <td>28431.000000</td>\n",
       "    </tr>\n",
       "    <tr>\n",
       "      <th>mean</th>\n",
       "      <td>0.000005</td>\n",
       "      <td>0.941740</td>\n",
       "      <td>243.0</td>\n",
       "      <td>72.703704</td>\n",
       "      <td>90.349794</td>\n",
       "      <td>58.473251</td>\n",
       "      <td>10.740741</td>\n",
       "      <td>0.497942</td>\n",
       "    </tr>\n",
       "    <tr>\n",
       "      <th>std</th>\n",
       "      <td>0.000564</td>\n",
       "      <td>0.923302</td>\n",
       "      <td>0.0</td>\n",
       "      <td>5.165131</td>\n",
       "      <td>7.219576</td>\n",
       "      <td>3.977670</td>\n",
       "      <td>5.074298</td>\n",
       "      <td>0.500005</td>\n",
       "    </tr>\n",
       "    <tr>\n",
       "      <th>min</th>\n",
       "      <td>0.000000</td>\n",
       "      <td>0.000000</td>\n",
       "      <td>243.0</td>\n",
       "      <td>58.000000</td>\n",
       "      <td>69.000000</td>\n",
       "      <td>45.000000</td>\n",
       "      <td>0.000000</td>\n",
       "      <td>0.000000</td>\n",
       "    </tr>\n",
       "    <tr>\n",
       "      <th>25%</th>\n",
       "      <td>0.000000</td>\n",
       "      <td>0.000000</td>\n",
       "      <td>243.0</td>\n",
       "      <td>69.000000</td>\n",
       "      <td>86.000000</td>\n",
       "      <td>56.000000</td>\n",
       "      <td>7.000000</td>\n",
       "      <td>0.000000</td>\n",
       "    </tr>\n",
       "    <tr>\n",
       "      <th>50%</th>\n",
       "      <td>0.000000</td>\n",
       "      <td>0.766667</td>\n",
       "      <td>243.0</td>\n",
       "      <td>73.000000</td>\n",
       "      <td>91.000000</td>\n",
       "      <td>58.000000</td>\n",
       "      <td>11.000000</td>\n",
       "      <td>0.000000</td>\n",
       "    </tr>\n",
       "    <tr>\n",
       "      <th>75%</th>\n",
       "      <td>0.000000</td>\n",
       "      <td>1.587500</td>\n",
       "      <td>243.0</td>\n",
       "      <td>76.000000</td>\n",
       "      <td>96.000000</td>\n",
       "      <td>61.000000</td>\n",
       "      <td>14.000000</td>\n",
       "      <td>1.000000</td>\n",
       "    </tr>\n",
       "    <tr>\n",
       "      <th>max</th>\n",
       "      <td>0.083333</td>\n",
       "      <td>3.000000</td>\n",
       "      <td>243.0</td>\n",
       "      <td>86.000000</td>\n",
       "      <td>105.000000</td>\n",
       "      <td>69.000000</td>\n",
       "      <td>24.000000</td>\n",
       "      <td>1.000000</td>\n",
       "    </tr>\n",
       "  </tbody>\n",
       "</table>\n",
       "</div>"
      ],
      "text/plain": [
       "       daily_total_heating  daily_total_cooling    count          TAVG  \\\n",
       "count         28431.000000         28431.000000  28431.0  28431.000000   \n",
       "mean              0.000005             0.941740    243.0     72.703704   \n",
       "std               0.000564             0.923302      0.0      5.165131   \n",
       "min               0.000000             0.000000    243.0     58.000000   \n",
       "25%               0.000000             0.000000    243.0     69.000000   \n",
       "50%               0.000000             0.766667    243.0     73.000000   \n",
       "75%               0.000000             1.587500    243.0     76.000000   \n",
       "max               0.083333             3.000000    243.0     86.000000   \n",
       "\n",
       "               TMAX          TMIN  TAVG_less_62         y2019  \n",
       "count  28431.000000  28431.000000  28431.000000  28431.000000  \n",
       "mean      90.349794     58.473251     10.740741      0.497942  \n",
       "std        7.219576      3.977670      5.074298      0.500005  \n",
       "min       69.000000     45.000000      0.000000      0.000000  \n",
       "25%       86.000000     56.000000      7.000000      0.000000  \n",
       "50%       91.000000     58.000000     11.000000      0.000000  \n",
       "75%       96.000000     61.000000     14.000000      1.000000  \n",
       "max      105.000000     69.000000     24.000000      1.000000  "
      ]
     },
     "execution_count": 19,
     "metadata": {},
     "output_type": "execute_result"
    }
   ],
   "source": [
    "df_sac_18n19_daily_peak_w_temperature['y2019']=np.where(df_sac_18n19_daily_peak_w_temperature['Date'].dt.year== 2019, 1, 0)\n",
    "# [df_sac_18n19_daily_peak_w_temperature['Date'].dt.year==2019]\n",
    "df_sac_18n19_daily_peak_w_temperature.describe()"
   ]
  },
  {
   "cell_type": "code",
   "execution_count": 20,
   "metadata": {
    "ExecuteTime": {
     "end_time": "2021-04-14T19:59:10.609881Z",
     "start_time": "2021-04-14T19:59:10.594878Z"
    }
   },
   "outputs": [],
   "source": [
    "df_sac_18n19_daily_peak_w_temperature[\n",
    "    'interaction'] = df_sac_18n19_daily_peak_w_temperature[\n",
    "        'TAVG_less_62'] * df_sac_18n19_daily_peak_w_temperature['y2019']"
   ]
  },
  {
   "cell_type": "code",
   "execution_count": 21,
   "metadata": {
    "ExecuteTime": {
     "end_time": "2021-04-14T19:59:11.549745Z",
     "start_time": "2021-04-14T19:59:10.610881Z"
    }
   },
   "outputs": [
    {
     "data": {
      "text/html": [
       "<div>\n",
       "<style scoped>\n",
       "    .dataframe tbody tr th:only-of-type {\n",
       "        vertical-align: middle;\n",
       "    }\n",
       "\n",
       "    .dataframe tbody tr th {\n",
       "        vertical-align: top;\n",
       "    }\n",
       "\n",
       "    .dataframe thead th {\n",
       "        text-align: right;\n",
       "    }\n",
       "</style>\n",
       "<table border=\"1\" class=\"dataframe\">\n",
       "  <thead>\n",
       "    <tr style=\"text-align: right;\">\n",
       "      <th></th>\n",
       "      <th>user_id</th>\n",
       "      <th>TAVG_less_62</th>\n",
       "      <th>interaction</th>\n",
       "      <th>intercept</th>\n",
       "    </tr>\n",
       "  </thead>\n",
       "  <tbody>\n",
       "    <tr>\n",
       "      <th>0</th>\n",
       "      <td>0038e4cc0089e5a289601a79af4b6c6f2c9efc97</td>\n",
       "      <td>0.099721</td>\n",
       "      <td>-0.037116</td>\n",
       "      <td>-0.026744</td>\n",
       "    </tr>\n",
       "    <tr>\n",
       "      <th>1</th>\n",
       "      <td>00e2f68ec737f7480114a67bbef7c5f65b6b8516</td>\n",
       "      <td>0.126893</td>\n",
       "      <td>-0.004936</td>\n",
       "      <td>-0.330779</td>\n",
       "    </tr>\n",
       "    <tr>\n",
       "      <th>2</th>\n",
       "      <td>01479a9a84e1722791f2b440f6d4f14f51025499</td>\n",
       "      <td>0.058301</td>\n",
       "      <td>-0.012130</td>\n",
       "      <td>0.249429</td>\n",
       "    </tr>\n",
       "    <tr>\n",
       "      <th>3</th>\n",
       "      <td>0150a428f7cc891b6a69cb7db390869c96a24f1d</td>\n",
       "      <td>0.055212</td>\n",
       "      <td>0.001141</td>\n",
       "      <td>-0.000574</td>\n",
       "    </tr>\n",
       "    <tr>\n",
       "      <th>4</th>\n",
       "      <td>0614c5d47de23d61b21be2141907668a54bf45a0</td>\n",
       "      <td>0.050523</td>\n",
       "      <td>0.036591</td>\n",
       "      <td>0.240218</td>\n",
       "    </tr>\n",
       "    <tr>\n",
       "      <th>5</th>\n",
       "      <td>06d89337caa78e3ed6e3591c9e22b8808a82c327</td>\n",
       "      <td>0.154909</td>\n",
       "      <td>0.011553</td>\n",
       "      <td>-0.430685</td>\n",
       "    </tr>\n",
       "    <tr>\n",
       "      <th>6</th>\n",
       "      <td>0773f65bc76833bddd55f0f850ded5d14bc8ab99</td>\n",
       "      <td>0.057211</td>\n",
       "      <td>0.001333</td>\n",
       "      <td>-0.145673</td>\n",
       "    </tr>\n",
       "    <tr>\n",
       "      <th>7</th>\n",
       "      <td>084a2b8c0522a36209d062d852d04bb64494ea84</td>\n",
       "      <td>0.071982</td>\n",
       "      <td>0.026287</td>\n",
       "      <td>0.121161</td>\n",
       "    </tr>\n",
       "    <tr>\n",
       "      <th>8</th>\n",
       "      <td>0aec426e98899420452f505669f36b1f47651c68</td>\n",
       "      <td>0.109897</td>\n",
       "      <td>-0.043804</td>\n",
       "      <td>-0.160636</td>\n",
       "    </tr>\n",
       "    <tr>\n",
       "      <th>9</th>\n",
       "      <td>0f50223ca3a7c1def87d95d3696719692d5d3d33</td>\n",
       "      <td>0.080221</td>\n",
       "      <td>-0.011740</td>\n",
       "      <td>0.031333</td>\n",
       "    </tr>\n",
       "  </tbody>\n",
       "</table>\n",
       "</div>"
      ],
      "text/plain": [
       "                                    user_id  TAVG_less_62  interaction  \\\n",
       "0  0038e4cc0089e5a289601a79af4b6c6f2c9efc97      0.099721    -0.037116   \n",
       "1  00e2f68ec737f7480114a67bbef7c5f65b6b8516      0.126893    -0.004936   \n",
       "2  01479a9a84e1722791f2b440f6d4f14f51025499      0.058301    -0.012130   \n",
       "3  0150a428f7cc891b6a69cb7db390869c96a24f1d      0.055212     0.001141   \n",
       "4  0614c5d47de23d61b21be2141907668a54bf45a0      0.050523     0.036591   \n",
       "5  06d89337caa78e3ed6e3591c9e22b8808a82c327      0.154909     0.011553   \n",
       "6  0773f65bc76833bddd55f0f850ded5d14bc8ab99      0.057211     0.001333   \n",
       "7  084a2b8c0522a36209d062d852d04bb64494ea84      0.071982     0.026287   \n",
       "8  0aec426e98899420452f505669f36b1f47651c68      0.109897    -0.043804   \n",
       "9  0f50223ca3a7c1def87d95d3696719692d5d3d33      0.080221    -0.011740   \n",
       "\n",
       "   intercept  \n",
       "0  -0.026744  \n",
       "1  -0.330779  \n",
       "2   0.249429  \n",
       "3  -0.000574  \n",
       "4   0.240218  \n",
       "5  -0.430685  \n",
       "6  -0.145673  \n",
       "7   0.121161  \n",
       "8  -0.160636  \n",
       "9   0.031333  "
      ]
     },
     "execution_count": 21,
     "metadata": {},
     "output_type": "execute_result"
    }
   ],
   "source": [
    "import statsmodels.api as sm\n",
    "\n",
    "\n",
    "def regress(data, yvar, xvars):\n",
    "    Y = data[yvar]\n",
    "    X = data[xvars]\n",
    "    X['intercept'] = 1.\n",
    "    result = sm.OLS(Y, X).fit(cov_type='HC1')\n",
    "    return result.params\n",
    "\n",
    "\n",
    "#This is what you need\n",
    "results=df_sac_18n19_daily_peak_w_temperature.groupby('user_id').apply(\n",
    "    regress, 'daily_total_cooling', ['TAVG_less_62','interaction']).reset_index()\n",
    "results.head(10)"
   ]
  },
  {
   "cell_type": "code",
   "execution_count": 22,
   "metadata": {
    "ExecuteTime": {
     "end_time": "2021-04-14T19:59:11.789800Z",
     "start_time": "2021-04-14T19:59:11.551746Z"
    }
   },
   "outputs": [
    {
     "data": {
      "text/plain": [
       "<matplotlib.legend.Legend at 0x222cc2389d0>"
      ]
     },
     "execution_count": 22,
     "metadata": {},
     "output_type": "execute_result"
    },
    {
     "data": {
      "image/png": "[encoded data removed]",
      "text/plain": [
       "<Figure size 1080x720 with 1 Axes>"
      ]
     },
     "metadata": {
      "needs_background": "light"
     },
     "output_type": "display_data"
    }
   ],
   "source": [
    "# x axis range\n",
    "x = range(len(results))\n",
    "plt.figure(figsize=(15,10))\n",
    "# y2\n",
    "plt.plot(x,results['TAVG_less_62'],label='coeff:TAVG_less_62')\n",
    "# y2\n",
    "plt.plot(x,results['interaction'],label='coeff:interaction')\n",
    "# y=0 line \n",
    "plt.plot(x,[0] * len(results))\n",
    "plt.legend(loc=\"upper left\")"
   ]
  },
  {
   "cell_type": "code",
   "execution_count": 23,
   "metadata": {
    "ExecuteTime": {
     "end_time": "2021-04-14T19:59:11.805804Z",
     "start_time": "2021-04-14T19:59:11.790800Z"
    }
   },
   "outputs": [
    {
     "name": "stdout",
     "output_type": "stream",
     "text": [
      "user_id         25\n",
      "TAVG_less_62    25\n",
      "interaction     25\n",
      "intercept       25\n",
      "dtype: int64\n",
      "user_id         50\n",
      "TAVG_less_62    50\n",
      "interaction     50\n",
      "intercept       50\n",
      "dtype: int64\n"
     ]
    }
   ],
   "source": [
    "print(results[results.interaction > 0.01].count())\n",
    "print(results[results.interaction < -0.01].count())"
   ]
  },
  {
   "cell_type": "code",
   "execution_count": 24,
   "metadata": {
    "ExecuteTime": {
     "end_time": "2021-04-14T19:59:11.820807Z",
     "start_time": "2021-04-14T19:59:11.806803Z"
    }
   },
   "outputs": [
    {
     "name": "stdout",
     "output_type": "stream",
     "text": [
      "0.5997255547988426\n",
      "-1.5760446518924445\n"
     ]
    }
   ],
   "source": [
    "print(results['interaction'][results.interaction > 0.01].sum())\n",
    "print(results['interaction'][results.interaction < -0.01].sum())\n",
    "# the sum of negative interaction coefficients has a larger scale"
   ]
  },
  {
   "cell_type": "code",
   "execution_count": 25,
   "metadata": {
    "ExecuteTime": {
     "end_time": "2021-04-14T19:59:11.852814Z",
     "start_time": "2021-04-14T19:59:11.822808Z"
    }
   },
   "outputs": [
    {
     "name": "stdout",
     "output_type": "stream",
     "text": [
      "                             OLS Regression Results                            \n",
      "===============================================================================\n",
      "Dep. Variable:     daily_total_cooling   R-squared:                       0.169\n",
      "Model:                             OLS   Adj. R-squared:                  0.169\n",
      "Method:                  Least Squares   F-statistic:                     3032.\n",
      "Date:                 Wed, 14 Apr 2021   Prob (F-statistic):               0.00\n",
      "Time:                         21:40:43   Log-Likelihood:                -35433.\n",
      "No. Observations:                28431   AIC:                         7.087e+04\n",
      "Df Residuals:                    28428   BIC:                         7.090e+04\n",
      "Df Model:                            2                                         \n",
      "Covariance Type:                   HC1                                         \n",
      "================================================================================\n",
      "                   coef    std err          z      P>|z|      [0.025      0.975]\n",
      "--------------------------------------------------------------------------------\n",
      "TAVG_less_62     0.0800      0.001     68.805      0.000       0.078       0.082\n",
      "interaction     -0.0083      0.001     -8.743      0.000      -0.010      -0.006\n",
      "const            0.1307      0.010     13.091      0.000       0.111       0.150\n",
      "==============================================================================\n",
      "Omnibus:                     1176.303   Durbin-Watson:                   0.685\n",
      "Prob(Omnibus):                  0.000   Jarque-Bera (JB):             1238.138\n",
      "Skew:                           0.486   Prob(JB):                    1.39e-269\n",
      "Kurtosis:                       2.685   Cond. No.                         33.1\n",
      "==============================================================================\n",
      "\n",
      "Notes:\n",
      "[1] Standard Errors are heteroscedasticity robust (HC1)\n"
     ]
    }
   ],
   "source": [
    "df_sac_18n19_daily_peak_w_temperature['const']=1\n",
    "reg1 = sm.OLS(endog=df_sac_18n19_daily_peak_w_temperature['daily_total_cooling'], \\\n",
    "              exog=df_sac_18n19_daily_peak_w_temperature[['TAVG_less_62','interaction','const']], \\\n",
    "    missing='drop')\n",
    "reg_result = reg1.fit(cov_type='HC1')\n",
    "print(reg_result.summary())\n",
    "#Peak Hours: 5pm to 8pm\n",
    "#2019 consumption LOWERED by peak pricing, -10.375%"
   ]
  },
  {
   "cell_type": "code",
   "execution_count": 26,
   "metadata": {
    "ExecuteTime": {
     "end_time": "2021-04-14T20:19:37.691747Z",
     "start_time": "2021-04-14T20:19:37.679744Z"
    }
   },
   "outputs": [
    {
     "data": {
      "text/plain": [
       "117"
      ]
     },
     "execution_count": 26,
     "metadata": {},
     "output_type": "execute_result"
    }
   ],
   "source": [
    "df_sac_18n19_daily_peak.user_id.nunique()"
   ]
  },
  {
   "cell_type": "markdown",
   "metadata": {},
   "source": [
    "# Peak Hours: 2019 consumption LOWERED by peak pricing, -10.375%\n",
    "y variable: Total hours AC running for cooling\n",
    "X variables: (T-62)"
   ]
  },
  {
   "cell_type": "code",
   "execution_count": null,
   "metadata": {},
   "outputs": [],
   "source": []
  },
  {
   "cell_type": "code",
   "execution_count": null,
   "metadata": {},
   "outputs": [],
   "source": []
  }
 ],
 "metadata": {
  "kernelspec": {
   "display_name": "Python 3",
   "language": "python",
   "name": "python3"
  },
  "language_info": {
   "codemirror_mode": {
    "name": "ipython",
    "version": 3
   },
   "file_extension": ".py",
   "mimetype": "text/x-python",
   "name": "python",
   "nbconvert_exporter": "python",
   "pygments_lexer": "ipython3",
   "version": "3.8.5"
  },
  "varInspector": {
   "cols": {
    "lenName": 16,
    "lenType": 16,
    "lenVar": 40
   },
   "kernels_config": {
    "python": {
     "delete_cmd_postfix": "",
     "delete_cmd_prefix": "del ",
     "library": "var_list.py",
     "varRefreshCmd": "print(var_dic_list())"
    },
    "r": {
     "delete_cmd_postfix": ") ",
     "delete_cmd_prefix": "rm(",
     "library": "var_list.r",
     "varRefreshCmd": "cat(var_dic_list()) "
    }
   },
   "types_to_exclude": [
    "module",
    "function",
    "builtin_function_or_method",
    "instance",
    "_Feature"
   ],
   "window_display": false
  }
 },
 "nbformat": 4,
 "nbformat_minor": 4
}
