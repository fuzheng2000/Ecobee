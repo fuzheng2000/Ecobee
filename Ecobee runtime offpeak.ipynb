{
 "cells": [
  {
   "cell_type": "code",
   "execution_count": 2,
   "metadata": {
    "ExecuteTime": {
     "end_time": "2021-04-14T20:52:17.072990Z",
     "start_time": "2021-04-14T20:52:17.037981Z"
    }
   },
   "outputs": [],
   "source": [
    "import warnings\n",
    "warnings.simplefilter('ignore')\n",
    "\n",
    "import numpy as np\n",
    "import pandas as pd\n",
    "import seaborn as sns\n",
    "import matplotlib.pyplot as plt\n",
    "import os\n",
    "\n",
    "\n",
    "import graphviz\n",
    "from sklearn import tree\n",
    "from sklearn.tree import DecisionTreeClassifier\n",
    "from sklearn.preprocessing import LabelEncoder\n",
    "\n",
    "%matplotlib inline"
   ]
  },
  {
   "cell_type": "code",
   "execution_count": 3,
   "metadata": {
    "ExecuteTime": {
     "end_time": "2021-04-14T20:52:17.088993Z",
     "start_time": "2021-04-14T20:52:17.073990Z"
    }
   },
   "outputs": [],
   "source": [
    "# directory_19 = r'F:\\Ecobee\\files\\2019_sac'\n",
    "# for filename in os.listdir(directory_19):\n",
    "#     if filename.endswith(\".zip\"):\n",
    "#         print(os.path.join(directory_19, filename))\n",
    "#     else:\n",
    "#         continue"
   ]
  },
  {
   "cell_type": "code",
   "execution_count": 4,
   "metadata": {
    "ExecuteTime": {
     "end_time": "2021-04-14T20:53:15.765132Z",
     "start_time": "2021-04-14T20:52:17.089994Z"
    }
   },
   "outputs": [],
   "source": [
    "from zipfile import ZipFile\n",
    "directory_18 = r'F:\\Ecobee\\files\\2018_sac'\n",
    "df_sac_18_daily_nonpeak = pd.DataFrame()\n",
    "import datetime\n",
    "for filename in os.listdir(directory_18):\n",
    "    myzip = ZipFile(os.path.join(directory_18, filename))\n",
    "    g = myzip.open(filename[:-4])\n",
    "    df_temp = pd.read_csv(g, parse_dates=['DateTime'])\n",
    "    df_temp1 = pd.get_dummies(df_temp, columns=['HvacMode'])\n",
    "    df_temp1['Date'] = df_temp1['DateTime'].dt.date\n",
    "    df_temp1['user_id'] = filename[:-8]\n",
    "    df_temp1 = df_temp1[(df_temp1['DateTime'].dt.hour >= 0) &\n",
    "                        (df_temp1['DateTime'].dt.hour < 12) &\n",
    "                        (df_temp1['DateTime'].dt.month >= 6) &\n",
    "                        (df_temp1['DateTime'].dt.month <=\n",
    "                         9)]  #summer days only\n",
    "    df_day = df_temp1.groupby([df_temp1['Date']]).agg(\n",
    "        daily_total_heating=pd.NamedAgg(column='auxHeat1', aggfunc=sum),\n",
    "        daily_total_cooling=pd.NamedAgg(column='compCool1', aggfunc=sum),\n",
    "        user_id=pd.NamedAgg(column='user_id', aggfunc=min)).reset_index()\n",
    "    df_day['daily_total_heating'] = df_day['daily_total_heating'] / 3600\n",
    "    df_day['daily_total_cooling'] = df_day['daily_total_cooling'] / 3600\n",
    "    df_sac_18_daily_nonpeak = pd.concat([df_sac_18_daily_nonpeak, df_day])\n",
    "    g.close()\n",
    "    myzip.close()"
   ]
  },
  {
   "cell_type": "code",
   "execution_count": 5,
   "metadata": {
    "ExecuteTime": {
     "end_time": "2021-04-14T20:53:15.781135Z",
     "start_time": "2021-04-14T20:53:15.766132Z"
    }
   },
   "outputs": [
    {
     "name": "stdout",
     "output_type": "stream",
     "text": [
      "<class 'pandas.core.frame.DataFrame'>\n",
      "Int64Index: 21189 entries, 0 to 121\n",
      "Data columns (total 4 columns):\n",
      " #   Column               Non-Null Count  Dtype  \n",
      "---  ------               --------------  -----  \n",
      " 0   Date                 21189 non-null  object \n",
      " 1   daily_total_heating  21189 non-null  float64\n",
      " 2   daily_total_cooling  21189 non-null  float64\n",
      " 3   user_id              21189 non-null  object \n",
      "dtypes: float64(2), object(2)\n",
      "memory usage: 827.7+ KB\n"
     ]
    }
   ],
   "source": [
    "df_sac_18_daily_nonpeak.info()"
   ]
  },
  {
   "cell_type": "code",
   "execution_count": 6,
   "metadata": {
    "ExecuteTime": {
     "end_time": "2021-04-14T20:53:15.797139Z",
     "start_time": "2021-04-14T20:53:15.782136Z"
    }
   },
   "outputs": [],
   "source": [
    "# pd.set_option('display.max_rows', None)\n",
    "# #remove user_ids that have no cooling consumption at all for 2018\n",
    "# df_18_temp=df_sac_18_daily_nonpeak[['user_id', 'daily_total_cooling']].groupby('user_id').max().reset_index()\n",
    "# df_18_temp['any_usage']=(df_18_temp.daily_total_cooling>0)\n",
    "# df_18_temp=df_18_temp['user_id'][df_18_temp['any_usage']==True]\n",
    "# df_sac_18_daily_nonpeak=pd.merge(df_18_temp,df_sac_18_daily_nonpeak,how='left', on='user_id')\n"
   ]
  },
  {
   "cell_type": "code",
   "execution_count": 7,
   "metadata": {
    "ExecuteTime": {
     "end_time": "2021-04-14T20:53:15.813142Z",
     "start_time": "2021-04-14T20:53:15.798140Z"
    }
   },
   "outputs": [
    {
     "data": {
      "text/html": [
       "<div>\n",
       "<style scoped>\n",
       "    .dataframe tbody tr th:only-of-type {\n",
       "        vertical-align: middle;\n",
       "    }\n",
       "\n",
       "    .dataframe tbody tr th {\n",
       "        vertical-align: top;\n",
       "    }\n",
       "\n",
       "    .dataframe thead th {\n",
       "        text-align: right;\n",
       "    }\n",
       "</style>\n",
       "<table border=\"1\" class=\"dataframe\">\n",
       "  <thead>\n",
       "    <tr style=\"text-align: right;\">\n",
       "      <th></th>\n",
       "      <th>Date</th>\n",
       "      <th>daily_total_heating</th>\n",
       "      <th>daily_total_cooling</th>\n",
       "      <th>user_id</th>\n",
       "    </tr>\n",
       "  </thead>\n",
       "  <tbody>\n",
       "    <tr>\n",
       "      <th>0</th>\n",
       "      <td>2018-06-01</td>\n",
       "      <td>0.0</td>\n",
       "      <td>0.000000</td>\n",
       "      <td>0038e4cc0089e5a289601a79af4b6c6f2c9efc97</td>\n",
       "    </tr>\n",
       "    <tr>\n",
       "      <th>1</th>\n",
       "      <td>2018-06-02</td>\n",
       "      <td>0.0</td>\n",
       "      <td>0.162500</td>\n",
       "      <td>0038e4cc0089e5a289601a79af4b6c6f2c9efc97</td>\n",
       "    </tr>\n",
       "    <tr>\n",
       "      <th>2</th>\n",
       "      <td>2018-06-03</td>\n",
       "      <td>0.0</td>\n",
       "      <td>0.845833</td>\n",
       "      <td>0038e4cc0089e5a289601a79af4b6c6f2c9efc97</td>\n",
       "    </tr>\n",
       "    <tr>\n",
       "      <th>3</th>\n",
       "      <td>2018-06-04</td>\n",
       "      <td>0.0</td>\n",
       "      <td>1.654167</td>\n",
       "      <td>0038e4cc0089e5a289601a79af4b6c6f2c9efc97</td>\n",
       "    </tr>\n",
       "    <tr>\n",
       "      <th>4</th>\n",
       "      <td>2018-06-05</td>\n",
       "      <td>0.0</td>\n",
       "      <td>0.308333</td>\n",
       "      <td>0038e4cc0089e5a289601a79af4b6c6f2c9efc97</td>\n",
       "    </tr>\n",
       "  </tbody>\n",
       "</table>\n",
       "</div>"
      ],
      "text/plain": [
       "         Date  daily_total_heating  daily_total_cooling  \\\n",
       "0  2018-06-01                  0.0             0.000000   \n",
       "1  2018-06-02                  0.0             0.162500   \n",
       "2  2018-06-03                  0.0             0.845833   \n",
       "3  2018-06-04                  0.0             1.654167   \n",
       "4  2018-06-05                  0.0             0.308333   \n",
       "\n",
       "                                    user_id  \n",
       "0  0038e4cc0089e5a289601a79af4b6c6f2c9efc97  \n",
       "1  0038e4cc0089e5a289601a79af4b6c6f2c9efc97  \n",
       "2  0038e4cc0089e5a289601a79af4b6c6f2c9efc97  \n",
       "3  0038e4cc0089e5a289601a79af4b6c6f2c9efc97  \n",
       "4  0038e4cc0089e5a289601a79af4b6c6f2c9efc97  "
      ]
     },
     "execution_count": 7,
     "metadata": {},
     "output_type": "execute_result"
    }
   ],
   "source": [
    "df_sac_18_daily_nonpeak.head()"
   ]
  },
  {
   "cell_type": "code",
   "execution_count": 8,
   "metadata": {
    "ExecuteTime": {
     "end_time": "2021-04-14T20:55:18.779592Z",
     "start_time": "2021-04-14T20:53:15.814143Z"
    }
   },
   "outputs": [],
   "source": [
    "from zipfile import ZipFile\n",
    "directory_19 = r'F:\\Ecobee\\files\\2019_sac'\n",
    "df_sac_19_daily_nonpeak = pd.DataFrame()\n",
    "import datetime\n",
    "for filename in os.listdir(directory_19):\n",
    "    myzip = ZipFile(os.path.join(directory_19, filename))\n",
    "    f = myzip.open(filename[:-4])\n",
    "    df_temp = pd.read_csv(f, parse_dates=['DateTime'])\n",
    "    df_temp1 = pd.get_dummies(df_temp, columns=['HvacMode'])\n",
    "    df_temp1['Date'] = df_temp1['DateTime'].dt.date\n",
    "    df_temp1['user_id'] = filename[:-8]\n",
    "    df_temp1 = df_temp1[(df_temp1['DateTime'].dt.hour >= 0) &\n",
    "                        (df_temp1['DateTime'].dt.hour < 12) &\n",
    "                        (df_temp1['DateTime'].dt.month >= 6) &\n",
    "                        (df_temp1['DateTime'].dt.month <=\n",
    "                         9)]  #summer days only\n",
    "    df_day = df_temp1.groupby([df_temp1['Date']]).agg(\n",
    "        daily_total_heating=pd.NamedAgg(column='auxHeat1', aggfunc=sum),\n",
    "        daily_total_cooling=pd.NamedAgg(column='compCool1', aggfunc=sum),\n",
    "        user_id=pd.NamedAgg(column='user_id', aggfunc=min)).reset_index()\n",
    "    df_day['daily_total_heating'] = df_day['daily_total_heating'] / 3600\n",
    "    df_day['daily_total_cooling'] = df_day['daily_total_cooling'] / 3600\n",
    "    df_sac_19_daily_nonpeak = pd.concat([df_sac_19_daily_nonpeak, df_day])\n",
    "    f.close()\n",
    "    myzip.close()"
   ]
  },
  {
   "cell_type": "code",
   "execution_count": 9,
   "metadata": {
    "ExecuteTime": {
     "end_time": "2021-04-14T20:55:18.795596Z",
     "start_time": "2021-04-14T20:55:18.781593Z"
    }
   },
   "outputs": [
    {
     "data": {
      "text/html": [
       "<div>\n",
       "<style scoped>\n",
       "    .dataframe tbody tr th:only-of-type {\n",
       "        vertical-align: middle;\n",
       "    }\n",
       "\n",
       "    .dataframe tbody tr th {\n",
       "        vertical-align: top;\n",
       "    }\n",
       "\n",
       "    .dataframe thead th {\n",
       "        text-align: right;\n",
       "    }\n",
       "</style>\n",
       "<table border=\"1\" class=\"dataframe\">\n",
       "  <thead>\n",
       "    <tr style=\"text-align: right;\">\n",
       "      <th></th>\n",
       "      <th>Date</th>\n",
       "      <th>daily_total_heating</th>\n",
       "      <th>daily_total_cooling</th>\n",
       "      <th>user_id</th>\n",
       "    </tr>\n",
       "  </thead>\n",
       "  <tbody>\n",
       "    <tr>\n",
       "      <th>0</th>\n",
       "      <td>2019-06-01</td>\n",
       "      <td>0.0</td>\n",
       "      <td>0.0</td>\n",
       "      <td>0038e4cc0089e5a289601a79af4b6c6f2c9efc97</td>\n",
       "    </tr>\n",
       "    <tr>\n",
       "      <th>1</th>\n",
       "      <td>2019-06-02</td>\n",
       "      <td>0.0</td>\n",
       "      <td>0.0</td>\n",
       "      <td>0038e4cc0089e5a289601a79af4b6c6f2c9efc97</td>\n",
       "    </tr>\n",
       "    <tr>\n",
       "      <th>2</th>\n",
       "      <td>2019-06-03</td>\n",
       "      <td>0.0</td>\n",
       "      <td>0.0</td>\n",
       "      <td>0038e4cc0089e5a289601a79af4b6c6f2c9efc97</td>\n",
       "    </tr>\n",
       "    <tr>\n",
       "      <th>3</th>\n",
       "      <td>2019-06-04</td>\n",
       "      <td>0.0</td>\n",
       "      <td>0.0</td>\n",
       "      <td>0038e4cc0089e5a289601a79af4b6c6f2c9efc97</td>\n",
       "    </tr>\n",
       "    <tr>\n",
       "      <th>4</th>\n",
       "      <td>2019-06-05</td>\n",
       "      <td>0.0</td>\n",
       "      <td>0.0</td>\n",
       "      <td>0038e4cc0089e5a289601a79af4b6c6f2c9efc97</td>\n",
       "    </tr>\n",
       "  </tbody>\n",
       "</table>\n",
       "</div>"
      ],
      "text/plain": [
       "         Date  daily_total_heating  daily_total_cooling  \\\n",
       "0  2019-06-01                  0.0                  0.0   \n",
       "1  2019-06-02                  0.0                  0.0   \n",
       "2  2019-06-03                  0.0                  0.0   \n",
       "3  2019-06-04                  0.0                  0.0   \n",
       "4  2019-06-05                  0.0                  0.0   \n",
       "\n",
       "                                    user_id  \n",
       "0  0038e4cc0089e5a289601a79af4b6c6f2c9efc97  \n",
       "1  0038e4cc0089e5a289601a79af4b6c6f2c9efc97  \n",
       "2  0038e4cc0089e5a289601a79af4b6c6f2c9efc97  \n",
       "3  0038e4cc0089e5a289601a79af4b6c6f2c9efc97  \n",
       "4  0038e4cc0089e5a289601a79af4b6c6f2c9efc97  "
      ]
     },
     "execution_count": 9,
     "metadata": {},
     "output_type": "execute_result"
    }
   ],
   "source": [
    "df_sac_19_daily_nonpeak.head()"
   ]
  },
  {
   "cell_type": "code",
   "execution_count": 10,
   "metadata": {
    "ExecuteTime": {
     "end_time": "2021-04-14T20:55:18.827603Z",
     "start_time": "2021-04-14T20:55:18.797596Z"
    }
   },
   "outputs": [],
   "source": [
    "pd.set_option('display.max_rows', None)\n",
    "#remove user_ids that have no cooling consumption at all for 2019\n",
    "df_19_temp=df_sac_19_daily_nonpeak[['user_id', 'daily_total_cooling']].groupby('user_id').max().reset_index()\n",
    "df_19_temp['any_usage']=(df_19_temp.daily_total_cooling>0)\n",
    "df_19_temp=df_19_temp['user_id'][df_19_temp['any_usage']==True]\n",
    "df_sac_19_daily_nonpeak=pd.merge(df_19_temp,df_sac_19_daily_nonpeak,how='left', on='user_id')"
   ]
  },
  {
   "cell_type": "code",
   "execution_count": 11,
   "metadata": {
    "ExecuteTime": {
     "end_time": "2021-04-14T20:55:18.907622Z",
     "start_time": "2021-04-14T20:55:18.828603Z"
    }
   },
   "outputs": [
    {
     "data": {
      "text/html": [
       "<div>\n",
       "<style scoped>\n",
       "    .dataframe tbody tr th:only-of-type {\n",
       "        vertical-align: middle;\n",
       "    }\n",
       "\n",
       "    .dataframe tbody tr th {\n",
       "        vertical-align: top;\n",
       "    }\n",
       "\n",
       "    .dataframe thead th {\n",
       "        text-align: right;\n",
       "    }\n",
       "</style>\n",
       "<table border=\"1\" class=\"dataframe\">\n",
       "  <thead>\n",
       "    <tr style=\"text-align: right;\">\n",
       "      <th></th>\n",
       "      <th>user_id</th>\n",
       "      <th>Date</th>\n",
       "      <th>daily_total_heating</th>\n",
       "      <th>daily_total_cooling</th>\n",
       "    </tr>\n",
       "  </thead>\n",
       "  <tbody>\n",
       "    <tr>\n",
       "      <th>0</th>\n",
       "      <td>0038e4cc0089e5a289601a79af4b6c6f2c9efc97</td>\n",
       "      <td>2019-06-01</td>\n",
       "      <td>0.0</td>\n",
       "      <td>0.0</td>\n",
       "    </tr>\n",
       "    <tr>\n",
       "      <th>1</th>\n",
       "      <td>0038e4cc0089e5a289601a79af4b6c6f2c9efc97</td>\n",
       "      <td>2019-06-02</td>\n",
       "      <td>0.0</td>\n",
       "      <td>0.0</td>\n",
       "    </tr>\n",
       "    <tr>\n",
       "      <th>2</th>\n",
       "      <td>0038e4cc0089e5a289601a79af4b6c6f2c9efc97</td>\n",
       "      <td>2019-06-03</td>\n",
       "      <td>0.0</td>\n",
       "      <td>0.0</td>\n",
       "    </tr>\n",
       "    <tr>\n",
       "      <th>3</th>\n",
       "      <td>0038e4cc0089e5a289601a79af4b6c6f2c9efc97</td>\n",
       "      <td>2019-06-04</td>\n",
       "      <td>0.0</td>\n",
       "      <td>0.0</td>\n",
       "    </tr>\n",
       "    <tr>\n",
       "      <th>4</th>\n",
       "      <td>0038e4cc0089e5a289601a79af4b6c6f2c9efc97</td>\n",
       "      <td>2019-06-05</td>\n",
       "      <td>0.0</td>\n",
       "      <td>0.0</td>\n",
       "    </tr>\n",
       "  </tbody>\n",
       "</table>\n",
       "</div>"
      ],
      "text/plain": [
       "                                    user_id        Date  daily_total_heating  \\\n",
       "0  0038e4cc0089e5a289601a79af4b6c6f2c9efc97  2019-06-01                  0.0   \n",
       "1  0038e4cc0089e5a289601a79af4b6c6f2c9efc97  2019-06-02                  0.0   \n",
       "2  0038e4cc0089e5a289601a79af4b6c6f2c9efc97  2019-06-03                  0.0   \n",
       "3  0038e4cc0089e5a289601a79af4b6c6f2c9efc97  2019-06-04                  0.0   \n",
       "4  0038e4cc0089e5a289601a79af4b6c6f2c9efc97  2019-06-05                  0.0   \n",
       "\n",
       "   daily_total_cooling  \n",
       "0                  0.0  \n",
       "1                  0.0  \n",
       "2                  0.0  \n",
       "3                  0.0  \n",
       "4                  0.0  "
      ]
     },
     "execution_count": 11,
     "metadata": {},
     "output_type": "execute_result"
    }
   ],
   "source": [
    "df_sac_19_daily_nonpeak.head()"
   ]
  },
  {
   "cell_type": "code",
   "execution_count": 12,
   "metadata": {
    "ExecuteTime": {
     "end_time": "2021-04-14T20:55:18.923625Z",
     "start_time": "2021-04-14T20:55:18.908622Z"
    }
   },
   "outputs": [
    {
     "data": {
      "text/html": [
       "<div>\n",
       "<style scoped>\n",
       "    .dataframe tbody tr th:only-of-type {\n",
       "        vertical-align: middle;\n",
       "    }\n",
       "\n",
       "    .dataframe tbody tr th {\n",
       "        vertical-align: top;\n",
       "    }\n",
       "\n",
       "    .dataframe thead th {\n",
       "        text-align: right;\n",
       "    }\n",
       "</style>\n",
       "<table border=\"1\" class=\"dataframe\">\n",
       "  <thead>\n",
       "    <tr style=\"text-align: right;\">\n",
       "      <th></th>\n",
       "      <th>Date</th>\n",
       "      <th>daily_total_heating</th>\n",
       "      <th>daily_total_cooling</th>\n",
       "      <th>user_id</th>\n",
       "    </tr>\n",
       "  </thead>\n",
       "  <tbody>\n",
       "    <tr>\n",
       "      <th>0</th>\n",
       "      <td>2018-06-01</td>\n",
       "      <td>0.0</td>\n",
       "      <td>0.000000</td>\n",
       "      <td>0038e4cc0089e5a289601a79af4b6c6f2c9efc97</td>\n",
       "    </tr>\n",
       "    <tr>\n",
       "      <th>1</th>\n",
       "      <td>2018-06-02</td>\n",
       "      <td>0.0</td>\n",
       "      <td>0.162500</td>\n",
       "      <td>0038e4cc0089e5a289601a79af4b6c6f2c9efc97</td>\n",
       "    </tr>\n",
       "    <tr>\n",
       "      <th>2</th>\n",
       "      <td>2018-06-03</td>\n",
       "      <td>0.0</td>\n",
       "      <td>0.845833</td>\n",
       "      <td>0038e4cc0089e5a289601a79af4b6c6f2c9efc97</td>\n",
       "    </tr>\n",
       "    <tr>\n",
       "      <th>3</th>\n",
       "      <td>2018-06-04</td>\n",
       "      <td>0.0</td>\n",
       "      <td>1.654167</td>\n",
       "      <td>0038e4cc0089e5a289601a79af4b6c6f2c9efc97</td>\n",
       "    </tr>\n",
       "    <tr>\n",
       "      <th>4</th>\n",
       "      <td>2018-06-05</td>\n",
       "      <td>0.0</td>\n",
       "      <td>0.308333</td>\n",
       "      <td>0038e4cc0089e5a289601a79af4b6c6f2c9efc97</td>\n",
       "    </tr>\n",
       "  </tbody>\n",
       "</table>\n",
       "</div>"
      ],
      "text/plain": [
       "         Date  daily_total_heating  daily_total_cooling  \\\n",
       "0  2018-06-01                  0.0             0.000000   \n",
       "1  2018-06-02                  0.0             0.162500   \n",
       "2  2018-06-03                  0.0             0.845833   \n",
       "3  2018-06-04                  0.0             1.654167   \n",
       "4  2018-06-05                  0.0             0.308333   \n",
       "\n",
       "                                    user_id  \n",
       "0  0038e4cc0089e5a289601a79af4b6c6f2c9efc97  \n",
       "1  0038e4cc0089e5a289601a79af4b6c6f2c9efc97  \n",
       "2  0038e4cc0089e5a289601a79af4b6c6f2c9efc97  \n",
       "3  0038e4cc0089e5a289601a79af4b6c6f2c9efc97  \n",
       "4  0038e4cc0089e5a289601a79af4b6c6f2c9efc97  "
      ]
     },
     "execution_count": 12,
     "metadata": {},
     "output_type": "execute_result"
    }
   ],
   "source": [
    "df_sac_18n19_daily_nonpeak=pd.concat([df_sac_18_daily_nonpeak,df_sac_19_daily_nonpeak])\n",
    "df_sac_18n19_daily_nonpeak.head()"
   ]
  },
  {
   "cell_type": "code",
   "execution_count": 13,
   "metadata": {
    "ExecuteTime": {
     "end_time": "2021-04-14T20:55:18.939628Z",
     "start_time": "2021-04-14T20:55:18.924624Z"
    }
   },
   "outputs": [
    {
     "data": {
      "text/plain": [
       "243    28431\n",
       "121    16335\n",
       "122     3538\n",
       "242     1694\n",
       "241     1687\n",
       "222     1332\n",
       "236      708\n",
       "240      480\n",
       "239      478\n",
       "238      476\n",
       "Name: count, dtype: int64"
      ]
     },
     "execution_count": 13,
     "metadata": {},
     "output_type": "execute_result"
    }
   ],
   "source": [
    "df_sac_18n19_daily_nonpeak['count'] = df_sac_18n19_daily_nonpeak.groupby('user_id')['user_id'].transform('count')\n",
    "df_sac_18n19_daily_nonpeak['count'].value_counts(sort=True, ascending=False).head(10)"
   ]
  },
  {
   "cell_type": "code",
   "execution_count": 14,
   "metadata": {
    "ExecuteTime": {
     "end_time": "2021-04-14T20:55:18.955632Z",
     "start_time": "2021-04-14T20:55:18.940628Z"
    }
   },
   "outputs": [
    {
     "data": {
      "text/html": [
       "<div>\n",
       "<style scoped>\n",
       "    .dataframe tbody tr th:only-of-type {\n",
       "        vertical-align: middle;\n",
       "    }\n",
       "\n",
       "    .dataframe tbody tr th {\n",
       "        vertical-align: top;\n",
       "    }\n",
       "\n",
       "    .dataframe thead th {\n",
       "        text-align: right;\n",
       "    }\n",
       "</style>\n",
       "<table border=\"1\" class=\"dataframe\">\n",
       "  <thead>\n",
       "    <tr style=\"text-align: right;\">\n",
       "      <th></th>\n",
       "      <th>Date</th>\n",
       "      <th>daily_total_heating</th>\n",
       "      <th>daily_total_cooling</th>\n",
       "      <th>user_id</th>\n",
       "      <th>count</th>\n",
       "    </tr>\n",
       "  </thead>\n",
       "  <tbody>\n",
       "    <tr>\n",
       "      <th>0</th>\n",
       "      <td>2018-06-01</td>\n",
       "      <td>0.0</td>\n",
       "      <td>0.000000</td>\n",
       "      <td>0038e4cc0089e5a289601a79af4b6c6f2c9efc97</td>\n",
       "      <td>243</td>\n",
       "    </tr>\n",
       "    <tr>\n",
       "      <th>1</th>\n",
       "      <td>2018-06-02</td>\n",
       "      <td>0.0</td>\n",
       "      <td>0.162500</td>\n",
       "      <td>0038e4cc0089e5a289601a79af4b6c6f2c9efc97</td>\n",
       "      <td>243</td>\n",
       "    </tr>\n",
       "    <tr>\n",
       "      <th>2</th>\n",
       "      <td>2018-06-03</td>\n",
       "      <td>0.0</td>\n",
       "      <td>0.845833</td>\n",
       "      <td>0038e4cc0089e5a289601a79af4b6c6f2c9efc97</td>\n",
       "      <td>243</td>\n",
       "    </tr>\n",
       "    <tr>\n",
       "      <th>3</th>\n",
       "      <td>2018-06-04</td>\n",
       "      <td>0.0</td>\n",
       "      <td>1.654167</td>\n",
       "      <td>0038e4cc0089e5a289601a79af4b6c6f2c9efc97</td>\n",
       "      <td>243</td>\n",
       "    </tr>\n",
       "    <tr>\n",
       "      <th>4</th>\n",
       "      <td>2018-06-05</td>\n",
       "      <td>0.0</td>\n",
       "      <td>0.308333</td>\n",
       "      <td>0038e4cc0089e5a289601a79af4b6c6f2c9efc97</td>\n",
       "      <td>243</td>\n",
       "    </tr>\n",
       "  </tbody>\n",
       "</table>\n",
       "</div>"
      ],
      "text/plain": [
       "         Date  daily_total_heating  daily_total_cooling  \\\n",
       "0  2018-06-01                  0.0             0.000000   \n",
       "1  2018-06-02                  0.0             0.162500   \n",
       "2  2018-06-03                  0.0             0.845833   \n",
       "3  2018-06-04                  0.0             1.654167   \n",
       "4  2018-06-05                  0.0             0.308333   \n",
       "\n",
       "                                    user_id  count  \n",
       "0  0038e4cc0089e5a289601a79af4b6c6f2c9efc97    243  \n",
       "1  0038e4cc0089e5a289601a79af4b6c6f2c9efc97    243  \n",
       "2  0038e4cc0089e5a289601a79af4b6c6f2c9efc97    243  \n",
       "3  0038e4cc0089e5a289601a79af4b6c6f2c9efc97    243  \n",
       "4  0038e4cc0089e5a289601a79af4b6c6f2c9efc97    243  "
      ]
     },
     "execution_count": 14,
     "metadata": {},
     "output_type": "execute_result"
    }
   ],
   "source": [
    "df_sac_18n19_daily_nonpeak.head()"
   ]
  },
  {
   "cell_type": "code",
   "execution_count": 15,
   "metadata": {
    "ExecuteTime": {
     "end_time": "2021-04-14T20:55:18.986639Z",
     "start_time": "2021-04-14T20:55:18.956632Z"
    }
   },
   "outputs": [
    {
     "data": {
      "text/html": [
       "<div>\n",
       "<style scoped>\n",
       "    .dataframe tbody tr th:only-of-type {\n",
       "        vertical-align: middle;\n",
       "    }\n",
       "\n",
       "    .dataframe tbody tr th {\n",
       "        vertical-align: top;\n",
       "    }\n",
       "\n",
       "    .dataframe thead th {\n",
       "        text-align: right;\n",
       "    }\n",
       "</style>\n",
       "<table border=\"1\" class=\"dataframe\">\n",
       "  <thead>\n",
       "    <tr style=\"text-align: right;\">\n",
       "      <th></th>\n",
       "      <th>Date</th>\n",
       "      <th>daily_total_heating</th>\n",
       "      <th>daily_total_cooling</th>\n",
       "      <th>user_id</th>\n",
       "      <th>count</th>\n",
       "    </tr>\n",
       "  </thead>\n",
       "  <tbody>\n",
       "    <tr>\n",
       "      <th>0</th>\n",
       "      <td>2018-06-01</td>\n",
       "      <td>0.0</td>\n",
       "      <td>0.000000</td>\n",
       "      <td>0038e4cc0089e5a289601a79af4b6c6f2c9efc97</td>\n",
       "      <td>243</td>\n",
       "    </tr>\n",
       "    <tr>\n",
       "      <th>1</th>\n",
       "      <td>2018-06-02</td>\n",
       "      <td>0.0</td>\n",
       "      <td>0.162500</td>\n",
       "      <td>0038e4cc0089e5a289601a79af4b6c6f2c9efc97</td>\n",
       "      <td>243</td>\n",
       "    </tr>\n",
       "    <tr>\n",
       "      <th>2</th>\n",
       "      <td>2018-06-03</td>\n",
       "      <td>0.0</td>\n",
       "      <td>0.845833</td>\n",
       "      <td>0038e4cc0089e5a289601a79af4b6c6f2c9efc97</td>\n",
       "      <td>243</td>\n",
       "    </tr>\n",
       "    <tr>\n",
       "      <th>3</th>\n",
       "      <td>2018-06-04</td>\n",
       "      <td>0.0</td>\n",
       "      <td>1.654167</td>\n",
       "      <td>0038e4cc0089e5a289601a79af4b6c6f2c9efc97</td>\n",
       "      <td>243</td>\n",
       "    </tr>\n",
       "    <tr>\n",
       "      <th>4</th>\n",
       "      <td>2018-06-05</td>\n",
       "      <td>0.0</td>\n",
       "      <td>0.308333</td>\n",
       "      <td>0038e4cc0089e5a289601a79af4b6c6f2c9efc97</td>\n",
       "      <td>243</td>\n",
       "    </tr>\n",
       "  </tbody>\n",
       "</table>\n",
       "</div>"
      ],
      "text/plain": [
       "        Date  daily_total_heating  daily_total_cooling  \\\n",
       "0 2018-06-01                  0.0             0.000000   \n",
       "1 2018-06-02                  0.0             0.162500   \n",
       "2 2018-06-03                  0.0             0.845833   \n",
       "3 2018-06-04                  0.0             1.654167   \n",
       "4 2018-06-05                  0.0             0.308333   \n",
       "\n",
       "                                    user_id  count  \n",
       "0  0038e4cc0089e5a289601a79af4b6c6f2c9efc97    243  \n",
       "1  0038e4cc0089e5a289601a79af4b6c6f2c9efc97    243  \n",
       "2  0038e4cc0089e5a289601a79af4b6c6f2c9efc97    243  \n",
       "3  0038e4cc0089e5a289601a79af4b6c6f2c9efc97    243  \n",
       "4  0038e4cc0089e5a289601a79af4b6c6f2c9efc97    243  "
      ]
     },
     "execution_count": 15,
     "metadata": {},
     "output_type": "execute_result"
    }
   ],
   "source": [
    "df_sac_18n19_daily_nonpeak=df_sac_18n19_daily_nonpeak[df_sac_18n19_daily_nonpeak['count']>=241]\n",
    "df_sac_18n19_daily_nonpeak['Date']=pd.to_datetime(df_sac_18n19_daily_nonpeak['Date'])\n",
    "df_sac_18n19_daily_nonpeak.head()"
   ]
  },
  {
   "cell_type": "code",
   "execution_count": 16,
   "metadata": {
    "ExecuteTime": {
     "end_time": "2021-04-14T20:55:19.002642Z",
     "start_time": "2021-04-14T20:55:18.987640Z"
    }
   },
   "outputs": [
    {
     "data": {
      "text/plain": [
       "131"
      ]
     },
     "execution_count": 16,
     "metadata": {},
     "output_type": "execute_result"
    }
   ],
   "source": [
    "df_sac_18n19_daily_nonpeak.user_id.nunique()"
   ]
  },
  {
   "cell_type": "code",
   "execution_count": 17,
   "metadata": {
    "ExecuteTime": {
     "end_time": "2021-04-14T20:55:19.018646Z",
     "start_time": "2021-04-14T20:55:19.003644Z"
    }
   },
   "outputs": [
    {
     "name": "stdout",
     "output_type": "stream",
     "text": [
      "<class 'pandas.core.frame.DataFrame'>\n",
      "RangeIndex: 730 entries, 0 to 729\n",
      "Data columns (total 6 columns):\n",
      " #   Column   Non-Null Count  Dtype         \n",
      "---  ------   --------------  -----         \n",
      " 0   STATION  730 non-null    object        \n",
      " 1   NAME     730 non-null    object        \n",
      " 2   DATE     730 non-null    datetime64[ns]\n",
      " 3   TAVG     730 non-null    int64         \n",
      " 4   TMAX     730 non-null    int64         \n",
      " 5   TMIN     730 non-null    int64         \n",
      "dtypes: datetime64[ns](1), int64(3), object(2)\n",
      "memory usage: 34.3+ KB\n"
     ]
    }
   ],
   "source": [
    "df_temperature=pd.read_csv(r'F:\\Ecobee\\smf_temp_18and19.csv', parse_dates=['DATE'])\n",
    "df_temperature.info()"
   ]
  },
  {
   "cell_type": "code",
   "execution_count": 18,
   "metadata": {
    "ExecuteTime": {
     "end_time": "2021-04-14T20:55:19.034650Z",
     "start_time": "2021-04-14T20:55:19.019646Z"
    }
   },
   "outputs": [
    {
     "data": {
      "text/html": [
       "<div>\n",
       "<style scoped>\n",
       "    .dataframe tbody tr th:only-of-type {\n",
       "        vertical-align: middle;\n",
       "    }\n",
       "\n",
       "    .dataframe tbody tr th {\n",
       "        vertical-align: top;\n",
       "    }\n",
       "\n",
       "    .dataframe thead th {\n",
       "        text-align: right;\n",
       "    }\n",
       "</style>\n",
       "<table border=\"1\" class=\"dataframe\">\n",
       "  <thead>\n",
       "    <tr style=\"text-align: right;\">\n",
       "      <th></th>\n",
       "      <th>STATION</th>\n",
       "      <th>NAME</th>\n",
       "      <th>DATE</th>\n",
       "      <th>TAVG</th>\n",
       "      <th>TMAX</th>\n",
       "      <th>TMIN</th>\n",
       "    </tr>\n",
       "  </thead>\n",
       "  <tbody>\n",
       "    <tr>\n",
       "      <th>0</th>\n",
       "      <td>USW00023232</td>\n",
       "      <td>SACRAMENTO AIRPORT ASOS, CA US</td>\n",
       "      <td>2018-01-01</td>\n",
       "      <td>49</td>\n",
       "      <td>65</td>\n",
       "      <td>38</td>\n",
       "    </tr>\n",
       "    <tr>\n",
       "      <th>1</th>\n",
       "      <td>USW00023232</td>\n",
       "      <td>SACRAMENTO AIRPORT ASOS, CA US</td>\n",
       "      <td>2018-01-02</td>\n",
       "      <td>48</td>\n",
       "      <td>59</td>\n",
       "      <td>39</td>\n",
       "    </tr>\n",
       "    <tr>\n",
       "      <th>2</th>\n",
       "      <td>USW00023232</td>\n",
       "      <td>SACRAMENTO AIRPORT ASOS, CA US</td>\n",
       "      <td>2018-01-03</td>\n",
       "      <td>50</td>\n",
       "      <td>57</td>\n",
       "      <td>40</td>\n",
       "    </tr>\n",
       "    <tr>\n",
       "      <th>3</th>\n",
       "      <td>USW00023232</td>\n",
       "      <td>SACRAMENTO AIRPORT ASOS, CA US</td>\n",
       "      <td>2018-01-04</td>\n",
       "      <td>55</td>\n",
       "      <td>65</td>\n",
       "      <td>49</td>\n",
       "    </tr>\n",
       "    <tr>\n",
       "      <th>4</th>\n",
       "      <td>USW00023232</td>\n",
       "      <td>SACRAMENTO AIRPORT ASOS, CA US</td>\n",
       "      <td>2018-01-05</td>\n",
       "      <td>55</td>\n",
       "      <td>60</td>\n",
       "      <td>50</td>\n",
       "    </tr>\n",
       "  </tbody>\n",
       "</table>\n",
       "</div>"
      ],
      "text/plain": [
       "       STATION                            NAME       DATE  TAVG  TMAX  TMIN\n",
       "0  USW00023232  SACRAMENTO AIRPORT ASOS, CA US 2018-01-01    49    65    38\n",
       "1  USW00023232  SACRAMENTO AIRPORT ASOS, CA US 2018-01-02    48    59    39\n",
       "2  USW00023232  SACRAMENTO AIRPORT ASOS, CA US 2018-01-03    50    57    40\n",
       "3  USW00023232  SACRAMENTO AIRPORT ASOS, CA US 2018-01-04    55    65    49\n",
       "4  USW00023232  SACRAMENTO AIRPORT ASOS, CA US 2018-01-05    55    60    50"
      ]
     },
     "execution_count": 18,
     "metadata": {},
     "output_type": "execute_result"
    }
   ],
   "source": [
    "df_temperature.head()"
   ]
  },
  {
   "cell_type": "code",
   "execution_count": 19,
   "metadata": {
    "ExecuteTime": {
     "end_time": "2021-04-14T20:55:19.050653Z",
     "start_time": "2021-04-14T20:55:19.035650Z"
    }
   },
   "outputs": [
    {
     "data": {
      "text/html": [
       "<div>\n",
       "<style scoped>\n",
       "    .dataframe tbody tr th:only-of-type {\n",
       "        vertical-align: middle;\n",
       "    }\n",
       "\n",
       "    .dataframe tbody tr th {\n",
       "        vertical-align: top;\n",
       "    }\n",
       "\n",
       "    .dataframe thead th {\n",
       "        text-align: right;\n",
       "    }\n",
       "</style>\n",
       "<table border=\"1\" class=\"dataframe\">\n",
       "  <thead>\n",
       "    <tr style=\"text-align: right;\">\n",
       "      <th></th>\n",
       "      <th>Date</th>\n",
       "      <th>daily_total_heating</th>\n",
       "      <th>daily_total_cooling</th>\n",
       "      <th>user_id</th>\n",
       "      <th>count</th>\n",
       "      <th>STATION</th>\n",
       "      <th>NAME</th>\n",
       "      <th>DATE</th>\n",
       "      <th>TAVG</th>\n",
       "      <th>TMAX</th>\n",
       "      <th>TMIN</th>\n",
       "    </tr>\n",
       "  </thead>\n",
       "  <tbody>\n",
       "    <tr>\n",
       "      <th>0</th>\n",
       "      <td>2018-06-01</td>\n",
       "      <td>0.0</td>\n",
       "      <td>0.000000</td>\n",
       "      <td>0038e4cc0089e5a289601a79af4b6c6f2c9efc97</td>\n",
       "      <td>243</td>\n",
       "      <td>USW00023232</td>\n",
       "      <td>SACRAMENTO AIRPORT ASOS, CA US</td>\n",
       "      <td>2018-06-01</td>\n",
       "      <td>65</td>\n",
       "      <td>86</td>\n",
       "      <td>49</td>\n",
       "    </tr>\n",
       "    <tr>\n",
       "      <th>1</th>\n",
       "      <td>2018-06-02</td>\n",
       "      <td>0.0</td>\n",
       "      <td>0.162500</td>\n",
       "      <td>0038e4cc0089e5a289601a79af4b6c6f2c9efc97</td>\n",
       "      <td>243</td>\n",
       "      <td>USW00023232</td>\n",
       "      <td>SACRAMENTO AIRPORT ASOS, CA US</td>\n",
       "      <td>2018-06-02</td>\n",
       "      <td>74</td>\n",
       "      <td>96</td>\n",
       "      <td>55</td>\n",
       "    </tr>\n",
       "    <tr>\n",
       "      <th>2</th>\n",
       "      <td>2018-06-03</td>\n",
       "      <td>0.0</td>\n",
       "      <td>0.845833</td>\n",
       "      <td>0038e4cc0089e5a289601a79af4b6c6f2c9efc97</td>\n",
       "      <td>243</td>\n",
       "      <td>USW00023232</td>\n",
       "      <td>SACRAMENTO AIRPORT ASOS, CA US</td>\n",
       "      <td>2018-06-03</td>\n",
       "      <td>78</td>\n",
       "      <td>98</td>\n",
       "      <td>58</td>\n",
       "    </tr>\n",
       "    <tr>\n",
       "      <th>3</th>\n",
       "      <td>2018-06-04</td>\n",
       "      <td>0.0</td>\n",
       "      <td>1.654167</td>\n",
       "      <td>0038e4cc0089e5a289601a79af4b6c6f2c9efc97</td>\n",
       "      <td>243</td>\n",
       "      <td>USW00023232</td>\n",
       "      <td>SACRAMENTO AIRPORT ASOS, CA US</td>\n",
       "      <td>2018-06-04</td>\n",
       "      <td>76</td>\n",
       "      <td>89</td>\n",
       "      <td>58</td>\n",
       "    </tr>\n",
       "    <tr>\n",
       "      <th>4</th>\n",
       "      <td>2018-06-05</td>\n",
       "      <td>0.0</td>\n",
       "      <td>0.308333</td>\n",
       "      <td>0038e4cc0089e5a289601a79af4b6c6f2c9efc97</td>\n",
       "      <td>243</td>\n",
       "      <td>USW00023232</td>\n",
       "      <td>SACRAMENTO AIRPORT ASOS, CA US</td>\n",
       "      <td>2018-06-05</td>\n",
       "      <td>67</td>\n",
       "      <td>84</td>\n",
       "      <td>53</td>\n",
       "    </tr>\n",
       "  </tbody>\n",
       "</table>\n",
       "</div>"
      ],
      "text/plain": [
       "        Date  daily_total_heating  daily_total_cooling  \\\n",
       "0 2018-06-01                  0.0             0.000000   \n",
       "1 2018-06-02                  0.0             0.162500   \n",
       "2 2018-06-03                  0.0             0.845833   \n",
       "3 2018-06-04                  0.0             1.654167   \n",
       "4 2018-06-05                  0.0             0.308333   \n",
       "\n",
       "                                    user_id  count      STATION  \\\n",
       "0  0038e4cc0089e5a289601a79af4b6c6f2c9efc97    243  USW00023232   \n",
       "1  0038e4cc0089e5a289601a79af4b6c6f2c9efc97    243  USW00023232   \n",
       "2  0038e4cc0089e5a289601a79af4b6c6f2c9efc97    243  USW00023232   \n",
       "3  0038e4cc0089e5a289601a79af4b6c6f2c9efc97    243  USW00023232   \n",
       "4  0038e4cc0089e5a289601a79af4b6c6f2c9efc97    243  USW00023232   \n",
       "\n",
       "                             NAME       DATE  TAVG  TMAX  TMIN  \n",
       "0  SACRAMENTO AIRPORT ASOS, CA US 2018-06-01    65    86    49  \n",
       "1  SACRAMENTO AIRPORT ASOS, CA US 2018-06-02    74    96    55  \n",
       "2  SACRAMENTO AIRPORT ASOS, CA US 2018-06-03    78    98    58  \n",
       "3  SACRAMENTO AIRPORT ASOS, CA US 2018-06-04    76    89    58  \n",
       "4  SACRAMENTO AIRPORT ASOS, CA US 2018-06-05    67    84    53  "
      ]
     },
     "execution_count": 19,
     "metadata": {},
     "output_type": "execute_result"
    }
   ],
   "source": [
    "df_sac_18n19_daily_nonpeak_w_temperature=pd.merge(df_sac_18n19_daily_nonpeak,df_temperature,how='left', left_on='Date', right_on='DATE')\n",
    "df_sac_18n19_daily_nonpeak_w_temperature.head()"
   ]
  },
  {
   "cell_type": "code",
   "execution_count": 20,
   "metadata": {
    "ExecuteTime": {
     "end_time": "2021-04-14T20:55:19.066657Z",
     "start_time": "2021-04-14T20:55:19.051654Z"
    }
   },
   "outputs": [],
   "source": [
    "df_sac_18n19_daily_nonpeak_w_temperature[\n",
    "    'TAVG_less_62'] = df_sac_18n19_daily_nonpeak_w_temperature['TAVG'] - 62\n",
    "df_sac_18n19_daily_nonpeak_w_temperature[\n",
    "    'TAVG_less_62'] = df_sac_18n19_daily_nonpeak_w_temperature[\n",
    "        'TAVG_less_62'].apply(lambda x: x if x > 0 else 0)"
   ]
  },
  {
   "cell_type": "code",
   "execution_count": 21,
   "metadata": {
    "ExecuteTime": {
     "end_time": "2021-04-14T20:55:19.098664Z",
     "start_time": "2021-04-14T20:55:19.067657Z"
    }
   },
   "outputs": [
    {
     "data": {
      "text/html": [
       "<div>\n",
       "<style scoped>\n",
       "    .dataframe tbody tr th:only-of-type {\n",
       "        vertical-align: middle;\n",
       "    }\n",
       "\n",
       "    .dataframe tbody tr th {\n",
       "        vertical-align: top;\n",
       "    }\n",
       "\n",
       "    .dataframe thead th {\n",
       "        text-align: right;\n",
       "    }\n",
       "</style>\n",
       "<table border=\"1\" class=\"dataframe\">\n",
       "  <thead>\n",
       "    <tr style=\"text-align: right;\">\n",
       "      <th></th>\n",
       "      <th>daily_total_heating</th>\n",
       "      <th>daily_total_cooling</th>\n",
       "      <th>count</th>\n",
       "      <th>TAVG</th>\n",
       "      <th>TMAX</th>\n",
       "      <th>TMIN</th>\n",
       "      <th>TAVG_less_62</th>\n",
       "      <th>y2019</th>\n",
       "    </tr>\n",
       "  </thead>\n",
       "  <tbody>\n",
       "    <tr>\n",
       "      <th>count</th>\n",
       "      <td>31812.000000</td>\n",
       "      <td>31812.000000</td>\n",
       "      <td>31812.000000</td>\n",
       "      <td>31812.000000</td>\n",
       "      <td>31812.000000</td>\n",
       "      <td>31812.000000</td>\n",
       "      <td>31812.000000</td>\n",
       "      <td>31812.000000</td>\n",
       "    </tr>\n",
       "    <tr>\n",
       "      <th>mean</th>\n",
       "      <td>0.001625</td>\n",
       "      <td>0.486175</td>\n",
       "      <td>242.840689</td>\n",
       "      <td>72.719917</td>\n",
       "      <td>90.369860</td>\n",
       "      <td>58.489092</td>\n",
       "      <td>10.756978</td>\n",
       "      <td>0.497894</td>\n",
       "    </tr>\n",
       "    <tr>\n",
       "      <th>std</th>\n",
       "      <td>0.041635</td>\n",
       "      <td>0.963393</td>\n",
       "      <td>0.489897</td>\n",
       "      <td>5.188728</td>\n",
       "      <td>7.238272</td>\n",
       "      <td>4.005039</td>\n",
       "      <td>5.098138</td>\n",
       "      <td>0.500003</td>\n",
       "    </tr>\n",
       "    <tr>\n",
       "      <th>min</th>\n",
       "      <td>0.000000</td>\n",
       "      <td>0.000000</td>\n",
       "      <td>241.000000</td>\n",
       "      <td>58.000000</td>\n",
       "      <td>69.000000</td>\n",
       "      <td>45.000000</td>\n",
       "      <td>0.000000</td>\n",
       "      <td>0.000000</td>\n",
       "    </tr>\n",
       "    <tr>\n",
       "      <th>25%</th>\n",
       "      <td>0.000000</td>\n",
       "      <td>0.000000</td>\n",
       "      <td>243.000000</td>\n",
       "      <td>69.000000</td>\n",
       "      <td>86.000000</td>\n",
       "      <td>56.000000</td>\n",
       "      <td>7.000000</td>\n",
       "      <td>0.000000</td>\n",
       "    </tr>\n",
       "    <tr>\n",
       "      <th>50%</th>\n",
       "      <td>0.000000</td>\n",
       "      <td>0.000000</td>\n",
       "      <td>243.000000</td>\n",
       "      <td>73.000000</td>\n",
       "      <td>91.000000</td>\n",
       "      <td>58.000000</td>\n",
       "      <td>11.000000</td>\n",
       "      <td>0.000000</td>\n",
       "    </tr>\n",
       "    <tr>\n",
       "      <th>75%</th>\n",
       "      <td>0.000000</td>\n",
       "      <td>0.608333</td>\n",
       "      <td>243.000000</td>\n",
       "      <td>76.000000</td>\n",
       "      <td>96.000000</td>\n",
       "      <td>61.000000</td>\n",
       "      <td>14.000000</td>\n",
       "      <td>1.000000</td>\n",
       "    </tr>\n",
       "    <tr>\n",
       "      <th>max</th>\n",
       "      <td>3.995833</td>\n",
       "      <td>12.000000</td>\n",
       "      <td>243.000000</td>\n",
       "      <td>86.000000</td>\n",
       "      <td>105.000000</td>\n",
       "      <td>69.000000</td>\n",
       "      <td>24.000000</td>\n",
       "      <td>1.000000</td>\n",
       "    </tr>\n",
       "  </tbody>\n",
       "</table>\n",
       "</div>"
      ],
      "text/plain": [
       "       daily_total_heating  daily_total_cooling         count          TAVG  \\\n",
       "count         31812.000000         31812.000000  31812.000000  31812.000000   \n",
       "mean              0.001625             0.486175    242.840689     72.719917   \n",
       "std               0.041635             0.963393      0.489897      5.188728   \n",
       "min               0.000000             0.000000    241.000000     58.000000   \n",
       "25%               0.000000             0.000000    243.000000     69.000000   \n",
       "50%               0.000000             0.000000    243.000000     73.000000   \n",
       "75%               0.000000             0.608333    243.000000     76.000000   \n",
       "max               3.995833            12.000000    243.000000     86.000000   \n",
       "\n",
       "               TMAX          TMIN  TAVG_less_62         y2019  \n",
       "count  31812.000000  31812.000000  31812.000000  31812.000000  \n",
       "mean      90.369860     58.489092     10.756978      0.497894  \n",
       "std        7.238272      4.005039      5.098138      0.500003  \n",
       "min       69.000000     45.000000      0.000000      0.000000  \n",
       "25%       86.000000     56.000000      7.000000      0.000000  \n",
       "50%       91.000000     58.000000     11.000000      0.000000  \n",
       "75%       96.000000     61.000000     14.000000      1.000000  \n",
       "max      105.000000     69.000000     24.000000      1.000000  "
      ]
     },
     "execution_count": 21,
     "metadata": {},
     "output_type": "execute_result"
    }
   ],
   "source": [
    "df_sac_18n19_daily_nonpeak_w_temperature['y2019'] = np.where(\n",
    "    df_sac_18n19_daily_nonpeak_w_temperature['Date'].dt.year == 2019, 1, 0)\n",
    "# [df_sac_18n19_daily_nonpeak_w_temperature['Date'].dt.year==2019]\n",
    "df_sac_18n19_daily_nonpeak_w_temperature.describe()"
   ]
  },
  {
   "cell_type": "code",
   "execution_count": 22,
   "metadata": {
    "ExecuteTime": {
     "end_time": "2021-04-14T20:55:19.114668Z",
     "start_time": "2021-04-14T20:55:19.099664Z"
    }
   },
   "outputs": [],
   "source": [
    "df_sac_18n19_daily_nonpeak_w_temperature[\n",
    "    'interaction'] = df_sac_18n19_daily_nonpeak_w_temperature[\n",
    "        'TAVG_less_62'] * df_sac_18n19_daily_nonpeak_w_temperature['y2019']"
   ]
  },
  {
   "cell_type": "code",
   "execution_count": 23,
   "metadata": {
    "ExecuteTime": {
     "end_time": "2021-04-14T20:55:19.338717Z",
     "start_time": "2021-04-14T20:55:19.115668Z"
    }
   },
   "outputs": [
    {
     "data": {
      "text/html": [
       "<div>\n",
       "<style scoped>\n",
       "    .dataframe tbody tr th:only-of-type {\n",
       "        vertical-align: middle;\n",
       "    }\n",
       "\n",
       "    .dataframe tbody tr th {\n",
       "        vertical-align: top;\n",
       "    }\n",
       "\n",
       "    .dataframe thead th {\n",
       "        text-align: right;\n",
       "    }\n",
       "</style>\n",
       "<table border=\"1\" class=\"dataframe\">\n",
       "  <thead>\n",
       "    <tr style=\"text-align: right;\">\n",
       "      <th></th>\n",
       "      <th>user_id</th>\n",
       "      <th>TAVG_less_62</th>\n",
       "      <th>interaction</th>\n",
       "      <th>intercept</th>\n",
       "    </tr>\n",
       "  </thead>\n",
       "  <tbody>\n",
       "    <tr>\n",
       "      <th>0</th>\n",
       "      <td>0038e4cc0089e5a289601a79af4b6c6f2c9efc97</td>\n",
       "      <td>0.090409</td>\n",
       "      <td>-0.052959</td>\n",
       "      <td>-0.228739</td>\n",
       "    </tr>\n",
       "    <tr>\n",
       "      <th>1</th>\n",
       "      <td>00e2f68ec737f7480114a67bbef7c5f65b6b8516</td>\n",
       "      <td>0.013959</td>\n",
       "      <td>-0.003433</td>\n",
       "      <td>-0.060192</td>\n",
       "    </tr>\n",
       "    <tr>\n",
       "      <th>2</th>\n",
       "      <td>01479a9a84e1722791f2b440f6d4f14f51025499</td>\n",
       "      <td>0.053622</td>\n",
       "      <td>0.020124</td>\n",
       "      <td>-0.280388</td>\n",
       "    </tr>\n",
       "    <tr>\n",
       "      <th>3</th>\n",
       "      <td>0150a428f7cc891b6a69cb7db390869c96a24f1d</td>\n",
       "      <td>0.026873</td>\n",
       "      <td>0.163475</td>\n",
       "      <td>-0.254683</td>\n",
       "    </tr>\n",
       "    <tr>\n",
       "      <th>4</th>\n",
       "      <td>0614c5d47de23d61b21be2141907668a54bf45a0</td>\n",
       "      <td>0.087290</td>\n",
       "      <td>0.167151</td>\n",
       "      <td>-0.462331</td>\n",
       "    </tr>\n",
       "  </tbody>\n",
       "</table>\n",
       "</div>"
      ],
      "text/plain": [
       "                                    user_id  TAVG_less_62  interaction  \\\n",
       "0  0038e4cc0089e5a289601a79af4b6c6f2c9efc97      0.090409    -0.052959   \n",
       "1  00e2f68ec737f7480114a67bbef7c5f65b6b8516      0.013959    -0.003433   \n",
       "2  01479a9a84e1722791f2b440f6d4f14f51025499      0.053622     0.020124   \n",
       "3  0150a428f7cc891b6a69cb7db390869c96a24f1d      0.026873     0.163475   \n",
       "4  0614c5d47de23d61b21be2141907668a54bf45a0      0.087290     0.167151   \n",
       "\n",
       "   intercept  \n",
       "0  -0.228739  \n",
       "1  -0.060192  \n",
       "2  -0.280388  \n",
       "3  -0.254683  \n",
       "4  -0.462331  "
      ]
     },
     "execution_count": 23,
     "metadata": {},
     "output_type": "execute_result"
    }
   ],
   "source": [
    "import statsmodels.api as sm\n",
    "\n",
    "\n",
    "def regress(data, yvar, xvars):\n",
    "    Y = data[yvar]\n",
    "    X = data[xvars]\n",
    "    X['intercept'] = 1.\n",
    "    result = sm.OLS(Y, X).fit(cov_type='HC1')\n",
    "    return result.params\n",
    "\n",
    "\n",
    "#This is what you need\n",
    "results=df_sac_18n19_daily_nonpeak_w_temperature.groupby('user_id').apply(\n",
    "    regress, 'daily_total_cooling', ['TAVG_less_62','interaction']).reset_index()\n",
    "results.head()"
   ]
  },
  {
   "cell_type": "code",
   "execution_count": 24,
   "metadata": {
    "ExecuteTime": {
     "end_time": "2021-04-14T20:55:19.562768Z",
     "start_time": "2021-04-14T20:55:19.342718Z"
    }
   },
   "outputs": [
    {
     "data": {
      "text/plain": [
       "<matplotlib.legend.Legend at 0x21655ea4280>"
      ]
     },
     "execution_count": 24,
     "metadata": {},
     "output_type": "execute_result"
    },
    {
     "data": {
      "image/png": "[encoded data removed]",
      "text/plain": [
       "<Figure size 1296x720 with 1 Axes>"
      ]
     },
     "metadata": {
      "needs_background": "light"
     },
     "output_type": "display_data"
    }
   ],
   "source": [
    "# x axis range\n",
    "x = range(len(results))\n",
    "plt.figure(figsize=(18, 10))\n",
    "# y2\n",
    "plt.plot(x, results['TAVG_less_62'], label='coeff:TAVG_less_62')\n",
    "# y2\n",
    "plt.plot(x, results['interaction'], label='coeff:interaction')\n",
    "# y=0 line\n",
    "plt.plot(x, [0] * len(results))\n",
    "plt.legend(loc=\"upper left\")"
   ]
  },
  {
   "cell_type": "code",
   "execution_count": 25,
   "metadata": {},
   "outputs": [
    {
     "data": {
      "image/png": "[encoded data removed]",
      "text/plain": [
       "<Figure size 432x288 with 1 Axes>"
      ]
     },
     "metadata": {
      "needs_background": "light"
     },
     "output_type": "display_data"
    }
   ],
   "source": [
    "plt.hist(results['interaction'], 50, density=True, facecolor='g', alpha=0.75)\n",
    "plt.xlabel('interaction coeffs')\n",
    "plt.ylabel('Probability')\n",
    "plt.title('Histogram of Individual Response:(Runtime in Off-Peak)')\n",
    "plt.grid(True)\n",
    "plt.show()"
   ]
  },
  {
   "cell_type": "code",
   "execution_count": 26,
   "metadata": {
    "ExecuteTime": {
     "end_time": "2021-04-14T20:55:19.578771Z",
     "start_time": "2021-04-14T20:55:19.564768Z"
    }
   },
   "outputs": [
    {
     "name": "stdout",
     "output_type": "stream",
     "text": [
      "user_id         44\n",
      "TAVG_less_62    44\n",
      "interaction     44\n",
      "intercept       44\n",
      "dtype: int64\n",
      "user_id         23\n",
      "TAVG_less_62    23\n",
      "interaction     23\n",
      "intercept       23\n",
      "dtype: int64\n"
     ]
    }
   ],
   "source": [
    "print(results[results.interaction > 0.01].count())\n",
    "print(results[results.interaction < -0.01].count())"
   ]
  },
  {
   "cell_type": "code",
   "execution_count": 27,
   "metadata": {
    "ExecuteTime": {
     "end_time": "2021-04-14T20:55:19.594774Z",
     "start_time": "2021-04-14T20:55:19.579772Z"
    }
   },
   "outputs": [
    {
     "name": "stdout",
     "output_type": "stream",
     "text": [
      "1.8281288760698007\n",
      "-0.9232919291947715\n"
     ]
    }
   ],
   "source": [
    "print(results['interaction'][results.interaction > 0.01].sum())\n",
    "print(results['interaction'][results.interaction < -0.01].sum())\n",
    "# the sum of negative interaction coefficients has a larger scale"
   ]
  },
  {
   "cell_type": "code",
   "execution_count": 28,
   "metadata": {
    "ExecuteTime": {
     "end_time": "2021-04-14T20:55:19.610778Z",
     "start_time": "2021-04-14T20:55:19.595775Z"
    }
   },
   "outputs": [
    {
     "name": "stdout",
     "output_type": "stream",
     "text": [
      "                             OLS Regression Results                            \n",
      "===============================================================================\n",
      "Dep. Variable:     daily_total_cooling   R-squared:                       0.126\n",
      "Model:                             OLS   Adj. R-squared:                  0.126\n",
      "Method:                  Least Squares   F-statistic:                     1684.\n",
      "Date:                 Wed, 21 Apr 2021   Prob (F-statistic):               0.00\n",
      "Time:                         09:57:29   Log-Likelihood:                -41808.\n",
      "No. Observations:                31812   AIC:                         8.362e+04\n",
      "Df Residuals:                    31809   BIC:                         8.365e+04\n",
      "Df Model:                            2                                         \n",
      "Covariance Type:                   HC1                                         \n",
      "================================================================================\n",
      "                   coef    std err          z      P>|z|      [0.025      0.975]\n",
      "--------------------------------------------------------------------------------\n",
      "TAVG_less_62     0.0615      0.001     48.109      0.000       0.059       0.064\n",
      "interaction      0.0074      0.001      6.944      0.000       0.005       0.009\n",
      "const           -0.2179      0.010    -21.440      0.000      -0.238      -0.198\n",
      "==============================================================================\n",
      "Omnibus:                    26656.882   Durbin-Watson:                   0.585\n",
      "Prob(Omnibus):                  0.000   Jarque-Bera (JB):          1097347.563\n",
      "Skew:                           3.826   Prob(JB):                         0.00\n",
      "Kurtosis:                      30.736   Cond. No.                         33.1\n",
      "==============================================================================\n",
      "\n",
      "Notes:\n",
      "[1] Standard Errors are heteroscedasticity robust (HC1)\n"
     ]
    }
   ],
   "source": [
    "df_sac_18n19_daily_nonpeak_w_temperature['const']=1\n",
    "reg1 = sm.OLS(endog=df_sac_18n19_daily_nonpeak_w_temperature['daily_total_cooling'], \\\n",
    "              exog=df_sac_18n19_daily_nonpeak_w_temperature[['TAVG_less_62','interaction','const']], \\\n",
    "    missing='drop')\n",
    "reg_result = reg1.fit(cov_type='HC1')\n",
    "print(reg_result.summary())\n",
    "#Off-peak hours: Midnight to Noon (not removing zero consumption)\n",
    "#2019 consumption INCREASED (by 12%)"
   ]
  },
  {
   "cell_type": "code",
   "execution_count": 29,
   "metadata": {
    "ExecuteTime": {
     "end_time": "2021-04-14T20:55:19.626782Z",
     "start_time": "2021-04-14T20:55:19.611778Z"
    }
   },
   "outputs": [
    {
     "data": {
      "text/plain": [
       "131"
      ]
     },
     "execution_count": 29,
     "metadata": {},
     "output_type": "execute_result"
    }
   ],
   "source": [
    "df_sac_18n19_daily_nonpeak.user_id.nunique()"
   ]
  },
  {
   "cell_type": "markdown",
   "metadata": {},
   "source": [
    "# Non-peak hours: \n",
    "2019 consumption INCREASED (12%), OFFSETTING (69.1%=74/107) peak hours savings (assuming equivalent working power of AC cooling); but can still be effective because of higher generation costs in peak hours"
   ]
  },
  {
   "cell_type": "code",
   "execution_count": null,
   "metadata": {},
   "outputs": [],
   "source": []
  },
  {
   "cell_type": "code",
   "execution_count": null,
   "metadata": {},
   "outputs": [],
   "source": []
  },
  {
   "cell_type": "code",
   "execution_count": null,
   "metadata": {},
   "outputs": [],
   "source": []
  }
 ],
 "metadata": {
  "kernelspec": {
   "display_name": "Python 3",
   "language": "python",
   "name": "python3"
  },
  "language_info": {
   "codemirror_mode": {
    "name": "ipython",
    "version": 3
   },
   "file_extension": ".py",
   "mimetype": "text/x-python",
   "name": "python",
   "nbconvert_exporter": "python",
   "pygments_lexer": "ipython3",
   "version": "3.8.5"
  },
  "varInspector": {
   "cols": {
    "lenName": 16,
    "lenType": 16,
    "lenVar": 40
   },
   "kernels_config": {
    "python": {
     "delete_cmd_postfix": "",
     "delete_cmd_prefix": "del ",
     "library": "var_list.py",
     "varRefreshCmd": "print(var_dic_list())"
    },
    "r": {
     "delete_cmd_postfix": ") ",
     "delete_cmd_prefix": "rm(",
     "library": "var_list.r",
     "varRefreshCmd": "cat(var_dic_list()) "
    }
   },
   "types_to_exclude": [
    "module",
    "function",
    "builtin_function_or_method",
    "instance",
    "_Feature"
   ],
   "window_display": false
  }
 },
 "nbformat": 4,
 "nbformat_minor": 4
}
